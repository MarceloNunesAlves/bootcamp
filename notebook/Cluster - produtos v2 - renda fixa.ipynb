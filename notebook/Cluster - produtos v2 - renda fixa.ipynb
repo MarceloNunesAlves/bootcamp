{
 "cells": [
  {
   "cell_type": "markdown",
   "metadata": {
    "colab_type": "text",
    "id": "aS2e6DEnGQT1"
   },
   "source": [
    "# Cluster de produtos"
   ]
  },
  {
   "cell_type": "markdown",
   "metadata": {
    "colab_type": "text",
    "id": "SQuu1yVYGVIU"
   },
   "source": [
    "O objetivo do cluster de produtos e idenficar quais produtos sao similares e que nao deverao ser oferecido juntos.\n",
    "\n",
    "Importacao das bibliotecas necessarias"
   ]
  },
  {
   "cell_type": "code",
   "execution_count": 1,
   "metadata": {
    "colab": {},
    "colab_type": "code",
    "id": "newu4ROyFe0u"
   },
   "outputs": [],
   "source": [
    "import numpy as np \n",
    "import pandas as pd\n",
    "%matplotlib inline\n",
    "import matplotlib.pyplot as plt\n",
    "from matplotlib import transforms\n",
    "import seaborn as sns\n",
    "from sklearn.neighbors import NearestNeighbors\n",
    "from sklearn.preprocessing import StandardScaler\n",
    "from sklearn.cluster import KMeans\n",
    "from sklearn.model_selection import train_test_split\n",
    "\n",
    "sns.set_style('whitegrid', {\"axes.grid\" : False})\n",
    "sns.set_context('notebook')\n",
    "np.random.seed(42)\n",
    "\n",
    "pd.set_option('display.max_columns', None)"
   ]
  },
  {
   "cell_type": "code",
   "execution_count": 2,
   "metadata": {
    "colab": {},
    "colab_type": "code",
    "id": "WnbfGWS8BSui"
   },
   "outputs": [],
   "source": [
    "Dataset3 = pd.read_csv(\"../repository/renda_fixa_new.csv\",sep=';')"
   ]
  },
  {
   "cell_type": "markdown",
   "metadata": {
    "colab_type": "text",
    "id": "w4h7ivwyGt-6"
   },
   "source": [
    "Segue abaixo uma visualizacao dos dados que serao utilizadas no treinamento e teste."
   ]
  },
  {
   "cell_type": "code",
   "execution_count": 3,
   "metadata": {
    "colab": {
     "base_uri": "https://localhost:8080/",
     "height": 224
    },
    "colab_type": "code",
    "executionInfo": {
     "elapsed": 675,
     "status": "ok",
     "timestamp": 1585785525194,
     "user": {
      "displayName": "Marcelo Nunes Alves",
      "photoUrl": "https://lh3.googleusercontent.com/a-/AOh14Ggg7j8UpQCWjd1mjJepuWNjOO1BULs-g6UsERA1vQ=s64",
      "userId": "09811685755861607483"
     },
     "user_tz": 180
    },
    "id": "mTUV5a8mM0WW",
    "outputId": "a426ca48-3300-4b16-e851-ea764fee6bbb"
   },
   "outputs": [
    {
     "data": {
      "text/html": [
       "<div>\n",
       "<style scoped>\n",
       "    .dataframe tbody tr th:only-of-type {\n",
       "        vertical-align: middle;\n",
       "    }\n",
       "\n",
       "    .dataframe tbody tr th {\n",
       "        vertical-align: top;\n",
       "    }\n",
       "\n",
       "    .dataframe thead th {\n",
       "        text-align: right;\n",
       "    }\n",
       "</style>\n",
       "<table border=\"1\" class=\"dataframe\">\n",
       "  <thead>\n",
       "    <tr style=\"text-align: right;\">\n",
       "      <th></th>\n",
       "      <th>DescontoIR__c</th>\n",
       "      <th>DescricaoCarencia__c</th>\n",
       "      <th>DescricaoEmissor__c</th>\n",
       "      <th>DescricaoProduto__c</th>\n",
       "      <th>DiasVencimento__c</th>\n",
       "      <th>FiltroValorMinimo__c</th>\n",
       "      <th>ProdutoId</th>\n",
       "      <th>RiscoAtivo__c</th>\n",
       "      <th>TaxaEmissao__c</th>\n",
       "      <th>TaxaPreEmissao__c</th>\n",
       "      <th>TipoIndexador__c</th>\n",
       "      <th>Indice_Basileia</th>\n",
       "      <th>Indice_Imobilizacao</th>\n",
       "    </tr>\n",
       "  </thead>\n",
       "  <tbody>\n",
       "    <tr>\n",
       "      <td>0</td>\n",
       "      <td>15.0</td>\n",
       "      <td>No venc.</td>\n",
       "      <td>BANCO BS2 S.A.</td>\n",
       "      <td>CDB POS</td>\n",
       "      <td>1081.0</td>\n",
       "      <td>1000.0</td>\n",
       "      <td>a0W3u000009PC0MEAW</td>\n",
       "      <td>2.0</td>\n",
       "      <td>125.00</td>\n",
       "      <td>0.00</td>\n",
       "      <td>CDI</td>\n",
       "      <td>0.1132</td>\n",
       "      <td>0.1739</td>\n",
       "    </tr>\n",
       "    <tr>\n",
       "      <td>1</td>\n",
       "      <td>15.0</td>\n",
       "      <td>No venc.</td>\n",
       "      <td>BANCO INDUSVAL S.A.</td>\n",
       "      <td>CDB POS</td>\n",
       "      <td>721.0</td>\n",
       "      <td>5000.0</td>\n",
       "      <td>a0W3u000009PCASEA4</td>\n",
       "      <td>4.0</td>\n",
       "      <td>122.00</td>\n",
       "      <td>0.00</td>\n",
       "      <td>CDI</td>\n",
       "      <td>0.0197</td>\n",
       "      <td>1.0000</td>\n",
       "    </tr>\n",
       "    <tr>\n",
       "      <td>2</td>\n",
       "      <td>15.0</td>\n",
       "      <td>No venc.</td>\n",
       "      <td>BANCO ALFA S/A</td>\n",
       "      <td>CDB POS</td>\n",
       "      <td>721.0</td>\n",
       "      <td>5000.0</td>\n",
       "      <td>a0W3u000009PCAcEAO</td>\n",
       "      <td>2.0</td>\n",
       "      <td>103.25</td>\n",
       "      <td>0.00</td>\n",
       "      <td>CDI</td>\n",
       "      <td>0.2085</td>\n",
       "      <td>0.1440</td>\n",
       "    </tr>\n",
       "    <tr>\n",
       "      <td>3</td>\n",
       "      <td>15.0</td>\n",
       "      <td>No venc.</td>\n",
       "      <td>BANCO ALFA S/A</td>\n",
       "      <td>CDB POS</td>\n",
       "      <td>1081.0</td>\n",
       "      <td>5000.0</td>\n",
       "      <td>a0W3u000009PCArEAO</td>\n",
       "      <td>3.0</td>\n",
       "      <td>104.00</td>\n",
       "      <td>0.00</td>\n",
       "      <td>CDI</td>\n",
       "      <td>0.2085</td>\n",
       "      <td>0.1440</td>\n",
       "    </tr>\n",
       "    <tr>\n",
       "      <td>4</td>\n",
       "      <td>15.0</td>\n",
       "      <td>No venc.</td>\n",
       "      <td>BANCO PINE S.A.</td>\n",
       "      <td>CDB PRE</td>\n",
       "      <td>721.0</td>\n",
       "      <td>5000.0</td>\n",
       "      <td>a0W3u000009PCMNEA4</td>\n",
       "      <td>3.0</td>\n",
       "      <td>0.00</td>\n",
       "      <td>6.02</td>\n",
       "      <td>Pré fixado</td>\n",
       "      <td>0.1232</td>\n",
       "      <td>0.2278</td>\n",
       "    </tr>\n",
       "  </tbody>\n",
       "</table>\n",
       "</div>"
      ],
      "text/plain": [
       "   DescontoIR__c DescricaoCarencia__c  DescricaoEmissor__c  \\\n",
       "0           15.0             No venc.       BANCO BS2 S.A.   \n",
       "1           15.0             No venc.  BANCO INDUSVAL S.A.   \n",
       "2           15.0             No venc.       BANCO ALFA S/A   \n",
       "3           15.0             No venc.       BANCO ALFA S/A   \n",
       "4           15.0             No venc.      BANCO PINE S.A.   \n",
       "\n",
       "  DescricaoProduto__c  DiasVencimento__c  FiltroValorMinimo__c  \\\n",
       "0             CDB POS             1081.0                1000.0   \n",
       "1             CDB POS              721.0                5000.0   \n",
       "2             CDB POS              721.0                5000.0   \n",
       "3             CDB POS             1081.0                5000.0   \n",
       "4             CDB PRE              721.0                5000.0   \n",
       "\n",
       "            ProdutoId  RiscoAtivo__c  TaxaEmissao__c  TaxaPreEmissao__c  \\\n",
       "0  a0W3u000009PC0MEAW            2.0          125.00               0.00   \n",
       "1  a0W3u000009PCASEA4            4.0          122.00               0.00   \n",
       "2  a0W3u000009PCAcEAO            2.0          103.25               0.00   \n",
       "3  a0W3u000009PCArEAO            3.0          104.00               0.00   \n",
       "4  a0W3u000009PCMNEA4            3.0            0.00               6.02   \n",
       "\n",
       "  TipoIndexador__c  Indice_Basileia  Indice_Imobilizacao  \n",
       "0              CDI           0.1132               0.1739  \n",
       "1              CDI           0.0197               1.0000  \n",
       "2              CDI           0.2085               0.1440  \n",
       "3              CDI           0.2085               0.1440  \n",
       "4       Pré fixado           0.1232               0.2278  "
      ]
     },
     "execution_count": 3,
     "metadata": {},
     "output_type": "execute_result"
    }
   ],
   "source": [
    "Dataset3.head(5)"
   ]
  },
  {
   "cell_type": "markdown",
   "metadata": {
    "colab_type": "text",
    "id": "o5fo7bxaG6Fg"
   },
   "source": [
    "Foi realizado um processo de limpeza, onde foi removido os campos descritivos e os que contêm informações pertinentes apenas ao registro em questão."
   ]
  },
  {
   "cell_type": "code",
   "execution_count": 4,
   "metadata": {
    "colab": {},
    "colab_type": "code",
    "id": "sI4djQ9mNlcx"
   },
   "outputs": [],
   "source": [
    "#dumizar, normalizar e manter variaveis que quero dumizar\n",
    "produtos = Dataset3\n",
    "produtos = produtos.drop(['DescricaoEmissor__c', 'ProdutoId'], axis=1)\n",
    "# copiar colunas que quero manter antes de dumizar\n",
    "#DescontoIR__c\tDescricaoCarencia__c\tDescricaoEmissor__c\tDescricaoProduto__c\tDiasVencimento__c\tFiltroValorMinimo__c\tRiscoAtivo__c\tTaxaEmissao__c\tTaxaPreEmissao__c\tTipoIndexador__c\n",
    "\n",
    "\n",
    "produtos = pd.get_dummies(produtos)\n",
    "produtos\n",
    "\n",
    "scaler = StandardScaler()\n",
    "produtos['DiasVencimento_c_Scaler'] = 0\n",
    "produtos['FiltroValorMinimo_c_Scaler'] = 0\n",
    "\n",
    "produtos[['DiasVencimento_c_Scaler', 'FiltroValorMinimo_c_Scaler']] = scaler.fit_transform(produtos[['DiasVencimento__c', 'FiltroValorMinimo__c']])\n",
    "\n"
   ]
  },
  {
   "cell_type": "code",
   "execution_count": 5,
   "metadata": {
    "colab": {
     "base_uri": "https://localhost:8080/",
     "height": 419
    },
    "colab_type": "code",
    "executionInfo": {
     "elapsed": 899,
     "status": "ok",
     "timestamp": 1585785525448,
     "user": {
      "displayName": "Marcelo Nunes Alves",
      "photoUrl": "https://lh3.googleusercontent.com/a-/AOh14Ggg7j8UpQCWjd1mjJepuWNjOO1BULs-g6UsERA1vQ=s64",
      "userId": "09811685755861607483"
     },
     "user_tz": 180
    },
    "id": "DtdZB0VYsReL",
    "outputId": "e8c02e72-7837-45bd-e40c-41e24298a7a4"
   },
   "outputs": [
    {
     "data": {
      "text/html": [
       "<div>\n",
       "<style scoped>\n",
       "    .dataframe tbody tr th:only-of-type {\n",
       "        vertical-align: middle;\n",
       "    }\n",
       "\n",
       "    .dataframe tbody tr th {\n",
       "        vertical-align: top;\n",
       "    }\n",
       "\n",
       "    .dataframe thead th {\n",
       "        text-align: right;\n",
       "    }\n",
       "</style>\n",
       "<table border=\"1\" class=\"dataframe\">\n",
       "  <thead>\n",
       "    <tr style=\"text-align: right;\">\n",
       "      <th></th>\n",
       "      <th>RiscoAtivo__c</th>\n",
       "      <th>Indice_Basileia</th>\n",
       "      <th>Indice_Imobilizacao</th>\n",
       "      <th>DiasVencimento_c_Scaler</th>\n",
       "      <th>FiltroValorMinimo_c_Scaler</th>\n",
       "    </tr>\n",
       "  </thead>\n",
       "  <tbody>\n",
       "    <tr>\n",
       "      <td>0</td>\n",
       "      <td>2.0</td>\n",
       "      <td>0.1132</td>\n",
       "      <td>0.1739</td>\n",
       "      <td>0.435442</td>\n",
       "      <td>-0.929100</td>\n",
       "    </tr>\n",
       "    <tr>\n",
       "      <td>1</td>\n",
       "      <td>4.0</td>\n",
       "      <td>0.0197</td>\n",
       "      <td>1.0000</td>\n",
       "      <td>-0.234545</td>\n",
       "      <td>-0.034631</td>\n",
       "    </tr>\n",
       "    <tr>\n",
       "      <td>2</td>\n",
       "      <td>2.0</td>\n",
       "      <td>0.2085</td>\n",
       "      <td>0.1440</td>\n",
       "      <td>-0.234545</td>\n",
       "      <td>-0.034631</td>\n",
       "    </tr>\n",
       "    <tr>\n",
       "      <td>3</td>\n",
       "      <td>3.0</td>\n",
       "      <td>0.2085</td>\n",
       "      <td>0.1440</td>\n",
       "      <td>0.435442</td>\n",
       "      <td>-0.034631</td>\n",
       "    </tr>\n",
       "    <tr>\n",
       "      <td>4</td>\n",
       "      <td>3.0</td>\n",
       "      <td>0.1232</td>\n",
       "      <td>0.2278</td>\n",
       "      <td>-0.234545</td>\n",
       "      <td>-0.034631</td>\n",
       "    </tr>\n",
       "    <tr>\n",
       "      <td>...</td>\n",
       "      <td>...</td>\n",
       "      <td>...</td>\n",
       "      <td>...</td>\n",
       "      <td>...</td>\n",
       "      <td>...</td>\n",
       "    </tr>\n",
       "    <tr>\n",
       "      <td>221</td>\n",
       "      <td>2.0</td>\n",
       "      <td>0.2400</td>\n",
       "      <td>0.1179</td>\n",
       "      <td>-0.234545</td>\n",
       "      <td>-0.929100</td>\n",
       "    </tr>\n",
       "    <tr>\n",
       "      <td>222</td>\n",
       "      <td>2.0</td>\n",
       "      <td>0.2400</td>\n",
       "      <td>0.1179</td>\n",
       "      <td>0.435442</td>\n",
       "      <td>-0.929100</td>\n",
       "    </tr>\n",
       "    <tr>\n",
       "      <td>223</td>\n",
       "      <td>3.0</td>\n",
       "      <td>0.2400</td>\n",
       "      <td>0.1179</td>\n",
       "      <td>1.103567</td>\n",
       "      <td>-0.929100</td>\n",
       "    </tr>\n",
       "    <tr>\n",
       "      <td>224</td>\n",
       "      <td>3.0</td>\n",
       "      <td>0.2400</td>\n",
       "      <td>0.1179</td>\n",
       "      <td>1.777275</td>\n",
       "      <td>-0.929100</td>\n",
       "    </tr>\n",
       "    <tr>\n",
       "      <td>225</td>\n",
       "      <td>3.0</td>\n",
       "      <td>0.1315</td>\n",
       "      <td>0.0126</td>\n",
       "      <td>0.461497</td>\n",
       "      <td>-0.929100</td>\n",
       "    </tr>\n",
       "  </tbody>\n",
       "</table>\n",
       "<p>226 rows × 5 columns</p>\n",
       "</div>"
      ],
      "text/plain": [
       "     RiscoAtivo__c  Indice_Basileia  Indice_Imobilizacao  \\\n",
       "0              2.0           0.1132               0.1739   \n",
       "1              4.0           0.0197               1.0000   \n",
       "2              2.0           0.2085               0.1440   \n",
       "3              3.0           0.2085               0.1440   \n",
       "4              3.0           0.1232               0.2278   \n",
       "..             ...              ...                  ...   \n",
       "221            2.0           0.2400               0.1179   \n",
       "222            2.0           0.2400               0.1179   \n",
       "223            3.0           0.2400               0.1179   \n",
       "224            3.0           0.2400               0.1179   \n",
       "225            3.0           0.1315               0.0126   \n",
       "\n",
       "     DiasVencimento_c_Scaler  FiltroValorMinimo_c_Scaler  \n",
       "0                   0.435442                   -0.929100  \n",
       "1                  -0.234545                   -0.034631  \n",
       "2                  -0.234545                   -0.034631  \n",
       "3                   0.435442                   -0.034631  \n",
       "4                  -0.234545                   -0.034631  \n",
       "..                       ...                         ...  \n",
       "221                -0.234545                   -0.929100  \n",
       "222                 0.435442                   -0.929100  \n",
       "223                 1.103567                   -0.929100  \n",
       "224                 1.777275                   -0.929100  \n",
       "225                 0.461497                   -0.929100  \n",
       "\n",
       "[226 rows x 5 columns]"
      ]
     },
     "execution_count": 5,
     "metadata": {},
     "output_type": "execute_result"
    }
   ],
   "source": [
    "produtos = produtos[['RiscoAtivo__c', 'Indice_Basileia', 'Indice_Imobilizacao','DiasVencimento_c_Scaler', 'FiltroValorMinimo_c_Scaler']]\n",
    "produtos"
   ]
  },
  {
   "cell_type": "markdown",
   "metadata": {
    "colab_type": "text",
    "id": "A6GYbzztMoue"
   },
   "source": [
    "Foi separado os dados de treino e teste. 80% para treino e 20% para teste"
   ]
  },
  {
   "cell_type": "code",
   "execution_count": 6,
   "metadata": {
    "colab": {},
    "colab_type": "code",
    "id": "faUYbzblJJKP"
   },
   "outputs": [],
   "source": [
    "produtos_train, produtos_test, Y_vazio, y_vazio = train_test_split(produtos, np.arange(0,226), test_size=0.20, random_state=42)"
   ]
  },
  {
   "cell_type": "markdown",
   "metadata": {
    "colab_type": "text",
    "id": "3g_gXoFfMzDz"
   },
   "source": [
    "A quantidade de agrupamento que mais obteve sucesso foi 5 clusters."
   ]
  },
  {
   "cell_type": "code",
   "execution_count": 7,
   "metadata": {
    "colab": {
     "base_uri": "https://localhost:8080/",
     "height": 68
    },
    "colab_type": "code",
    "executionInfo": {
     "elapsed": 874,
     "status": "ok",
     "timestamp": 1585785525450,
     "user": {
      "displayName": "Marcelo Nunes Alves",
      "photoUrl": "https://lh3.googleusercontent.com/a-/AOh14Ggg7j8UpQCWjd1mjJepuWNjOO1BULs-g6UsERA1vQ=s64",
      "userId": "09811685755861607483"
     },
     "user_tz": 180
    },
    "id": "QNuI50nqg5PB",
    "outputId": "1021137d-9aa1-49cf-fb6d-8d2d647e6d20"
   },
   "outputs": [
    {
     "data": {
      "text/plain": [
       "KMeans(algorithm='auto', copy_x=True, init='k-means++', max_iter=300,\n",
       "       n_clusters=5, n_init=10, n_jobs=None, precompute_distances='auto',\n",
       "       random_state=None, tol=0.0001, verbose=0)"
      ]
     },
     "execution_count": 7,
     "metadata": {},
     "output_type": "execute_result"
    }
   ],
   "source": [
    "Kmean = KMeans(n_clusters=5)\n",
    "\n",
    "Kmean.fit(produtos_train)"
   ]
  },
  {
   "cell_type": "code",
   "execution_count": 8,
   "metadata": {
    "colab": {
     "base_uri": "https://localhost:8080/",
     "height": 136
    },
    "colab_type": "code",
    "executionInfo": {
     "elapsed": 864,
     "status": "ok",
     "timestamp": 1585785525451,
     "user": {
      "displayName": "Marcelo Nunes Alves",
      "photoUrl": "https://lh3.googleusercontent.com/a-/AOh14Ggg7j8UpQCWjd1mjJepuWNjOO1BULs-g6UsERA1vQ=s64",
      "userId": "09811685755861607483"
     },
     "user_tz": 180
    },
    "id": "Vn07GppRFyVa",
    "outputId": "223ba378-5923-4fbe-eddf-e17e9523cb69"
   },
   "outputs": [
    {
     "data": {
      "text/plain": [
       "label\n",
       "0    53\n",
       "1    32\n",
       "2    35\n",
       "3    29\n",
       "4    31\n",
       "Name: DescontoIR__c, dtype: int64"
      ]
     },
     "execution_count": 8,
     "metadata": {},
     "output_type": "execute_result"
    }
   ],
   "source": [
    "dfL = pd.DataFrame({'label': Kmean.labels_})\n",
    "result = pd.concat([Dataset3, dfL], axis=1, join='inner')\n",
    "\n",
    "result.groupby(['label'])['DescontoIR__c'].count()"
   ]
  },
  {
   "cell_type": "code",
   "execution_count": 9,
   "metadata": {
    "colab": {
     "base_uri": "https://localhost:8080/",
     "height": 102
    },
    "colab_type": "code",
    "executionInfo": {
     "elapsed": 849,
     "status": "ok",
     "timestamp": 1585785525452,
     "user": {
      "displayName": "Marcelo Nunes Alves",
      "photoUrl": "https://lh3.googleusercontent.com/a-/AOh14Ggg7j8UpQCWjd1mjJepuWNjOO1BULs-g6UsERA1vQ=s64",
      "userId": "09811685755861607483"
     },
     "user_tz": 180
    },
    "id": "n-5aRGV6KUrC",
    "outputId": "74d3196c-8870-4eaf-ee43-fc82f35e959a"
   },
   "outputs": [
    {
     "data": {
      "text/plain": [
       "Index(['DescontoIR__c', 'DescricaoCarencia__c', 'DescricaoEmissor__c',\n",
       "       'DescricaoProduto__c', 'DiasVencimento__c', 'FiltroValorMinimo__c',\n",
       "       'ProdutoId', 'RiscoAtivo__c', 'TaxaEmissao__c', 'TaxaPreEmissao__c',\n",
       "       'TipoIndexador__c', 'Indice_Basileia', 'Indice_Imobilizacao', 'label'],\n",
       "      dtype='object')"
      ]
     },
     "execution_count": 9,
     "metadata": {},
     "output_type": "execute_result"
    }
   ],
   "source": [
    "result[result['label'] == 2]\n",
    "result.columns"
   ]
  },
  {
   "cell_type": "code",
   "execution_count": 10,
   "metadata": {
    "colab": {
     "base_uri": "https://localhost:8080/",
     "height": 285
    },
    "colab_type": "code",
    "executionInfo": {
     "elapsed": 1216,
     "status": "ok",
     "timestamp": 1585785525830,
     "user": {
      "displayName": "Marcelo Nunes Alves",
      "photoUrl": "https://lh3.googleusercontent.com/a-/AOh14Ggg7j8UpQCWjd1mjJepuWNjOO1BULs-g6UsERA1vQ=s64",
      "userId": "09811685755861607483"
     },
     "user_tz": 180
    },
    "id": "jgTCRvsmhDPF",
    "outputId": "ed9332c7-9019-433a-94bb-0d69a4377c4b"
   },
   "outputs": [
    {
     "data": {
      "image/png": "[encoded data removed]",
      "text/plain": [
       "<Figure size 432x288 with 1 Axes>"
      ]
     },
     "metadata": {
      "needs_background": "light"
     },
     "output_type": "display_data"
    }
   ],
   "source": [
    "plt.scatter(result[result['label'] == 0].RiscoAtivo__c, result[result['label'] == 0].TaxaEmissao__c, c = 'red', label = 'Cluster 1')\n",
    "plt.scatter(result[result['label'] == 1].RiscoAtivo__c, result[result['label'] == 1].TaxaEmissao__c, c = 'blue', label = 'Cluster 2')\n",
    "plt.scatter(result[result['label'] == 2].RiscoAtivo__c, result[result['label'] == 2].TaxaEmissao__c, c = 'green', label = 'Cluster 3')\n",
    "plt.scatter(result[result['label'] == 3].RiscoAtivo__c, result[result['label'] == 3].TaxaEmissao__c, c = 'cyan', label = 'Cluster 4')\n",
    "plt.scatter(result[result['label'] == 4].RiscoAtivo__c, result[result['label'] == 4].TaxaEmissao__c, c = 'yellow', label = 'Cluster 5')\n",
    "plt.xlabel('TaxaEmissao__c')\n",
    "plt.ylabel('RiscoAtivo__c')\n",
    "plt.show()\n"
   ]
  },
  {
   "cell_type": "code",
   "execution_count": 11,
   "metadata": {
    "colab": {
     "base_uri": "https://localhost:8080/",
     "height": 285
    },
    "colab_type": "code",
    "executionInfo": {
     "elapsed": 1653,
     "status": "ok",
     "timestamp": 1585785526284,
     "user": {
      "displayName": "Marcelo Nunes Alves",
      "photoUrl": "https://lh3.googleusercontent.com/a-/AOh14Ggg7j8UpQCWjd1mjJepuWNjOO1BULs-g6UsERA1vQ=s64",
      "userId": "09811685755861607483"
     },
     "user_tz": 180
    },
    "id": "y4QXGeDPxp80",
    "outputId": "a5d23b91-067c-4713-cddb-9665b3cfbf32"
   },
   "outputs": [
    {
     "data": {
      "image/png": "[encoded data removed]",
      "text/plain": [
       "<Figure size 432x288 with 1 Axes>"
      ]
     },
     "metadata": {
      "needs_background": "light"
     },
     "output_type": "display_data"
    }
   ],
   "source": [
    "plt.scatter(result[result['label'] == 0].DiasVencimento__c, result[result['label'] == 0].RiscoAtivo__c, c = 'red', label = 'Cluster 1')\n",
    "plt.scatter(result[result['label'] == 1].DiasVencimento__c, result[result['label'] == 1].RiscoAtivo__c, c = 'blue', label = 'Cluster 2')\n",
    "plt.scatter(result[result['label'] == 2].DiasVencimento__c, result[result['label'] == 2].RiscoAtivo__c, c = 'green', label = 'Cluster 3')\n",
    "plt.scatter(result[result['label'] == 3].DiasVencimento__c, result[result['label'] == 3].RiscoAtivo__c, c = 'cyan', label = 'Cluster 4')\n",
    "plt.scatter(result[result['label'] == 4].DiasVencimento__c, result[result['label'] == 4].RiscoAtivo__c, c = 'magenta', label = 'Cluster 5')\n",
    "plt.xlabel('DiasVencimento__c')\n",
    "plt.ylabel('RiscoAtivo__c')\n",
    "plt.legend()\n",
    "plt.show()"
   ]
  },
  {
   "cell_type": "code",
   "execution_count": 12,
   "metadata": {
    "colab": {
     "base_uri": "https://localhost:8080/",
     "height": 68
    },
    "colab_type": "code",
    "executionInfo": {
     "elapsed": 1642,
     "status": "ok",
     "timestamp": 1585785526288,
     "user": {
      "displayName": "Marcelo Nunes Alves",
      "photoUrl": "https://lh3.googleusercontent.com/a-/AOh14Ggg7j8UpQCWjd1mjJepuWNjOO1BULs-g6UsERA1vQ=s64",
      "userId": "09811685755861607483"
     },
     "user_tz": 180
    },
    "id": "EcKOHm-gbCLb",
    "outputId": "f2bc1e15-0a4e-4dd8-c092-86a7732e00d2"
   },
   "outputs": [
    {
     "data": {
      "text/plain": [
       "KMeans(algorithm='auto', copy_x=True, init='k-means++', max_iter=300,\n",
       "       n_clusters=5, n_init=10, n_jobs=None, precompute_distances='auto',\n",
       "       random_state=None, tol=0.0001, verbose=0)"
      ]
     },
     "execution_count": 12,
     "metadata": {},
     "output_type": "execute_result"
    }
   ],
   "source": [
    "Kmean = KMeans(n_clusters=5)\n",
    "\n",
    "Kmean.fit(produtos)"
   ]
  },
  {
   "cell_type": "code",
   "execution_count": 13,
   "metadata": {
    "colab": {
     "base_uri": "https://localhost:8080/",
     "height": 439
    },
    "colab_type": "code",
    "executionInfo": {
     "elapsed": 1636,
     "status": "ok",
     "timestamp": 1585785526291,
     "user": {
      "displayName": "Marcelo Nunes Alves",
      "photoUrl": "https://lh3.googleusercontent.com/a-/AOh14Ggg7j8UpQCWjd1mjJepuWNjOO1BULs-g6UsERA1vQ=s64",
      "userId": "09811685755861607483"
     },
     "user_tz": 180
    },
    "id": "1UjAXbribHGQ",
    "outputId": "5f207753-7245-47aa-9c74-a665c01e5b8d"
   },
   "outputs": [
    {
     "data": {
      "text/html": [
       "<div>\n",
       "<style scoped>\n",
       "    .dataframe tbody tr th:only-of-type {\n",
       "        vertical-align: middle;\n",
       "    }\n",
       "\n",
       "    .dataframe tbody tr th {\n",
       "        vertical-align: top;\n",
       "    }\n",
       "\n",
       "    .dataframe thead th {\n",
       "        text-align: right;\n",
       "    }\n",
       "</style>\n",
       "<table border=\"1\" class=\"dataframe\">\n",
       "  <thead>\n",
       "    <tr style=\"text-align: right;\">\n",
       "      <th></th>\n",
       "      <th>DescontoIR__c</th>\n",
       "      <th>DescricaoCarencia__c</th>\n",
       "      <th>DescricaoEmissor__c</th>\n",
       "      <th>DescricaoProduto__c</th>\n",
       "      <th>DiasVencimento__c</th>\n",
       "      <th>FiltroValorMinimo__c</th>\n",
       "      <th>ProdutoId</th>\n",
       "      <th>RiscoAtivo__c</th>\n",
       "      <th>TaxaEmissao__c</th>\n",
       "      <th>TaxaPreEmissao__c</th>\n",
       "      <th>TipoIndexador__c</th>\n",
       "      <th>Indice_Basileia</th>\n",
       "      <th>Indice_Imobilizacao</th>\n",
       "      <th>label</th>\n",
       "    </tr>\n",
       "  </thead>\n",
       "  <tbody>\n",
       "    <tr>\n",
       "      <td>0</td>\n",
       "      <td>15.0</td>\n",
       "      <td>No venc.</td>\n",
       "      <td>BANCO BS2 S.A.</td>\n",
       "      <td>CDB POS</td>\n",
       "      <td>1081.0</td>\n",
       "      <td>1000.0</td>\n",
       "      <td>a0W3u000009PC0MEAW</td>\n",
       "      <td>2.0</td>\n",
       "      <td>125.00</td>\n",
       "      <td>0.00</td>\n",
       "      <td>CDI</td>\n",
       "      <td>0.1132</td>\n",
       "      <td>0.1739</td>\n",
       "      <td>4</td>\n",
       "    </tr>\n",
       "    <tr>\n",
       "      <td>1</td>\n",
       "      <td>15.0</td>\n",
       "      <td>No venc.</td>\n",
       "      <td>BANCO INDUSVAL S.A.</td>\n",
       "      <td>CDB POS</td>\n",
       "      <td>721.0</td>\n",
       "      <td>5000.0</td>\n",
       "      <td>a0W3u000009PCASEA4</td>\n",
       "      <td>4.0</td>\n",
       "      <td>122.00</td>\n",
       "      <td>0.00</td>\n",
       "      <td>CDI</td>\n",
       "      <td>0.0197</td>\n",
       "      <td>1.0000</td>\n",
       "      <td>2</td>\n",
       "    </tr>\n",
       "    <tr>\n",
       "      <td>2</td>\n",
       "      <td>15.0</td>\n",
       "      <td>No venc.</td>\n",
       "      <td>BANCO ALFA S/A</td>\n",
       "      <td>CDB POS</td>\n",
       "      <td>721.0</td>\n",
       "      <td>5000.0</td>\n",
       "      <td>a0W3u000009PCAcEAO</td>\n",
       "      <td>2.0</td>\n",
       "      <td>103.25</td>\n",
       "      <td>0.00</td>\n",
       "      <td>CDI</td>\n",
       "      <td>0.2085</td>\n",
       "      <td>0.1440</td>\n",
       "      <td>4</td>\n",
       "    </tr>\n",
       "    <tr>\n",
       "      <td>3</td>\n",
       "      <td>15.0</td>\n",
       "      <td>No venc.</td>\n",
       "      <td>BANCO ALFA S/A</td>\n",
       "      <td>CDB POS</td>\n",
       "      <td>1081.0</td>\n",
       "      <td>5000.0</td>\n",
       "      <td>a0W3u000009PCArEAO</td>\n",
       "      <td>3.0</td>\n",
       "      <td>104.00</td>\n",
       "      <td>0.00</td>\n",
       "      <td>CDI</td>\n",
       "      <td>0.2085</td>\n",
       "      <td>0.1440</td>\n",
       "      <td>0</td>\n",
       "    </tr>\n",
       "    <tr>\n",
       "      <td>4</td>\n",
       "      <td>15.0</td>\n",
       "      <td>No venc.</td>\n",
       "      <td>BANCO PINE S.A.</td>\n",
       "      <td>CDB PRE</td>\n",
       "      <td>721.0</td>\n",
       "      <td>5000.0</td>\n",
       "      <td>a0W3u000009PCMNEA4</td>\n",
       "      <td>3.0</td>\n",
       "      <td>0.00</td>\n",
       "      <td>6.02</td>\n",
       "      <td>Pré fixado</td>\n",
       "      <td>0.1232</td>\n",
       "      <td>0.2278</td>\n",
       "      <td>0</td>\n",
       "    </tr>\n",
       "    <tr>\n",
       "      <td>...</td>\n",
       "      <td>...</td>\n",
       "      <td>...</td>\n",
       "      <td>...</td>\n",
       "      <td>...</td>\n",
       "      <td>...</td>\n",
       "      <td>...</td>\n",
       "      <td>...</td>\n",
       "      <td>...</td>\n",
       "      <td>...</td>\n",
       "      <td>...</td>\n",
       "      <td>...</td>\n",
       "      <td>...</td>\n",
       "      <td>...</td>\n",
       "      <td>...</td>\n",
       "    </tr>\n",
       "    <tr>\n",
       "      <td>221</td>\n",
       "      <td>15.0</td>\n",
       "      <td>No venc.</td>\n",
       "      <td>PARANA BANCO S.A.</td>\n",
       "      <td>CDB POS</td>\n",
       "      <td>721.0</td>\n",
       "      <td>1000.0</td>\n",
       "      <td>a0W6A00000Aa9rZUAR</td>\n",
       "      <td>2.0</td>\n",
       "      <td>106.00</td>\n",
       "      <td>0.00</td>\n",
       "      <td>CDI</td>\n",
       "      <td>0.2400</td>\n",
       "      <td>0.1179</td>\n",
       "      <td>4</td>\n",
       "    </tr>\n",
       "    <tr>\n",
       "      <td>222</td>\n",
       "      <td>15.0</td>\n",
       "      <td>No venc.</td>\n",
       "      <td>PARANA BANCO S.A.</td>\n",
       "      <td>CDB POS</td>\n",
       "      <td>1081.0</td>\n",
       "      <td>1000.0</td>\n",
       "      <td>a0W6A00000Aa9reUAB</td>\n",
       "      <td>2.0</td>\n",
       "      <td>107.00</td>\n",
       "      <td>0.00</td>\n",
       "      <td>CDI</td>\n",
       "      <td>0.2400</td>\n",
       "      <td>0.1179</td>\n",
       "      <td>4</td>\n",
       "    </tr>\n",
       "    <tr>\n",
       "      <td>223</td>\n",
       "      <td>15.0</td>\n",
       "      <td>No venc.</td>\n",
       "      <td>PARANA BANCO S.A.</td>\n",
       "      <td>CDB POS</td>\n",
       "      <td>1440.0</td>\n",
       "      <td>1000.0</td>\n",
       "      <td>a0W6A00000Aa9rjUAB</td>\n",
       "      <td>3.0</td>\n",
       "      <td>109.00</td>\n",
       "      <td>0.00</td>\n",
       "      <td>CDI</td>\n",
       "      <td>0.2400</td>\n",
       "      <td>0.1179</td>\n",
       "      <td>0</td>\n",
       "    </tr>\n",
       "    <tr>\n",
       "      <td>224</td>\n",
       "      <td>15.0</td>\n",
       "      <td>No venc.</td>\n",
       "      <td>PARANA BANCO S.A.</td>\n",
       "      <td>CDB POS</td>\n",
       "      <td>1802.0</td>\n",
       "      <td>1000.0</td>\n",
       "      <td>a0W6A00000Aa9roUAB</td>\n",
       "      <td>3.0</td>\n",
       "      <td>110.00</td>\n",
       "      <td>0.00</td>\n",
       "      <td>CDI</td>\n",
       "      <td>0.2400</td>\n",
       "      <td>0.1179</td>\n",
       "      <td>0</td>\n",
       "    </tr>\n",
       "    <tr>\n",
       "      <td>225</td>\n",
       "      <td>15.0</td>\n",
       "      <td>No venc.</td>\n",
       "      <td>CARUANA S.A.</td>\n",
       "      <td>LC PRE</td>\n",
       "      <td>1095.0</td>\n",
       "      <td>1000.0</td>\n",
       "      <td>a0W6A00000AwdNUUAZ</td>\n",
       "      <td>3.0</td>\n",
       "      <td>0.00</td>\n",
       "      <td>6.80</td>\n",
       "      <td>Pré fixado</td>\n",
       "      <td>0.1315</td>\n",
       "      <td>0.0126</td>\n",
       "      <td>0</td>\n",
       "    </tr>\n",
       "  </tbody>\n",
       "</table>\n",
       "<p>226 rows × 14 columns</p>\n",
       "</div>"
      ],
      "text/plain": [
       "     DescontoIR__c DescricaoCarencia__c  DescricaoEmissor__c  \\\n",
       "0             15.0             No venc.       BANCO BS2 S.A.   \n",
       "1             15.0             No venc.  BANCO INDUSVAL S.A.   \n",
       "2             15.0             No venc.       BANCO ALFA S/A   \n",
       "3             15.0             No venc.       BANCO ALFA S/A   \n",
       "4             15.0             No venc.      BANCO PINE S.A.   \n",
       "..             ...                  ...                  ...   \n",
       "221           15.0             No venc.    PARANA BANCO S.A.   \n",
       "222           15.0             No venc.    PARANA BANCO S.A.   \n",
       "223           15.0             No venc.    PARANA BANCO S.A.   \n",
       "224           15.0             No venc.    PARANA BANCO S.A.   \n",
       "225           15.0             No venc.         CARUANA S.A.   \n",
       "\n",
       "    DescricaoProduto__c  DiasVencimento__c  FiltroValorMinimo__c  \\\n",
       "0               CDB POS             1081.0                1000.0   \n",
       "1               CDB POS              721.0                5000.0   \n",
       "2               CDB POS              721.0                5000.0   \n",
       "3               CDB POS             1081.0                5000.0   \n",
       "4               CDB PRE              721.0                5000.0   \n",
       "..                  ...                ...                   ...   \n",
       "221             CDB POS              721.0                1000.0   \n",
       "222             CDB POS             1081.0                1000.0   \n",
       "223             CDB POS             1440.0                1000.0   \n",
       "224             CDB POS             1802.0                1000.0   \n",
       "225              LC PRE             1095.0                1000.0   \n",
       "\n",
       "              ProdutoId  RiscoAtivo__c  TaxaEmissao__c  TaxaPreEmissao__c  \\\n",
       "0    a0W3u000009PC0MEAW            2.0          125.00               0.00   \n",
       "1    a0W3u000009PCASEA4            4.0          122.00               0.00   \n",
       "2    a0W3u000009PCAcEAO            2.0          103.25               0.00   \n",
       "3    a0W3u000009PCArEAO            3.0          104.00               0.00   \n",
       "4    a0W3u000009PCMNEA4            3.0            0.00               6.02   \n",
       "..                  ...            ...             ...                ...   \n",
       "221  a0W6A00000Aa9rZUAR            2.0          106.00               0.00   \n",
       "222  a0W6A00000Aa9reUAB            2.0          107.00               0.00   \n",
       "223  a0W6A00000Aa9rjUAB            3.0          109.00               0.00   \n",
       "224  a0W6A00000Aa9roUAB            3.0          110.00               0.00   \n",
       "225  a0W6A00000AwdNUUAZ            3.0            0.00               6.80   \n",
       "\n",
       "    TipoIndexador__c  Indice_Basileia  Indice_Imobilizacao  label  \n",
       "0                CDI           0.1132               0.1739      4  \n",
       "1                CDI           0.0197               1.0000      2  \n",
       "2                CDI           0.2085               0.1440      4  \n",
       "3                CDI           0.2085               0.1440      0  \n",
       "4         Pré fixado           0.1232               0.2278      0  \n",
       "..               ...              ...                  ...    ...  \n",
       "221              CDI           0.2400               0.1179      4  \n",
       "222              CDI           0.2400               0.1179      4  \n",
       "223              CDI           0.2400               0.1179      0  \n",
       "224              CDI           0.2400               0.1179      0  \n",
       "225       Pré fixado           0.1315               0.0126      0  \n",
       "\n",
       "[226 rows x 14 columns]"
      ]
     },
     "execution_count": 13,
     "metadata": {},
     "output_type": "execute_result"
    }
   ],
   "source": [
    "dfL = pd.DataFrame({'label': Kmean.labels_})\n",
    "alldata = pd.concat([Dataset3, dfL], axis=1, join='inner')\n",
    "\n",
    "groupByProduct = alldata\n",
    "groupByProduct"
   ]
  },
  {
   "cell_type": "code",
   "execution_count": 14,
   "metadata": {
    "colab": {},
    "colab_type": "code",
    "id": "v5oZRyHS1xzu"
   },
   "outputs": [],
   "source": [
    "groupByProduct.to_csv('../repository/produtos_groups_renda_fixa.csv')"
   ]
  }
 ],
 "metadata": {
  "colab": {
   "collapsed_sections": [],
   "name": "Cluster - produtos v2 - renda fixa.ipynb",
   "provenance": []
  },
  "kernelspec": {
   "display_name": "Python 3",
   "language": "python",
   "name": "python3"
  },
  "language_info": {
   "codemirror_mode": {
    "name": "ipython",
    "version": 3
   },
   "file_extension": ".py",
   "mimetype": "text/x-python",
   "name": "python",
   "nbconvert_exporter": "python",
   "pygments_lexer": "ipython3",
   "version": "3.7.4"
  }
 },
 "nbformat": 4,
 "nbformat_minor": 1
}
