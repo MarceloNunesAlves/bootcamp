{
 "cells": [
  {
   "cell_type": "markdown",
   "metadata": {
    "colab_type": "text",
    "id": "aS2e6DEnGQT1"
   },
   "source": [
    "# Cluster de clientes"
   ]
  },
  {
   "cell_type": "markdown",
   "metadata": {
    "colab_type": "text",
    "id": "SQuu1yVYGVIU"
   },
   "source": [
    "Tem como objetivo..."
   ]
  },
  {
   "cell_type": "code",
   "execution_count": 1,
   "metadata": {
    "colab": {},
    "colab_type": "code",
    "id": "newu4ROyFe0u"
   },
   "outputs": [],
   "source": [
    "import numpy as np \n",
    "import pandas as pd\n",
    "from pandas.plotting import scatter_matrix\n",
    "%matplotlib inline\n",
    "import matplotlib.pyplot as plt\n",
    "from matplotlib import transforms\n",
    "import seaborn as sns\n",
    "from sklearn.preprocessing import StandardScaler\n",
    "from sklearn.neighbors import NearestNeighbors\n",
    "from sklearn.cluster import KMeans\n",
    "from sklearn.model_selection import train_test_split\n",
    "import pickle\n",
    "\n",
    "sns.set_style('whitegrid', {\"axes.grid\" : False})\n",
    "sns.set_context('notebook')\n",
    "np.random.seed(42)\n",
    "\n",
    "pd.set_option('display.max_columns', None)"
   ]
  },
  {
   "cell_type": "markdown",
   "metadata": {
    "colab_type": "text",
    "id": "w4h7ivwyGt-6"
   },
   "source": [
    "Segue abaixo uma visualizacao dos dados que serao utilizadas no treinamento do modelo e na avaliacao."
   ]
  },
  {
   "cell_type": "code",
   "execution_count": 2,
   "metadata": {
    "colab": {},
    "colab_type": "code",
    "id": "7XuASQnQfUCn"
   },
   "outputs": [],
   "source": [
    "def limpezaParaTreino(df, arrayColDrop):\n",
    "  df_proc = df.drop(arrayColDrop, axis=1)\n",
    "  df_proc = pd.get_dummies(df_proc)\n",
    "  return df_proc"
   ]
  },
  {
   "cell_type": "code",
   "execution_count": 3,
   "metadata": {
    "colab": {
     "base_uri": "https://localhost:8080/",
     "height": 419
    },
    "colab_type": "code",
    "executionInfo": {
     "elapsed": 36805,
     "status": "ok",
     "timestamp": 1585785225650,
     "user": {
      "displayName": "Marcelo Nunes Alves",
      "photoUrl": "https://lh3.googleusercontent.com/a-/AOh14Ggg7j8UpQCWjd1mjJepuWNjOO1BULs-g6UsERA1vQ=s64",
      "userId": "09811685755861607483"
     },
     "user_tz": 180
    },
    "id": "JURMNdTRdeb8",
    "outputId": "770ba331-08ad-4872-f360-0db0fd73705d"
   },
   "outputs": [
    {
     "data": {
      "text/html": [
       "<div>\n",
       "<style scoped>\n",
       "    .dataframe tbody tr th:only-of-type {\n",
       "        vertical-align: middle;\n",
       "    }\n",
       "\n",
       "    .dataframe tbody tr th {\n",
       "        vertical-align: top;\n",
       "    }\n",
       "\n",
       "    .dataframe thead th {\n",
       "        text-align: right;\n",
       "    }\n",
       "</style>\n",
       "<table border=\"1\" class=\"dataframe\">\n",
       "  <thead>\n",
       "    <tr style=\"text-align: right;\">\n",
       "      <th></th>\n",
       "      <th>Id</th>\n",
       "      <th>TipoCarteira__c</th>\n",
       "    </tr>\n",
       "  </thead>\n",
       "  <tbody>\n",
       "    <tr>\n",
       "      <td>0</td>\n",
       "      <td>$2b$10$.DCvvJ9WSDpqVP2xXjeSPe9yBilu2JVQh2nFTHN...</td>\n",
       "      <td>Fundo de Renda Fixa</td>\n",
       "    </tr>\n",
       "    <tr>\n",
       "      <td>1</td>\n",
       "      <td>$2b$10$.DCvvJ9WSDpqVP2xXjeSPeR6I3TrUCl/MAePvQQ...</td>\n",
       "      <td>Fundo de Renda Fixa</td>\n",
       "    </tr>\n",
       "    <tr>\n",
       "      <td>2</td>\n",
       "      <td>$2b$10$.DCvvJ9WSDpqVP2xXjeSPeR6I3TrUCl/MAePvQQ...</td>\n",
       "      <td>Fundo de Renda Fixa</td>\n",
       "    </tr>\n",
       "    <tr>\n",
       "      <td>3</td>\n",
       "      <td>$2b$10$.DCvvJ9WSDpqVP2xXjeSPeR6I3TrUCl/MAePvQQ...</td>\n",
       "      <td>Fundo de Renda Fixa</td>\n",
       "    </tr>\n",
       "    <tr>\n",
       "      <td>4</td>\n",
       "      <td>$2b$10$.DCvvJ9WSDpqVP2xXjeSPeR6I3TrUCl/MAePvQQ...</td>\n",
       "      <td>Fundo de Renda Fixa</td>\n",
       "    </tr>\n",
       "    <tr>\n",
       "      <td>...</td>\n",
       "      <td>...</td>\n",
       "      <td>...</td>\n",
       "    </tr>\n",
       "    <tr>\n",
       "      <td>36478</td>\n",
       "      <td>$2b$10$.DCvvJ9WSDpqVP2xXjeSPesRqwgEsVh8ifWr5Jb...</td>\n",
       "      <td>LCI</td>\n",
       "    </tr>\n",
       "    <tr>\n",
       "      <td>36479</td>\n",
       "      <td>$2b$10$.DCvvJ9WSDpqVP2xXjeSPeLsP5rKvCpi7yLFS/P...</td>\n",
       "      <td>Fundo Multimercado</td>\n",
       "    </tr>\n",
       "    <tr>\n",
       "      <td>36480</td>\n",
       "      <td>$2b$10$.DCvvJ9WSDpqVP2xXjeSPe56H4FnPI1ZjIb.l.O...</td>\n",
       "      <td>CDB</td>\n",
       "    </tr>\n",
       "    <tr>\n",
       "      <td>36481</td>\n",
       "      <td>$2b$10$.DCvvJ9WSDpqVP2xXjeSPeNMSbvxsUZD/GBI/Fo...</td>\n",
       "      <td>CDB</td>\n",
       "    </tr>\n",
       "    <tr>\n",
       "      <td>36482</td>\n",
       "      <td>$2b$10$.DCvvJ9WSDpqVP2xXjeSPe6kGsxb4GG9L8PeOCF...</td>\n",
       "      <td>CDB</td>\n",
       "    </tr>\n",
       "  </tbody>\n",
       "</table>\n",
       "<p>36483 rows × 2 columns</p>\n",
       "</div>"
      ],
      "text/plain": [
       "                                                      Id      TipoCarteira__c\n",
       "0      $2b$10$.DCvvJ9WSDpqVP2xXjeSPe9yBilu2JVQh2nFTHN...  Fundo de Renda Fixa\n",
       "1      $2b$10$.DCvvJ9WSDpqVP2xXjeSPeR6I3TrUCl/MAePvQQ...  Fundo de Renda Fixa\n",
       "2      $2b$10$.DCvvJ9WSDpqVP2xXjeSPeR6I3TrUCl/MAePvQQ...  Fundo de Renda Fixa\n",
       "3      $2b$10$.DCvvJ9WSDpqVP2xXjeSPeR6I3TrUCl/MAePvQQ...  Fundo de Renda Fixa\n",
       "4      $2b$10$.DCvvJ9WSDpqVP2xXjeSPeR6I3TrUCl/MAePvQQ...  Fundo de Renda Fixa\n",
       "...                                                  ...                  ...\n",
       "36478  $2b$10$.DCvvJ9WSDpqVP2xXjeSPesRqwgEsVh8ifWr5Jb...                  LCI\n",
       "36479  $2b$10$.DCvvJ9WSDpqVP2xXjeSPeLsP5rKvCpi7yLFS/P...   Fundo Multimercado\n",
       "36480  $2b$10$.DCvvJ9WSDpqVP2xXjeSPe56H4FnPI1ZjIb.l.O...                  CDB\n",
       "36481  $2b$10$.DCvvJ9WSDpqVP2xXjeSPeNMSbvxsUZD/GBI/Fo...                  CDB\n",
       "36482  $2b$10$.DCvvJ9WSDpqVP2xXjeSPe6kGsxb4GG9L8PeOCF...                  CDB\n",
       "\n",
       "[36483 rows x 2 columns]"
      ]
     },
     "execution_count": 3,
     "metadata": {},
     "output_type": "execute_result"
    }
   ],
   "source": [
    "tipo_prod = pd.read_csv(\"../repository/tipo_prod_group.csv\",sep=';')\n",
    "usu_prod = pd.read_csv(\"../repository/usu_prod_group.csv\",sep=',')\n",
    "\n",
    "tipo_de_produto_do_cliente = pd.merge(usu_prod, tipo_prod, on='ProdutoId')\n",
    "tipo_de_produto_do_cliente.TipoCarteira__c.fillna(tipo_de_produto_do_cliente.NomeInvestimento__c, inplace=True)\n",
    "tipo_de_produto_do_cliente = tipo_de_produto_do_cliente.drop(['NomeInvestimento__c', 'ProdutoId'], axis=1)\n",
    "tipo_de_produto_do_cliente"
   ]
  },
  {
   "cell_type": "code",
   "execution_count": 4,
   "metadata": {
    "colab": {
     "base_uri": "https://localhost:8080/",
     "height": 473
    },
    "colab_type": "code",
    "executionInfo": {
     "elapsed": 38254,
     "status": "ok",
     "timestamp": 1585785227118,
     "user": {
      "displayName": "Marcelo Nunes Alves",
      "photoUrl": "https://lh3.googleusercontent.com/a-/AOh14Ggg7j8UpQCWjd1mjJepuWNjOO1BULs-g6UsERA1vQ=s64",
      "userId": "09811685755861607483"
     },
     "user_tz": 180
    },
    "id": "7qv-VPQ5Dood",
    "outputId": "d350ad19-21da-474b-cf52-a971e8591723"
   },
   "outputs": [
    {
     "data": {
      "text/html": [
       "<div>\n",
       "<style scoped>\n",
       "    .dataframe tbody tr th:only-of-type {\n",
       "        vertical-align: middle;\n",
       "    }\n",
       "\n",
       "    .dataframe tbody tr th {\n",
       "        vertical-align: top;\n",
       "    }\n",
       "\n",
       "    .dataframe thead th {\n",
       "        text-align: right;\n",
       "    }\n",
       "</style>\n",
       "<table border=\"1\" class=\"dataframe\">\n",
       "  <thead>\n",
       "    <tr style=\"text-align: right;\">\n",
       "      <th></th>\n",
       "      <th>Id</th>\n",
       "      <th>Idade</th>\n",
       "      <th>EstadoCivil</th>\n",
       "      <th>BillingCity</th>\n",
       "      <th>NivelConhecimentoAtual</th>\n",
       "      <th>ScoreNivelConhecimento</th>\n",
       "      <th>PerfilInvestidor</th>\n",
       "      <th>RendaMensal</th>\n",
       "      <th>ValorPatrimonio</th>\n",
       "      <th>Ind_Guardado</th>\n",
       "      <th>ScoreRisco</th>\n",
       "      <th>ScoreObjetivos</th>\n",
       "      <th>ScoreSituacaoFinanceira</th>\n",
       "      <th>Soma_Investido_Total</th>\n",
       "    </tr>\n",
       "  </thead>\n",
       "  <tbody>\n",
       "    <tr>\n",
       "      <td>0</td>\n",
       "      <td>$2b$10$.DCvvJ9WSDpqVP2xXjeSPe..Fx6NhsrK9ZzYadq...</td>\n",
       "      <td>35</td>\n",
       "      <td>C</td>\n",
       "      <td>Juiz de Fora</td>\n",
       "      <td>1</td>\n",
       "      <td>1</td>\n",
       "      <td>2</td>\n",
       "      <td>2000</td>\n",
       "      <td>15000</td>\n",
       "      <td>1</td>\n",
       "      <td>2</td>\n",
       "      <td>2</td>\n",
       "      <td>1</td>\n",
       "      <td>60</td>\n",
       "    </tr>\n",
       "    <tr>\n",
       "      <td>1</td>\n",
       "      <td>$2b$10$.DCvvJ9WSDpqVP2xXjeSPe..kI2Jy5NBFp0bWHG...</td>\n",
       "      <td>22</td>\n",
       "      <td>S</td>\n",
       "      <td>São Paulo</td>\n",
       "      <td>0</td>\n",
       "      <td>0</td>\n",
       "      <td>0</td>\n",
       "      <td>1900</td>\n",
       "      <td>1000</td>\n",
       "      <td>0</td>\n",
       "      <td>0</td>\n",
       "      <td>0</td>\n",
       "      <td>0</td>\n",
       "      <td>0</td>\n",
       "    </tr>\n",
       "    <tr>\n",
       "      <td>2</td>\n",
       "      <td>$2b$10$.DCvvJ9WSDpqVP2xXjeSPe./h2nCG51DS8AEwV8...</td>\n",
       "      <td>51</td>\n",
       "      <td>C</td>\n",
       "      <td>Santos</td>\n",
       "      <td>5</td>\n",
       "      <td>5</td>\n",
       "      <td>4</td>\n",
       "      <td>8000</td>\n",
       "      <td>300000</td>\n",
       "      <td>2</td>\n",
       "      <td>3</td>\n",
       "      <td>3</td>\n",
       "      <td>3</td>\n",
       "      <td>0</td>\n",
       "    </tr>\n",
       "    <tr>\n",
       "      <td>3</td>\n",
       "      <td>$2b$10$.DCvvJ9WSDpqVP2xXjeSPe./np28dLDLl04GG7s...</td>\n",
       "      <td>36</td>\n",
       "      <td>S</td>\n",
       "      <td>Jundiaí</td>\n",
       "      <td>5</td>\n",
       "      <td>5</td>\n",
       "      <td>5</td>\n",
       "      <td>15000</td>\n",
       "      <td>450000</td>\n",
       "      <td>3</td>\n",
       "      <td>4</td>\n",
       "      <td>5</td>\n",
       "      <td>3</td>\n",
       "      <td>5000</td>\n",
       "    </tr>\n",
       "    <tr>\n",
       "      <td>4</td>\n",
       "      <td>$2b$10$.DCvvJ9WSDpqVP2xXjeSPe./RaD5ilKiZI.7Hik...</td>\n",
       "      <td>34</td>\n",
       "      <td>S</td>\n",
       "      <td>Brasília</td>\n",
       "      <td>1</td>\n",
       "      <td>1</td>\n",
       "      <td>3</td>\n",
       "      <td>1380</td>\n",
       "      <td>0</td>\n",
       "      <td>3</td>\n",
       "      <td>3</td>\n",
       "      <td>4</td>\n",
       "      <td>2</td>\n",
       "      <td>30</td>\n",
       "    </tr>\n",
       "    <tr>\n",
       "      <td>...</td>\n",
       "      <td>...</td>\n",
       "      <td>...</td>\n",
       "      <td>...</td>\n",
       "      <td>...</td>\n",
       "      <td>...</td>\n",
       "      <td>...</td>\n",
       "      <td>...</td>\n",
       "      <td>...</td>\n",
       "      <td>...</td>\n",
       "      <td>...</td>\n",
       "      <td>...</td>\n",
       "      <td>...</td>\n",
       "      <td>...</td>\n",
       "      <td>...</td>\n",
       "    </tr>\n",
       "    <tr>\n",
       "      <td>13403</td>\n",
       "      <td>$2b$10$.DCvvJ9WSDpqVP2xXjeSPeZzlfpdbYbWbiMI2O2...</td>\n",
       "      <td>41</td>\n",
       "      <td>S</td>\n",
       "      <td>Guarulhos</td>\n",
       "      <td>1</td>\n",
       "      <td>1</td>\n",
       "      <td>2</td>\n",
       "      <td>4000</td>\n",
       "      <td>0</td>\n",
       "      <td>1</td>\n",
       "      <td>2</td>\n",
       "      <td>3</td>\n",
       "      <td>1</td>\n",
       "      <td>60</td>\n",
       "    </tr>\n",
       "    <tr>\n",
       "      <td>13404</td>\n",
       "      <td>$2b$10$.DCvvJ9WSDpqVP2xXjeSPezZnFnre0ofPq1wRF1...</td>\n",
       "      <td>30</td>\n",
       "      <td>C</td>\n",
       "      <td>São Paulo</td>\n",
       "      <td>4</td>\n",
       "      <td>4</td>\n",
       "      <td>4</td>\n",
       "      <td>16000</td>\n",
       "      <td>40000</td>\n",
       "      <td>3</td>\n",
       "      <td>4</td>\n",
       "      <td>3</td>\n",
       "      <td>3</td>\n",
       "      <td>31500</td>\n",
       "    </tr>\n",
       "    <tr>\n",
       "      <td>13405</td>\n",
       "      <td>$2b$10$.DCvvJ9WSDpqVP2xXjeSPeZzP5DRGfb11bMIrV8...</td>\n",
       "      <td>44</td>\n",
       "      <td>S</td>\n",
       "      <td>São Paulo</td>\n",
       "      <td>1</td>\n",
       "      <td>1</td>\n",
       "      <td>1</td>\n",
       "      <td>0</td>\n",
       "      <td>100000</td>\n",
       "      <td>1</td>\n",
       "      <td>1</td>\n",
       "      <td>1</td>\n",
       "      <td>1</td>\n",
       "      <td>104,44</td>\n",
       "    </tr>\n",
       "    <tr>\n",
       "      <td>13406</td>\n",
       "      <td>$2b$10$.DCvvJ9WSDpqVP2xXjeSPezzttIBRwey7HP2/F/...</td>\n",
       "      <td>31</td>\n",
       "      <td>C</td>\n",
       "      <td>Campo Grande</td>\n",
       "      <td>0</td>\n",
       "      <td>5</td>\n",
       "      <td>4</td>\n",
       "      <td>5500</td>\n",
       "      <td>85000</td>\n",
       "      <td>2</td>\n",
       "      <td>3</td>\n",
       "      <td>5</td>\n",
       "      <td>3</td>\n",
       "      <td>1030,65</td>\n",
       "    </tr>\n",
       "    <tr>\n",
       "      <td>13407</td>\n",
       "      <td>$2b$10$.DCvvJ9WSDpqVP2xXjeSPeZzXBUhbFjWAFGNx/D...</td>\n",
       "      <td>25</td>\n",
       "      <td>S</td>\n",
       "      <td>Nova Alvorada do Sul</td>\n",
       "      <td>1</td>\n",
       "      <td>1</td>\n",
       "      <td>3</td>\n",
       "      <td>2406</td>\n",
       "      <td>28000</td>\n",
       "      <td>1</td>\n",
       "      <td>4</td>\n",
       "      <td>2</td>\n",
       "      <td>2</td>\n",
       "      <td>0</td>\n",
       "    </tr>\n",
       "  </tbody>\n",
       "</table>\n",
       "<p>13408 rows × 14 columns</p>\n",
       "</div>"
      ],
      "text/plain": [
       "                                                      Id  Idade EstadoCivil  \\\n",
       "0      $2b$10$.DCvvJ9WSDpqVP2xXjeSPe..Fx6NhsrK9ZzYadq...     35           C   \n",
       "1      $2b$10$.DCvvJ9WSDpqVP2xXjeSPe..kI2Jy5NBFp0bWHG...     22           S   \n",
       "2      $2b$10$.DCvvJ9WSDpqVP2xXjeSPe./h2nCG51DS8AEwV8...     51           C   \n",
       "3      $2b$10$.DCvvJ9WSDpqVP2xXjeSPe./np28dLDLl04GG7s...     36           S   \n",
       "4      $2b$10$.DCvvJ9WSDpqVP2xXjeSPe./RaD5ilKiZI.7Hik...     34           S   \n",
       "...                                                  ...    ...         ...   \n",
       "13403  $2b$10$.DCvvJ9WSDpqVP2xXjeSPeZzlfpdbYbWbiMI2O2...     41           S   \n",
       "13404  $2b$10$.DCvvJ9WSDpqVP2xXjeSPezZnFnre0ofPq1wRF1...     30           C   \n",
       "13405  $2b$10$.DCvvJ9WSDpqVP2xXjeSPeZzP5DRGfb11bMIrV8...     44           S   \n",
       "13406  $2b$10$.DCvvJ9WSDpqVP2xXjeSPezzttIBRwey7HP2/F/...     31           C   \n",
       "13407  $2b$10$.DCvvJ9WSDpqVP2xXjeSPeZzXBUhbFjWAFGNx/D...     25           S   \n",
       "\n",
       "                BillingCity  NivelConhecimentoAtual  ScoreNivelConhecimento  \\\n",
       "0              Juiz de Fora                       1                       1   \n",
       "1                 São Paulo                       0                       0   \n",
       "2                    Santos                       5                       5   \n",
       "3                   Jundiaí                       5                       5   \n",
       "4                  Brasília                       1                       1   \n",
       "...                     ...                     ...                     ...   \n",
       "13403             Guarulhos                       1                       1   \n",
       "13404             São Paulo                       4                       4   \n",
       "13405             São Paulo                       1                       1   \n",
       "13406          Campo Grande                       0                       5   \n",
       "13407  Nova Alvorada do Sul                       1                       1   \n",
       "\n",
       "       PerfilInvestidor RendaMensal ValorPatrimonio  Ind_Guardado  ScoreRisco  \\\n",
       "0                     2        2000           15000             1           2   \n",
       "1                     0        1900            1000             0           0   \n",
       "2                     4        8000          300000             2           3   \n",
       "3                     5       15000          450000             3           4   \n",
       "4                     3        1380               0             3           3   \n",
       "...                 ...         ...             ...           ...         ...   \n",
       "13403                 2        4000               0             1           2   \n",
       "13404                 4       16000           40000             3           4   \n",
       "13405                 1           0          100000             1           1   \n",
       "13406                 4        5500           85000             2           3   \n",
       "13407                 3        2406           28000             1           4   \n",
       "\n",
       "       ScoreObjetivos  ScoreSituacaoFinanceira Soma_Investido_Total  \n",
       "0                   2                        1                   60  \n",
       "1                   0                        0                    0  \n",
       "2                   3                        3                    0  \n",
       "3                   5                        3                 5000  \n",
       "4                   4                        2                   30  \n",
       "...               ...                      ...                  ...  \n",
       "13403               3                        1                   60  \n",
       "13404               3                        3                31500  \n",
       "13405               1                        1               104,44  \n",
       "13406               5                        3              1030,65  \n",
       "13407               2                        2                    0  \n",
       "\n",
       "[13408 rows x 14 columns]"
      ]
     },
     "execution_count": 4,
     "metadata": {},
     "output_type": "execute_result"
    }
   ],
   "source": [
    "clientes = pd.read_csv(\"../repository/clientes.csv\",sep=';')\n",
    "clientes"
   ]
  },
  {
   "cell_type": "code",
   "execution_count": 5,
   "metadata": {
    "colab": {
     "base_uri": "https://localhost:8080/",
     "height": 473
    },
    "colab_type": "code",
    "executionInfo": {
     "elapsed": 38237,
     "status": "ok",
     "timestamp": 1585785227119,
     "user": {
      "displayName": "Marcelo Nunes Alves",
      "photoUrl": "https://lh3.googleusercontent.com/a-/AOh14Ggg7j8UpQCWjd1mjJepuWNjOO1BULs-g6UsERA1vQ=s64",
      "userId": "09811685755861607483"
     },
     "user_tz": 180
    },
    "id": "mTUV5a8mM0WW",
    "outputId": "f9b90c14-2286-47a0-b2c3-0cd7bffed233"
   },
   "outputs": [
    {
     "data": {
      "text/html": [
       "<div>\n",
       "<style scoped>\n",
       "    .dataframe tbody tr th:only-of-type {\n",
       "        vertical-align: middle;\n",
       "    }\n",
       "\n",
       "    .dataframe tbody tr th {\n",
       "        vertical-align: top;\n",
       "    }\n",
       "\n",
       "    .dataframe thead th {\n",
       "        text-align: right;\n",
       "    }\n",
       "</style>\n",
       "<table border=\"1\" class=\"dataframe\">\n",
       "  <thead>\n",
       "    <tr style=\"text-align: right;\">\n",
       "      <th></th>\n",
       "      <th>Idade</th>\n",
       "      <th>NivelConhecimentoAtual</th>\n",
       "      <th>ScoreNivelConhecimento</th>\n",
       "      <th>PerfilInvestidor</th>\n",
       "      <th>Ind_Guardado</th>\n",
       "      <th>ScoreRisco</th>\n",
       "      <th>ScoreObjetivos</th>\n",
       "      <th>ScoreSituacaoFinanceira</th>\n",
       "      <th>Sao_Paulo</th>\n",
       "      <th>Rio</th>\n",
       "      <th>Brasilia</th>\n",
       "      <th>Soma_Investido_Total_Scaler</th>\n",
       "      <th>ValorPatrimonio_Scaler</th>\n",
       "      <th>RendaMensal_Scaler</th>\n",
       "      <th>EstadoCivil_C</th>\n",
       "      <th>EstadoCivil_D</th>\n",
       "      <th>EstadoCivil_I</th>\n",
       "      <th>EstadoCivil_M</th>\n",
       "      <th>EstadoCivil_S</th>\n",
       "      <th>EstadoCivil_V</th>\n",
       "      <th>TipoCarteira__c_CDB</th>\n",
       "      <th>TipoCarteira__c_Catálogo Padrão Tesouro Direto</th>\n",
       "      <th>TipoCarteira__c_FIC de Fundo Cambial</th>\n",
       "      <th>TipoCarteira__c_FIC de Fundo Multimercado</th>\n",
       "      <th>TipoCarteira__c_FIC de Fundo de Ações</th>\n",
       "      <th>TipoCarteira__c_FIC de Fundo de Renda Fixa</th>\n",
       "      <th>TipoCarteira__c_Fundo Cambial</th>\n",
       "      <th>TipoCarteira__c_Fundo Multimercado</th>\n",
       "      <th>TipoCarteira__c_Fundo de Ações</th>\n",
       "      <th>TipoCarteira__c_Fundo de Renda Fixa</th>\n",
       "      <th>TipoCarteira__c_LC</th>\n",
       "      <th>TipoCarteira__c_LCA</th>\n",
       "      <th>TipoCarteira__c_LCI</th>\n",
       "    </tr>\n",
       "  </thead>\n",
       "  <tbody>\n",
       "    <tr>\n",
       "      <td>0</td>\n",
       "      <td>35</td>\n",
       "      <td>1</td>\n",
       "      <td>1</td>\n",
       "      <td>2</td>\n",
       "      <td>1</td>\n",
       "      <td>2</td>\n",
       "      <td>2</td>\n",
       "      <td>1</td>\n",
       "      <td>False</td>\n",
       "      <td>False</td>\n",
       "      <td>False</td>\n",
       "      <td>-0.301878</td>\n",
       "      <td>-0.048718</td>\n",
       "      <td>-0.231369</td>\n",
       "      <td>1</td>\n",
       "      <td>0</td>\n",
       "      <td>0</td>\n",
       "      <td>0</td>\n",
       "      <td>0</td>\n",
       "      <td>0</td>\n",
       "      <td>0</td>\n",
       "      <td>0</td>\n",
       "      <td>0</td>\n",
       "      <td>0</td>\n",
       "      <td>0</td>\n",
       "      <td>0</td>\n",
       "      <td>0</td>\n",
       "      <td>0</td>\n",
       "      <td>0</td>\n",
       "      <td>1</td>\n",
       "      <td>0</td>\n",
       "      <td>0</td>\n",
       "      <td>0</td>\n",
       "    </tr>\n",
       "    <tr>\n",
       "      <td>1</td>\n",
       "      <td>35</td>\n",
       "      <td>1</td>\n",
       "      <td>1</td>\n",
       "      <td>2</td>\n",
       "      <td>1</td>\n",
       "      <td>2</td>\n",
       "      <td>2</td>\n",
       "      <td>1</td>\n",
       "      <td>False</td>\n",
       "      <td>False</td>\n",
       "      <td>False</td>\n",
       "      <td>-0.301878</td>\n",
       "      <td>-0.048718</td>\n",
       "      <td>-0.231369</td>\n",
       "      <td>1</td>\n",
       "      <td>0</td>\n",
       "      <td>0</td>\n",
       "      <td>0</td>\n",
       "      <td>0</td>\n",
       "      <td>0</td>\n",
       "      <td>0</td>\n",
       "      <td>0</td>\n",
       "      <td>0</td>\n",
       "      <td>0</td>\n",
       "      <td>0</td>\n",
       "      <td>0</td>\n",
       "      <td>0</td>\n",
       "      <td>1</td>\n",
       "      <td>0</td>\n",
       "      <td>0</td>\n",
       "      <td>0</td>\n",
       "      <td>0</td>\n",
       "      <td>0</td>\n",
       "    </tr>\n",
       "    <tr>\n",
       "      <td>2</td>\n",
       "      <td>22</td>\n",
       "      <td>0</td>\n",
       "      <td>0</td>\n",
       "      <td>0</td>\n",
       "      <td>0</td>\n",
       "      <td>0</td>\n",
       "      <td>0</td>\n",
       "      <td>0</td>\n",
       "      <td>True</td>\n",
       "      <td>False</td>\n",
       "      <td>False</td>\n",
       "      <td>-0.302398</td>\n",
       "      <td>-0.049854</td>\n",
       "      <td>-0.234992</td>\n",
       "      <td>0</td>\n",
       "      <td>0</td>\n",
       "      <td>0</td>\n",
       "      <td>0</td>\n",
       "      <td>1</td>\n",
       "      <td>0</td>\n",
       "      <td>0</td>\n",
       "      <td>0</td>\n",
       "      <td>0</td>\n",
       "      <td>0</td>\n",
       "      <td>0</td>\n",
       "      <td>0</td>\n",
       "      <td>0</td>\n",
       "      <td>0</td>\n",
       "      <td>0</td>\n",
       "      <td>0</td>\n",
       "      <td>0</td>\n",
       "      <td>0</td>\n",
       "      <td>0</td>\n",
       "    </tr>\n",
       "    <tr>\n",
       "      <td>3</td>\n",
       "      <td>51</td>\n",
       "      <td>5</td>\n",
       "      <td>5</td>\n",
       "      <td>4</td>\n",
       "      <td>2</td>\n",
       "      <td>3</td>\n",
       "      <td>3</td>\n",
       "      <td>3</td>\n",
       "      <td>False</td>\n",
       "      <td>False</td>\n",
       "      <td>False</td>\n",
       "      <td>-0.302398</td>\n",
       "      <td>-0.025604</td>\n",
       "      <td>-0.013966</td>\n",
       "      <td>1</td>\n",
       "      <td>0</td>\n",
       "      <td>0</td>\n",
       "      <td>0</td>\n",
       "      <td>0</td>\n",
       "      <td>0</td>\n",
       "      <td>0</td>\n",
       "      <td>0</td>\n",
       "      <td>0</td>\n",
       "      <td>0</td>\n",
       "      <td>0</td>\n",
       "      <td>0</td>\n",
       "      <td>0</td>\n",
       "      <td>0</td>\n",
       "      <td>0</td>\n",
       "      <td>0</td>\n",
       "      <td>0</td>\n",
       "      <td>0</td>\n",
       "      <td>0</td>\n",
       "    </tr>\n",
       "    <tr>\n",
       "      <td>4</td>\n",
       "      <td>36</td>\n",
       "      <td>5</td>\n",
       "      <td>5</td>\n",
       "      <td>5</td>\n",
       "      <td>3</td>\n",
       "      <td>4</td>\n",
       "      <td>5</td>\n",
       "      <td>3</td>\n",
       "      <td>False</td>\n",
       "      <td>False</td>\n",
       "      <td>False</td>\n",
       "      <td>-0.259074</td>\n",
       "      <td>-0.013438</td>\n",
       "      <td>0.239671</td>\n",
       "      <td>0</td>\n",
       "      <td>0</td>\n",
       "      <td>0</td>\n",
       "      <td>0</td>\n",
       "      <td>1</td>\n",
       "      <td>0</td>\n",
       "      <td>0</td>\n",
       "      <td>0</td>\n",
       "      <td>0</td>\n",
       "      <td>0</td>\n",
       "      <td>0</td>\n",
       "      <td>0</td>\n",
       "      <td>0</td>\n",
       "      <td>1</td>\n",
       "      <td>0</td>\n",
       "      <td>0</td>\n",
       "      <td>0</td>\n",
       "      <td>0</td>\n",
       "      <td>0</td>\n",
       "    </tr>\n",
       "    <tr>\n",
       "      <td>...</td>\n",
       "      <td>...</td>\n",
       "      <td>...</td>\n",
       "      <td>...</td>\n",
       "      <td>...</td>\n",
       "      <td>...</td>\n",
       "      <td>...</td>\n",
       "      <td>...</td>\n",
       "      <td>...</td>\n",
       "      <td>...</td>\n",
       "      <td>...</td>\n",
       "      <td>...</td>\n",
       "      <td>...</td>\n",
       "      <td>...</td>\n",
       "      <td>...</td>\n",
       "      <td>...</td>\n",
       "      <td>...</td>\n",
       "      <td>...</td>\n",
       "      <td>...</td>\n",
       "      <td>...</td>\n",
       "      <td>...</td>\n",
       "      <td>...</td>\n",
       "      <td>...</td>\n",
       "      <td>...</td>\n",
       "      <td>...</td>\n",
       "      <td>...</td>\n",
       "      <td>...</td>\n",
       "      <td>...</td>\n",
       "      <td>...</td>\n",
       "      <td>...</td>\n",
       "      <td>...</td>\n",
       "      <td>...</td>\n",
       "      <td>...</td>\n",
       "      <td>...</td>\n",
       "    </tr>\n",
       "    <tr>\n",
       "      <td>37922</td>\n",
       "      <td>30</td>\n",
       "      <td>4</td>\n",
       "      <td>4</td>\n",
       "      <td>4</td>\n",
       "      <td>3</td>\n",
       "      <td>4</td>\n",
       "      <td>3</td>\n",
       "      <td>3</td>\n",
       "      <td>True</td>\n",
       "      <td>False</td>\n",
       "      <td>False</td>\n",
       "      <td>-0.029458</td>\n",
       "      <td>-0.046691</td>\n",
       "      <td>0.275905</td>\n",
       "      <td>1</td>\n",
       "      <td>0</td>\n",
       "      <td>0</td>\n",
       "      <td>0</td>\n",
       "      <td>0</td>\n",
       "      <td>0</td>\n",
       "      <td>0</td>\n",
       "      <td>0</td>\n",
       "      <td>0</td>\n",
       "      <td>0</td>\n",
       "      <td>0</td>\n",
       "      <td>0</td>\n",
       "      <td>0</td>\n",
       "      <td>0</td>\n",
       "      <td>1</td>\n",
       "      <td>0</td>\n",
       "      <td>0</td>\n",
       "      <td>0</td>\n",
       "      <td>0</td>\n",
       "    </tr>\n",
       "    <tr>\n",
       "      <td>37923</td>\n",
       "      <td>44</td>\n",
       "      <td>1</td>\n",
       "      <td>1</td>\n",
       "      <td>1</td>\n",
       "      <td>1</td>\n",
       "      <td>1</td>\n",
       "      <td>1</td>\n",
       "      <td>1</td>\n",
       "      <td>True</td>\n",
       "      <td>False</td>\n",
       "      <td>False</td>\n",
       "      <td>-0.301493</td>\n",
       "      <td>-0.041824</td>\n",
       "      <td>-0.303837</td>\n",
       "      <td>0</td>\n",
       "      <td>0</td>\n",
       "      <td>0</td>\n",
       "      <td>0</td>\n",
       "      <td>1</td>\n",
       "      <td>0</td>\n",
       "      <td>0</td>\n",
       "      <td>1</td>\n",
       "      <td>0</td>\n",
       "      <td>0</td>\n",
       "      <td>0</td>\n",
       "      <td>0</td>\n",
       "      <td>0</td>\n",
       "      <td>0</td>\n",
       "      <td>0</td>\n",
       "      <td>0</td>\n",
       "      <td>0</td>\n",
       "      <td>0</td>\n",
       "      <td>0</td>\n",
       "    </tr>\n",
       "    <tr>\n",
       "      <td>37924</td>\n",
       "      <td>31</td>\n",
       "      <td>0</td>\n",
       "      <td>5</td>\n",
       "      <td>4</td>\n",
       "      <td>2</td>\n",
       "      <td>3</td>\n",
       "      <td>5</td>\n",
       "      <td>3</td>\n",
       "      <td>False</td>\n",
       "      <td>False</td>\n",
       "      <td>False</td>\n",
       "      <td>-0.293468</td>\n",
       "      <td>-0.043041</td>\n",
       "      <td>-0.104551</td>\n",
       "      <td>1</td>\n",
       "      <td>0</td>\n",
       "      <td>0</td>\n",
       "      <td>0</td>\n",
       "      <td>0</td>\n",
       "      <td>0</td>\n",
       "      <td>0</td>\n",
       "      <td>0</td>\n",
       "      <td>0</td>\n",
       "      <td>0</td>\n",
       "      <td>0</td>\n",
       "      <td>0</td>\n",
       "      <td>0</td>\n",
       "      <td>1</td>\n",
       "      <td>0</td>\n",
       "      <td>0</td>\n",
       "      <td>0</td>\n",
       "      <td>0</td>\n",
       "      <td>0</td>\n",
       "    </tr>\n",
       "    <tr>\n",
       "      <td>37925</td>\n",
       "      <td>31</td>\n",
       "      <td>0</td>\n",
       "      <td>5</td>\n",
       "      <td>4</td>\n",
       "      <td>2</td>\n",
       "      <td>3</td>\n",
       "      <td>5</td>\n",
       "      <td>3</td>\n",
       "      <td>False</td>\n",
       "      <td>False</td>\n",
       "      <td>False</td>\n",
       "      <td>-0.293468</td>\n",
       "      <td>-0.043041</td>\n",
       "      <td>-0.104551</td>\n",
       "      <td>1</td>\n",
       "      <td>0</td>\n",
       "      <td>0</td>\n",
       "      <td>0</td>\n",
       "      <td>0</td>\n",
       "      <td>0</td>\n",
       "      <td>0</td>\n",
       "      <td>0</td>\n",
       "      <td>0</td>\n",
       "      <td>0</td>\n",
       "      <td>1</td>\n",
       "      <td>0</td>\n",
       "      <td>0</td>\n",
       "      <td>0</td>\n",
       "      <td>0</td>\n",
       "      <td>0</td>\n",
       "      <td>0</td>\n",
       "      <td>0</td>\n",
       "      <td>0</td>\n",
       "    </tr>\n",
       "    <tr>\n",
       "      <td>37926</td>\n",
       "      <td>25</td>\n",
       "      <td>1</td>\n",
       "      <td>1</td>\n",
       "      <td>3</td>\n",
       "      <td>1</td>\n",
       "      <td>4</td>\n",
       "      <td>2</td>\n",
       "      <td>2</td>\n",
       "      <td>False</td>\n",
       "      <td>False</td>\n",
       "      <td>False</td>\n",
       "      <td>-0.302398</td>\n",
       "      <td>-0.047664</td>\n",
       "      <td>-0.216658</td>\n",
       "      <td>0</td>\n",
       "      <td>0</td>\n",
       "      <td>0</td>\n",
       "      <td>0</td>\n",
       "      <td>1</td>\n",
       "      <td>0</td>\n",
       "      <td>0</td>\n",
       "      <td>0</td>\n",
       "      <td>0</td>\n",
       "      <td>0</td>\n",
       "      <td>0</td>\n",
       "      <td>0</td>\n",
       "      <td>0</td>\n",
       "      <td>0</td>\n",
       "      <td>0</td>\n",
       "      <td>0</td>\n",
       "      <td>0</td>\n",
       "      <td>0</td>\n",
       "      <td>0</td>\n",
       "    </tr>\n",
       "  </tbody>\n",
       "</table>\n",
       "<p>37927 rows × 33 columns</p>\n",
       "</div>"
      ],
      "text/plain": [
       "       Idade  NivelConhecimentoAtual  ScoreNivelConhecimento  \\\n",
       "0         35                       1                       1   \n",
       "1         35                       1                       1   \n",
       "2         22                       0                       0   \n",
       "3         51                       5                       5   \n",
       "4         36                       5                       5   \n",
       "...      ...                     ...                     ...   \n",
       "37922     30                       4                       4   \n",
       "37923     44                       1                       1   \n",
       "37924     31                       0                       5   \n",
       "37925     31                       0                       5   \n",
       "37926     25                       1                       1   \n",
       "\n",
       "       PerfilInvestidor  Ind_Guardado  ScoreRisco  ScoreObjetivos  \\\n",
       "0                     2             1           2               2   \n",
       "1                     2             1           2               2   \n",
       "2                     0             0           0               0   \n",
       "3                     4             2           3               3   \n",
       "4                     5             3           4               5   \n",
       "...                 ...           ...         ...             ...   \n",
       "37922                 4             3           4               3   \n",
       "37923                 1             1           1               1   \n",
       "37924                 4             2           3               5   \n",
       "37925                 4             2           3               5   \n",
       "37926                 3             1           4               2   \n",
       "\n",
       "       ScoreSituacaoFinanceira  Sao_Paulo    Rio  Brasilia  \\\n",
       "0                            1      False  False     False   \n",
       "1                            1      False  False     False   \n",
       "2                            0       True  False     False   \n",
       "3                            3      False  False     False   \n",
       "4                            3      False  False     False   \n",
       "...                        ...        ...    ...       ...   \n",
       "37922                        3       True  False     False   \n",
       "37923                        1       True  False     False   \n",
       "37924                        3      False  False     False   \n",
       "37925                        3      False  False     False   \n",
       "37926                        2      False  False     False   \n",
       "\n",
       "       Soma_Investido_Total_Scaler  ValorPatrimonio_Scaler  \\\n",
       "0                        -0.301878               -0.048718   \n",
       "1                        -0.301878               -0.048718   \n",
       "2                        -0.302398               -0.049854   \n",
       "3                        -0.302398               -0.025604   \n",
       "4                        -0.259074               -0.013438   \n",
       "...                            ...                     ...   \n",
       "37922                    -0.029458               -0.046691   \n",
       "37923                    -0.301493               -0.041824   \n",
       "37924                    -0.293468               -0.043041   \n",
       "37925                    -0.293468               -0.043041   \n",
       "37926                    -0.302398               -0.047664   \n",
       "\n",
       "       RendaMensal_Scaler  EstadoCivil_C  EstadoCivil_D  EstadoCivil_I  \\\n",
       "0               -0.231369              1              0              0   \n",
       "1               -0.231369              1              0              0   \n",
       "2               -0.234992              0              0              0   \n",
       "3               -0.013966              1              0              0   \n",
       "4                0.239671              0              0              0   \n",
       "...                   ...            ...            ...            ...   \n",
       "37922            0.275905              1              0              0   \n",
       "37923           -0.303837              0              0              0   \n",
       "37924           -0.104551              1              0              0   \n",
       "37925           -0.104551              1              0              0   \n",
       "37926           -0.216658              0              0              0   \n",
       "\n",
       "       EstadoCivil_M  EstadoCivil_S  EstadoCivil_V  TipoCarteira__c_CDB  \\\n",
       "0                  0              0              0                    0   \n",
       "1                  0              0              0                    0   \n",
       "2                  0              1              0                    0   \n",
       "3                  0              0              0                    0   \n",
       "4                  0              1              0                    0   \n",
       "...              ...            ...            ...                  ...   \n",
       "37922              0              0              0                    0   \n",
       "37923              0              1              0                    0   \n",
       "37924              0              0              0                    0   \n",
       "37925              0              0              0                    0   \n",
       "37926              0              1              0                    0   \n",
       "\n",
       "       TipoCarteira__c_Catálogo Padrão Tesouro Direto  \\\n",
       "0                                                   0   \n",
       "1                                                   0   \n",
       "2                                                   0   \n",
       "3                                                   0   \n",
       "4                                                   0   \n",
       "...                                               ...   \n",
       "37922                                               0   \n",
       "37923                                               1   \n",
       "37924                                               0   \n",
       "37925                                               0   \n",
       "37926                                               0   \n",
       "\n",
       "       TipoCarteira__c_FIC de Fundo Cambial  \\\n",
       "0                                         0   \n",
       "1                                         0   \n",
       "2                                         0   \n",
       "3                                         0   \n",
       "4                                         0   \n",
       "...                                     ...   \n",
       "37922                                     0   \n",
       "37923                                     0   \n",
       "37924                                     0   \n",
       "37925                                     0   \n",
       "37926                                     0   \n",
       "\n",
       "       TipoCarteira__c_FIC de Fundo Multimercado  \\\n",
       "0                                              0   \n",
       "1                                              0   \n",
       "2                                              0   \n",
       "3                                              0   \n",
       "4                                              0   \n",
       "...                                          ...   \n",
       "37922                                          0   \n",
       "37923                                          0   \n",
       "37924                                          0   \n",
       "37925                                          0   \n",
       "37926                                          0   \n",
       "\n",
       "       TipoCarteira__c_FIC de Fundo de Ações  \\\n",
       "0                                          0   \n",
       "1                                          0   \n",
       "2                                          0   \n",
       "3                                          0   \n",
       "4                                          0   \n",
       "...                                      ...   \n",
       "37922                                      0   \n",
       "37923                                      0   \n",
       "37924                                      0   \n",
       "37925                                      1   \n",
       "37926                                      0   \n",
       "\n",
       "       TipoCarteira__c_FIC de Fundo de Renda Fixa  \\\n",
       "0                                               0   \n",
       "1                                               0   \n",
       "2                                               0   \n",
       "3                                               0   \n",
       "4                                               0   \n",
       "...                                           ...   \n",
       "37922                                           0   \n",
       "37923                                           0   \n",
       "37924                                           0   \n",
       "37925                                           0   \n",
       "37926                                           0   \n",
       "\n",
       "       TipoCarteira__c_Fundo Cambial  TipoCarteira__c_Fundo Multimercado  \\\n",
       "0                                  0                                   0   \n",
       "1                                  0                                   1   \n",
       "2                                  0                                   0   \n",
       "3                                  0                                   0   \n",
       "4                                  0                                   1   \n",
       "...                              ...                                 ...   \n",
       "37922                              0                                   0   \n",
       "37923                              0                                   0   \n",
       "37924                              0                                   1   \n",
       "37925                              0                                   0   \n",
       "37926                              0                                   0   \n",
       "\n",
       "       TipoCarteira__c_Fundo de Ações  TipoCarteira__c_Fundo de Renda Fixa  \\\n",
       "0                                   0                                    1   \n",
       "1                                   0                                    0   \n",
       "2                                   0                                    0   \n",
       "3                                   0                                    0   \n",
       "4                                   0                                    0   \n",
       "...                               ...                                  ...   \n",
       "37922                               1                                    0   \n",
       "37923                               0                                    0   \n",
       "37924                               0                                    0   \n",
       "37925                               0                                    0   \n",
       "37926                               0                                    0   \n",
       "\n",
       "       TipoCarteira__c_LC  TipoCarteira__c_LCA  TipoCarteira__c_LCI  \n",
       "0                       0                    0                    0  \n",
       "1                       0                    0                    0  \n",
       "2                       0                    0                    0  \n",
       "3                       0                    0                    0  \n",
       "4                       0                    0                    0  \n",
       "...                   ...                  ...                  ...  \n",
       "37922                   0                    0                    0  \n",
       "37923                   0                    0                    0  \n",
       "37924                   0                    0                    0  \n",
       "37925                   0                    0                    0  \n",
       "37926                   0                    0                    0  \n",
       "\n",
       "[37927 rows x 33 columns]"
      ]
     },
     "execution_count": 5,
     "metadata": {},
     "output_type": "execute_result"
    }
   ],
   "source": [
    "clientes['Soma_Investido_Total']= pd.to_numeric(clientes['Soma_Investido_Total'].str.replace(',','.'))\n",
    "clientes['ValorPatrimonio']     = pd.to_numeric(clientes['ValorPatrimonio'].str.replace(',','.'))\n",
    "clientes['RendaMensal']         = pd.to_numeric(clientes['RendaMensal'].str.replace(',','.'))\n",
    "clientes['Sao_Paulo']           = clientes['BillingCity'] == 'São Paulo'\n",
    "clientes['Rio']                 = clientes['BillingCity'] == 'Rio de Janeiro'\n",
    "clientes['Brasilia']            = clientes['BillingCity'] == 'Brasília'\n",
    "\n",
    "clientes = pd.merge(clientes, tipo_de_produto_do_cliente, how='left', on='Id')\n",
    "\n",
    "scaler = StandardScaler()\n",
    "clientes['Soma_Investido_Total_Scaler'] = 0\n",
    "clientes['ValorPatrimonio_Scaler'] = 0\n",
    "clientes['RendaMensal_Scaler'] = 0\n",
    "clientes[['Soma_Investido_Total_Scaler', 'ValorPatrimonio_Scaler', 'RendaMensal_Scaler']] = scaler.fit_transform(clientes[['Soma_Investido_Total', 'ValorPatrimonio', 'RendaMensal']])\n",
    "\n",
    "clientes_proc = limpezaParaTreino(clientes, ['Id', 'BillingCity', 'Soma_Investido_Total', 'ValorPatrimonio', 'RendaMensal'])\n",
    "clientes_proc"
   ]
  },
  {
   "cell_type": "markdown",
   "metadata": {
    "colab_type": "text",
    "id": "d2qH5qeDALhc"
   },
   "source": [
    "### Analise com 5 cluster"
   ]
  },
  {
   "cell_type": "code",
   "execution_count": 6,
   "metadata": {
    "colab": {
     "base_uri": "https://localhost:8080/",
     "height": 68
    },
    "colab_type": "code",
    "executionInfo": {
     "elapsed": 39985,
     "status": "ok",
     "timestamp": 1585785228894,
     "user": {
      "displayName": "Marcelo Nunes Alves",
      "photoUrl": "https://lh3.googleusercontent.com/a-/AOh14Ggg7j8UpQCWjd1mjJepuWNjOO1BULs-g6UsERA1vQ=s64",
      "userId": "09811685755861607483"
     },
     "user_tz": 180
    },
    "id": "QNuI50nqg5PB",
    "outputId": "f5f6cd22-9d1a-494d-e27a-d87356d25e87"
   },
   "outputs": [
    {
     "data": {
      "text/plain": [
       "KMeans(algorithm='auto', copy_x=True, init='k-means++', max_iter=300,\n",
       "       n_clusters=5, n_init=10, n_jobs=None, precompute_distances='auto',\n",
       "       random_state=None, tol=0.0001, verbose=0)"
      ]
     },
     "execution_count": 6,
     "metadata": {},
     "output_type": "execute_result"
    }
   ],
   "source": [
    "Kmean = KMeans(n_clusters=5)\n",
    "Kmean.fit(clientes_proc)"
   ]
  },
  {
   "cell_type": "code",
   "execution_count": 7,
   "metadata": {
    "colab": {},
    "colab_type": "code",
    "id": "LdDoIxFvXT9B"
   },
   "outputs": [],
   "source": [
    "dfL = pd.DataFrame({'label': Kmean.labels_})\n",
    "result = pd.concat([clientes, dfL], axis=1, join='inner')\n",
    "result = result.drop(['Id', 'BillingCity'], axis=1)"
   ]
  },
  {
   "cell_type": "code",
   "execution_count": 8,
   "metadata": {
    "colab": {
     "base_uri": "https://localhost:8080/",
     "height": 136
    },
    "colab_type": "code",
    "executionInfo": {
     "elapsed": 39953,
     "status": "ok",
     "timestamp": 1585785228898,
     "user": {
      "displayName": "Marcelo Nunes Alves",
      "photoUrl": "https://lh3.googleusercontent.com/a-/AOh14Ggg7j8UpQCWjd1mjJepuWNjOO1BULs-g6UsERA1vQ=s64",
      "userId": "09811685755861607483"
     },
     "user_tz": 180
    },
    "id": "Jcw-zXO_aag6",
    "outputId": "387e37a2-0025-47dd-b3fb-7388788ced02"
   },
   "outputs": [
    {
     "data": {
      "text/plain": [
       "label\n",
       "0     8715\n",
       "1     5355\n",
       "2    11552\n",
       "3     2340\n",
       "4     9965\n",
       "Name: Idade, dtype: int64"
      ]
     },
     "execution_count": 8,
     "metadata": {},
     "output_type": "execute_result"
    }
   ],
   "source": [
    "result.groupby(['label'])['Idade'].count()"
   ]
  },
  {
   "cell_type": "code",
   "execution_count": 9,
   "metadata": {
    "colab": {
     "base_uri": "https://localhost:8080/",
     "height": 285
    },
    "colab_type": "code",
    "executionInfo": {
     "elapsed": 41529,
     "status": "ok",
     "timestamp": 1585785230492,
     "user": {
      "displayName": "Marcelo Nunes Alves",
      "photoUrl": "https://lh3.googleusercontent.com/a-/AOh14Ggg7j8UpQCWjd1mjJepuWNjOO1BULs-g6UsERA1vQ=s64",
      "userId": "09811685755861607483"
     },
     "user_tz": 180
    },
    "id": "LDCFME5DhbHI",
    "outputId": "8d666be2-1361-453f-c735-34d994f6a78b"
   },
   "outputs": [
    {
     "data": {
      "image/png": "[encoded data removed]",
      "text/plain": [
       "<Figure size 432x288 with 1 Axes>"
      ]
     },
     "metadata": {
      "needs_background": "light"
     },
     "output_type": "display_data"
    }
   ],
   "source": [
    "plt.scatter(result[result['label'] == 0].Idade, result[result['label'] == 0].ScoreRisco, c = 'red', label = 'Cluster 1')\n",
    "plt.scatter(result[result['label'] == 1].Idade, result[result['label'] == 1].ScoreRisco, c = 'blue', label = 'Cluster 2')\n",
    "plt.scatter(result[result['label'] == 2].Idade, result[result['label'] == 2].ScoreRisco, c = 'green', label = 'Cluster 3')\n",
    "plt.scatter(result[result['label'] == 3].Idade, result[result['label'] == 3].ScoreRisco, c = 'cyan', label = 'Cluster 4')\n",
    "plt.scatter(result[result['label'] == 4].Idade, result[result['label'] == 4].ScoreRisco, c = 'magenta', label = 'Cluster 5')\n",
    "plt.xlabel('Idade')\n",
    "plt.ylabel('Score de risco')\n",
    "plt.legend()\n",
    "plt.show()"
   ]
  },
  {
   "cell_type": "code",
   "execution_count": 10,
   "metadata": {
    "colab": {
     "base_uri": "https://localhost:8080/",
     "height": 296
    },
    "colab_type": "code",
    "executionInfo": {
     "elapsed": 42012,
     "status": "ok",
     "timestamp": 1585785231001,
     "user": {
      "displayName": "Marcelo Nunes Alves",
      "photoUrl": "https://lh3.googleusercontent.com/a-/AOh14Ggg7j8UpQCWjd1mjJepuWNjOO1BULs-g6UsERA1vQ=s64",
      "userId": "09811685755861607483"
     },
     "user_tz": 180
    },
    "id": "NebXJW5RmQhU",
    "outputId": "557c2370-2050-40a8-e1f1-5fcf415e9d7c"
   },
   "outputs": [
    {
     "data": {
      "image/png": "[encoded data removed]",
      "text/plain": [
       "<Figure size 432x288 with 1 Axes>"
      ]
     },
     "metadata": {
      "needs_background": "light"
     },
     "output_type": "display_data"
    }
   ],
   "source": [
    "plt.scatter(result[result['label'] == 0].Idade, result[result['label'] == 0].Soma_Investido_Total, c = 'red', label = 'Cluster 1')\n",
    "plt.scatter(result[result['label'] == 1].Idade, result[result['label'] == 1].Soma_Investido_Total, c = 'blue', label = 'Cluster 2')\n",
    "plt.scatter(result[result['label'] == 2].Idade, result[result['label'] == 2].Soma_Investido_Total, c = 'green', label = 'Cluster 3')\n",
    "plt.scatter(result[result['label'] == 3].Idade, result[result['label'] == 3].Soma_Investido_Total, c = 'cyan', label = 'Cluster 4')\n",
    "plt.scatter(result[result['label'] == 4].Idade, result[result['label'] == 4].Soma_Investido_Total, c = 'magenta', label = 'Cluster 5')\n",
    "plt.xlabel('Idade')\n",
    "plt.ylabel('Soma_Investido_Total')\n",
    "plt.legend()\n",
    "plt.show()"
   ]
  },
  {
   "cell_type": "code",
   "execution_count": 11,
   "metadata": {
    "colab": {
     "base_uri": "https://localhost:8080/",
     "height": 285
    },
    "colab_type": "code",
    "executionInfo": {
     "elapsed": 42484,
     "status": "ok",
     "timestamp": 1585785231497,
     "user": {
      "displayName": "Marcelo Nunes Alves",
      "photoUrl": "https://lh3.googleusercontent.com/a-/AOh14Ggg7j8UpQCWjd1mjJepuWNjOO1BULs-g6UsERA1vQ=s64",
      "userId": "09811685755861607483"
     },
     "user_tz": 180
    },
    "id": "tqxOHQkME_fq",
    "outputId": "97bf1d13-a44d-494f-ab3f-f9ecab11d27e"
   },
   "outputs": [
    {
     "data": {
      "image/png": "[encoded data removed]",
      "text/plain": [
       "<Figure size 432x288 with 1 Axes>"
      ]
     },
     "metadata": {
      "needs_background": "light"
     },
     "output_type": "display_data"
    }
   ],
   "source": [
    "plt.scatter(result[result['label'] == 0].Idade, result[result['label'] == 0].ValorPatrimonio_Scaler, c = 'red', label = 'Cluster 1')\n",
    "plt.scatter(result[result['label'] == 1].Idade, result[result['label'] == 1].ValorPatrimonio_Scaler, c = 'blue', label = 'Cluster 2')\n",
    "plt.scatter(result[result['label'] == 2].Idade, result[result['label'] == 2].ValorPatrimonio_Scaler, c = 'green', label = 'Cluster 3')\n",
    "plt.scatter(result[result['label'] == 3].Idade, result[result['label'] == 3].ValorPatrimonio_Scaler, c = 'cyan', label = 'Cluster 4')\n",
    "plt.scatter(result[result['label'] == 4].Idade, result[result['label'] == 4].ValorPatrimonio_Scaler, c = 'magenta', label = 'Cluster 5')\n",
    "plt.xlabel('Idade')\n",
    "plt.ylabel('Valor do Patrimonio')\n",
    "plt.legend()\n",
    "plt.show()"
   ]
  },
  {
   "cell_type": "code",
   "execution_count": 12,
   "metadata": {
    "colab": {
     "base_uri": "https://localhost:8080/",
     "height": 296
    },
    "colab_type": "code",
    "executionInfo": {
     "elapsed": 42970,
     "status": "ok",
     "timestamp": 1585785232006,
     "user": {
      "displayName": "Marcelo Nunes Alves",
      "photoUrl": "https://lh3.googleusercontent.com/a-/AOh14Ggg7j8UpQCWjd1mjJepuWNjOO1BULs-g6UsERA1vQ=s64",
      "userId": "09811685755861607483"
     },
     "user_tz": 180
    },
    "id": "D-SEA5MeAhyk",
    "outputId": "d2a5ced1-431e-4247-a41e-dfc2997cc23e"
   },
   "outputs": [
    {
     "data": {
      "image/png": "[encoded data removed]",
      "text/plain": [
       "<Figure size 432x288 with 1 Axes>"
      ]
     },
     "metadata": {
      "needs_background": "light"
     },
     "output_type": "display_data"
    }
   ],
   "source": [
    "plt.scatter(result[result['label'] == 0].RendaMensal, result[result['label'] == 0].ValorPatrimonio, c = 'red', label = 'Cluster 1')\n",
    "plt.scatter(result[result['label'] == 1].RendaMensal, result[result['label'] == 1].ValorPatrimonio, c = 'blue', label = 'Cluster 2')\n",
    "plt.scatter(result[result['label'] == 2].RendaMensal, result[result['label'] == 2].ValorPatrimonio, c = 'green', label = 'Cluster 3')\n",
    "plt.scatter(result[result['label'] == 3].RendaMensal, result[result['label'] == 3].ValorPatrimonio, c = 'cyan', label = 'Cluster 4')\n",
    "plt.scatter(result[result['label'] == 4].RendaMensal, result[result['label'] == 4].ValorPatrimonio, c = 'magenta', label = 'Cluster 5')\n",
    "plt.xlabel('Renda mensal')\n",
    "plt.ylabel('Valor do patrimonio')\n",
    "plt.legend()\n",
    "plt.show()"
   ]
  },
  {
   "cell_type": "code",
   "execution_count": 13,
   "metadata": {
    "colab": {
     "base_uri": "https://localhost:8080/",
     "height": 296
    },
    "colab_type": "code",
    "executionInfo": {
     "elapsed": 44346,
     "status": "ok",
     "timestamp": 1585785233409,
     "user": {
      "displayName": "Marcelo Nunes Alves",
      "photoUrl": "https://lh3.googleusercontent.com/a-/AOh14Ggg7j8UpQCWjd1mjJepuWNjOO1BULs-g6UsERA1vQ=s64",
      "userId": "09811685755861607483"
     },
     "user_tz": 180
    },
    "id": "huuhFEltCu0L",
    "outputId": "ba88e636-bb9f-45f2-f8c4-538f98dfb590"
   },
   "outputs": [
    {
     "data": {
      "image/png": "[encoded data removed]",
      "text/plain": [
       "<Figure size 432x288 with 1 Axes>"
      ]
     },
     "metadata": {
      "needs_background": "light"
     },
     "output_type": "display_data"
    }
   ],
   "source": [
    "plt.scatter(result[result['label'] == 0].RendaMensal, result[result['label'] == 0].Soma_Investido_Total, c = 'red', label = 'Cluster 1')\n",
    "plt.scatter(result[result['label'] == 1].RendaMensal, result[result['label'] == 1].Soma_Investido_Total, c = 'blue', label = 'Cluster 2')\n",
    "plt.scatter(result[result['label'] == 2].RendaMensal, result[result['label'] == 2].Soma_Investido_Total, c = 'green', label = 'Cluster 3')\n",
    "plt.scatter(result[result['label'] == 3].RendaMensal, result[result['label'] == 3].Soma_Investido_Total, c = 'cyan', label = 'Cluster 4')\n",
    "plt.scatter(result[result['label'] == 4].RendaMensal, result[result['label'] == 4].Soma_Investido_Total, c = 'magenta', label = 'Cluster 5')\n",
    "plt.xlabel('Soma investido')\n",
    "plt.ylabel('Renda mensal')\n",
    "plt.legend()\n",
    "plt.show()"
   ]
  },
  {
   "cell_type": "code",
   "execution_count": 14,
   "metadata": {
    "colab": {
     "base_uri": "https://localhost:8080/",
     "height": 296
    },
    "colab_type": "code",
    "executionInfo": {
     "elapsed": 44328,
     "status": "ok",
     "timestamp": 1585785233411,
     "user": {
      "displayName": "Marcelo Nunes Alves",
      "photoUrl": "https://lh3.googleusercontent.com/a-/AOh14Ggg7j8UpQCWjd1mjJepuWNjOO1BULs-g6UsERA1vQ=s64",
      "userId": "09811685755861607483"
     },
     "user_tz": 180
    },
    "id": "sce4QaIcDRhE",
    "outputId": "782b5678-ddfa-4821-9ddf-76eab5c3d072"
   },
   "outputs": [
    {
     "data": {
      "image/png": "[encoded data removed]",
      "text/plain": [
       "<Figure size 432x288 with 1 Axes>"
      ]
     },
     "metadata": {
      "needs_background": "light"
     },
     "output_type": "display_data"
    }
   ],
   "source": [
    "plt.scatter(result[result['label'] == 0].EstadoCivil, result[result['label'] == 0].Soma_Investido_Total, c = 'red', label = 'Cluster 1')\n",
    "plt.scatter(result[result['label'] == 1].EstadoCivil, result[result['label'] == 1].Soma_Investido_Total, c = 'blue', label = 'Cluster 2')\n",
    "plt.scatter(result[result['label'] == 2].EstadoCivil, result[result['label'] == 2].Soma_Investido_Total, c = 'green', label = 'Cluster 3')\n",
    "plt.scatter(result[result['label'] == 3].EstadoCivil, result[result['label'] == 3].Soma_Investido_Total, c = 'cyan', label = 'Cluster 4')\n",
    "plt.scatter(result[result['label'] == 4].EstadoCivil, result[result['label'] == 4].Soma_Investido_Total, c = 'magenta', label = 'Cluster 5')\n",
    "plt.xlabel('Estado civil')\n",
    "plt.ylabel('Soma Investido Total')\n",
    "plt.legend()\n",
    "plt.show()"
   ]
  },
  {
   "cell_type": "code",
   "execution_count": 15,
   "metadata": {
    "colab": {
     "base_uri": "https://localhost:8080/",
     "height": 296
    },
    "colab_type": "code",
    "executionInfo": {
     "elapsed": 44779,
     "status": "ok",
     "timestamp": 1585785233900,
     "user": {
      "displayName": "Marcelo Nunes Alves",
      "photoUrl": "https://lh3.googleusercontent.com/a-/AOh14Ggg7j8UpQCWjd1mjJepuWNjOO1BULs-g6UsERA1vQ=s64",
      "userId": "09811685755861607483"
     },
     "user_tz": 180
    },
    "id": "jBBb8x63D9v0",
    "outputId": "0fe6c5f3-8c71-473e-e309-177c9f1b6f15"
   },
   "outputs": [
    {
     "data": {
      "image/png": "[encoded data removed]",
      "text/plain": [
       "<Figure size 432x288 with 1 Axes>"
      ]
     },
     "metadata": {
      "needs_background": "light"
     },
     "output_type": "display_data"
    }
   ],
   "source": [
    "plt.scatter(result[result['label'] == 0].NivelConhecimentoAtual, result[result['label'] == 0].Soma_Investido_Total, c = 'red', label = 'Cluster 1')\n",
    "plt.scatter(result[result['label'] == 1].NivelConhecimentoAtual, result[result['label'] == 1].Soma_Investido_Total, c = 'blue', label = 'Cluster 2')\n",
    "plt.scatter(result[result['label'] == 2].NivelConhecimentoAtual, result[result['label'] == 2].Soma_Investido_Total, c = 'green', label = 'Cluster 3')\n",
    "plt.scatter(result[result['label'] == 3].NivelConhecimentoAtual, result[result['label'] == 3].Soma_Investido_Total, c = 'cyan', label = 'Cluster 4')\n",
    "plt.scatter(result[result['label'] == 4].NivelConhecimentoAtual, result[result['label'] == 4].Soma_Investido_Total, c = 'magenta', label = 'Cluster 5')\n",
    "plt.xlabel('Nivel Conhecimento Atual')\n",
    "plt.ylabel('Soma Investido Total')\n",
    "plt.legend()\n",
    "plt.show()"
   ]
  },
  {
   "cell_type": "code",
   "execution_count": 16,
   "metadata": {
    "colab": {
     "base_uri": "https://localhost:8080/",
     "height": 296
    },
    "colab_type": "code",
    "executionInfo": {
     "elapsed": 45828,
     "status": "ok",
     "timestamp": 1585785234975,
     "user": {
      "displayName": "Marcelo Nunes Alves",
      "photoUrl": "https://lh3.googleusercontent.com/a-/AOh14Ggg7j8UpQCWjd1mjJepuWNjOO1BULs-g6UsERA1vQ=s64",
      "userId": "09811685755861607483"
     },
     "user_tz": 180
    },
    "id": "oRvV16nZEh0b",
    "outputId": "3d156cd0-87dc-4987-b5b9-06a5533ba0c0"
   },
   "outputs": [
    {
     "data": {
      "image/png": "[encoded data removed]",
      "text/plain": [
       "<Figure size 432x288 with 1 Axes>"
      ]
     },
     "metadata": {
      "needs_background": "light"
     },
     "output_type": "display_data"
    }
   ],
   "source": [
    "plt.scatter(result[result['label'] == 0].ScoreObjetivos, result[result['label'] == 0].Soma_Investido_Total, c = 'red', label = 'Cluster 1')\n",
    "plt.scatter(result[result['label'] == 1].ScoreObjetivos, result[result['label'] == 1].Soma_Investido_Total, c = 'blue', label = 'Cluster 2')\n",
    "plt.scatter(result[result['label'] == 2].ScoreObjetivos, result[result['label'] == 2].Soma_Investido_Total, c = 'green', label = 'Cluster 3')\n",
    "plt.scatter(result[result['label'] == 3].ScoreObjetivos, result[result['label'] == 3].Soma_Investido_Total, c = 'cyan', label = 'Cluster 4')\n",
    "plt.scatter(result[result['label'] == 4].ScoreObjetivos, result[result['label'] == 4].Soma_Investido_Total, c = 'magenta', label = 'Cluster 5')\n",
    "plt.xlabel('Score de objetivo')\n",
    "plt.ylabel('Soma Investido Total')\n",
    "plt.legend()\n",
    "plt.show()"
   ]
  },
  {
   "cell_type": "markdown",
   "metadata": {
    "colab_type": "text",
    "id": "ufovaJKDFbQz"
   },
   "source": [
    "### Analise com 7 cluster"
   ]
  },
  {
   "cell_type": "code",
   "execution_count": 17,
   "metadata": {
    "colab": {
     "base_uri": "https://localhost:8080/",
     "height": 68
    },
    "colab_type": "code",
    "executionInfo": {
     "elapsed": 48283,
     "status": "ok",
     "timestamp": 1585785237454,
     "user": {
      "displayName": "Marcelo Nunes Alves",
      "photoUrl": "https://lh3.googleusercontent.com/a-/AOh14Ggg7j8UpQCWjd1mjJepuWNjOO1BULs-g6UsERA1vQ=s64",
      "userId": "09811685755861607483"
     },
     "user_tz": 180
    },
    "id": "iVOf32xTFbQ5",
    "outputId": "25281829-75e1-47b8-cfb0-ea4a0f655639"
   },
   "outputs": [
    {
     "data": {
      "text/plain": [
       "KMeans(algorithm='auto', copy_x=True, init='k-means++', max_iter=300,\n",
       "       n_clusters=7, n_init=10, n_jobs=None, precompute_distances='auto',\n",
       "       random_state=None, tol=0.0001, verbose=0)"
      ]
     },
     "execution_count": 17,
     "metadata": {},
     "output_type": "execute_result"
    }
   ],
   "source": [
    "Kmean = KMeans(n_clusters=7)\n",
    "Kmean.fit(clientes_proc)"
   ]
  },
  {
   "cell_type": "code",
   "execution_count": 18,
   "metadata": {
    "colab": {},
    "colab_type": "code",
    "id": "Fq5aQqCmFbQ7"
   },
   "outputs": [],
   "source": [
    "dfL = pd.DataFrame({'label': Kmean.labels_})\n",
    "result = pd.concat([clientes, dfL], axis=1, join='inner')\n",
    "result = result.drop(['Id', 'BillingCity'], axis=1)"
   ]
  },
  {
   "cell_type": "code",
   "execution_count": 19,
   "metadata": {
    "colab": {
     "base_uri": "https://localhost:8080/",
     "height": 170
    },
    "colab_type": "code",
    "executionInfo": {
     "elapsed": 48244,
     "status": "ok",
     "timestamp": 1585785237455,
     "user": {
      "displayName": "Marcelo Nunes Alves",
      "photoUrl": "https://lh3.googleusercontent.com/a-/AOh14Ggg7j8UpQCWjd1mjJepuWNjOO1BULs-g6UsERA1vQ=s64",
      "userId": "09811685755861607483"
     },
     "user_tz": 180
    },
    "id": "tDPq0R_jFbQ9",
    "outputId": "5365ac74-9b48-4982-c301-8384a877bb6f"
   },
   "outputs": [
    {
     "data": {
      "text/plain": [
       "label\n",
       "0    1628\n",
       "1    4512\n",
       "2    6505\n",
       "3    3772\n",
       "4    6426\n",
       "5    6410\n",
       "6    8674\n",
       "Name: Idade, dtype: int64"
      ]
     },
     "execution_count": 19,
     "metadata": {},
     "output_type": "execute_result"
    }
   ],
   "source": [
    "result.groupby(['label'])['Idade'].count()"
   ]
  },
  {
   "cell_type": "code",
   "execution_count": 20,
   "metadata": {
    "colab": {
     "base_uri": "https://localhost:8080/",
     "height": 285
    },
    "colab_type": "code",
    "executionInfo": {
     "elapsed": 50092,
     "status": "ok",
     "timestamp": 1585785239329,
     "user": {
      "displayName": "Marcelo Nunes Alves",
      "photoUrl": "https://lh3.googleusercontent.com/a-/AOh14Ggg7j8UpQCWjd1mjJepuWNjOO1BULs-g6UsERA1vQ=s64",
      "userId": "09811685755861607483"
     },
     "user_tz": 180
    },
    "id": "Kdnrw6kVFbRA",
    "outputId": "d178d920-fd31-4163-eba2-2936759f518b"
   },
   "outputs": [
    {
     "data": {
      "image/png": "[encoded data removed]",
      "text/plain": [
       "<Figure size 432x288 with 1 Axes>"
      ]
     },
     "metadata": {
      "needs_background": "light"
     },
     "output_type": "display_data"
    }
   ],
   "source": [
    "plt.scatter(result[result['label'] == 0].Idade, result[result['label'] == 0].ScoreRisco, c = 'red', label = 'Cluster 1')\n",
    "plt.scatter(result[result['label'] == 1].Idade, result[result['label'] == 1].ScoreRisco, c = 'blue', label = 'Cluster 2')\n",
    "plt.scatter(result[result['label'] == 2].Idade, result[result['label'] == 2].ScoreRisco, c = 'green', label = 'Cluster 3')\n",
    "plt.scatter(result[result['label'] == 3].Idade, result[result['label'] == 3].ScoreRisco, c = 'cyan', label = 'Cluster 4')\n",
    "plt.scatter(result[result['label'] == 4].Idade, result[result['label'] == 4].ScoreRisco, c = 'magenta', label = 'Cluster 5')\n",
    "plt.scatter(result[result['label'] == 5].Idade, result[result['label'] == 5].ScoreRisco, c = 'yellow', label = 'Cluster 6')\n",
    "plt.scatter(result[result['label'] == 6].Idade, result[result['label'] == 6].ScoreRisco, c = 'black', label = 'Cluster 7')\n",
    "\n",
    "plt.xlabel('Idade')\n",
    "plt.ylabel('Score de risco')\n",
    "plt.legend()\n",
    "plt.show()"
   ]
  },
  {
   "cell_type": "code",
   "execution_count": 21,
   "metadata": {
    "colab": {
     "base_uri": "https://localhost:8080/",
     "height": 296
    },
    "colab_type": "code",
    "executionInfo": {
     "elapsed": 50663,
     "status": "ok",
     "timestamp": 1585785239926,
     "user": {
      "displayName": "Marcelo Nunes Alves",
      "photoUrl": "https://lh3.googleusercontent.com/a-/AOh14Ggg7j8UpQCWjd1mjJepuWNjOO1BULs-g6UsERA1vQ=s64",
      "userId": "09811685755861607483"
     },
     "user_tz": 180
    },
    "id": "ALRm8EDpFbRF",
    "outputId": "bebadd1b-c8a4-4ece-e095-2c8616764f7f"
   },
   "outputs": [
    {
     "data": {
      "image/png": "[encoded data removed]",
      "text/plain": [
       "<Figure size 432x288 with 1 Axes>"
      ]
     },
     "metadata": {
      "needs_background": "light"
     },
     "output_type": "display_data"
    }
   ],
   "source": [
    "plt.scatter(result[result['label'] == 0].Idade, result[result['label'] == 0].Soma_Investido_Total, c = 'red', label = 'Cluster 1')\n",
    "plt.scatter(result[result['label'] == 1].Idade, result[result['label'] == 1].Soma_Investido_Total, c = 'blue', label = 'Cluster 2')\n",
    "plt.scatter(result[result['label'] == 2].Idade, result[result['label'] == 2].Soma_Investido_Total, c = 'green', label = 'Cluster 3')\n",
    "plt.scatter(result[result['label'] == 3].Idade, result[result['label'] == 3].Soma_Investido_Total, c = 'cyan', label = 'Cluster 4')\n",
    "plt.scatter(result[result['label'] == 4].Idade, result[result['label'] == 4].Soma_Investido_Total, c = 'magenta', label = 'Cluster 5')\n",
    "plt.scatter(result[result['label'] == 5].Idade, result[result['label'] == 5].Soma_Investido_Total, c = 'yellow', label = 'Cluster 6')\n",
    "plt.scatter(result[result['label'] == 6].Idade, result[result['label'] == 6].Soma_Investido_Total, c = 'black', label = 'Cluster 7')\n",
    "plt.xlabel('Idade')\n",
    "plt.ylabel('Soma_Investido_Total')\n",
    "plt.legend()\n",
    "plt.show()"
   ]
  },
  {
   "cell_type": "code",
   "execution_count": 22,
   "metadata": {
    "colab": {
     "base_uri": "https://localhost:8080/",
     "height": 285
    },
    "colab_type": "code",
    "executionInfo": {
     "elapsed": 51102,
     "status": "ok",
     "timestamp": 1585785240401,
     "user": {
      "displayName": "Marcelo Nunes Alves",
      "photoUrl": "https://lh3.googleusercontent.com/a-/AOh14Ggg7j8UpQCWjd1mjJepuWNjOO1BULs-g6UsERA1vQ=s64",
      "userId": "09811685755861607483"
     },
     "user_tz": 180
    },
    "id": "1a0FjaEVFbRL",
    "outputId": "406b52ab-941e-4392-e4ad-2536f8acd781"
   },
   "outputs": [
    {
     "data": {
      "image/png": "[encoded data removed]",
      "text/plain": [
       "<Figure size 432x288 with 1 Axes>"
      ]
     },
     "metadata": {
      "needs_background": "light"
     },
     "output_type": "display_data"
    }
   ],
   "source": [
    "plt.scatter(result[result['label'] == 0].Idade, result[result['label'] == 0].ValorPatrimonio_Scaler, c = 'red', label = 'Cluster 1')\n",
    "plt.scatter(result[result['label'] == 1].Idade, result[result['label'] == 1].ValorPatrimonio_Scaler, c = 'blue', label = 'Cluster 2')\n",
    "plt.scatter(result[result['label'] == 2].Idade, result[result['label'] == 2].ValorPatrimonio_Scaler, c = 'green', label = 'Cluster 3')\n",
    "plt.scatter(result[result['label'] == 3].Idade, result[result['label'] == 3].ValorPatrimonio_Scaler, c = 'cyan', label = 'Cluster 4')\n",
    "plt.scatter(result[result['label'] == 4].Idade, result[result['label'] == 4].ValorPatrimonio_Scaler, c = 'magenta', label = 'Cluster 5')\n",
    "plt.scatter(result[result['label'] == 5].Idade, result[result['label'] == 5].ValorPatrimonio_Scaler, c = 'yellow', label = 'Cluster 6')\n",
    "plt.scatter(result[result['label'] == 6].Idade, result[result['label'] == 6].ValorPatrimonio_Scaler, c = 'black', label = 'Cluster 7')\n",
    "plt.xlabel('Idade')\n",
    "plt.ylabel('Valor do Patrimonio')\n",
    "plt.legend()\n",
    "plt.show()"
   ]
  },
  {
   "cell_type": "code",
   "execution_count": 23,
   "metadata": {
    "colab": {
     "base_uri": "https://localhost:8080/",
     "height": 296
    },
    "colab_type": "code",
    "executionInfo": {
     "elapsed": 51605,
     "status": "ok",
     "timestamp": 1585785240932,
     "user": {
      "displayName": "Marcelo Nunes Alves",
      "photoUrl": "https://lh3.googleusercontent.com/a-/AOh14Ggg7j8UpQCWjd1mjJepuWNjOO1BULs-g6UsERA1vQ=s64",
      "userId": "09811685755861607483"
     },
     "user_tz": 180
    },
    "id": "2gWyDXioFbRQ",
    "outputId": "e3ede0fa-fe4e-4af1-9f26-05fd193f06fc"
   },
   "outputs": [
    {
     "data": {
      "image/png": "[encoded data removed]",
      "text/plain": [
       "<Figure size 432x288 with 1 Axes>"
      ]
     },
     "metadata": {
      "needs_background": "light"
     },
     "output_type": "display_data"
    }
   ],
   "source": [
    "plt.scatter(result[result['label'] == 0].RendaMensal, result[result['label'] == 0].ValorPatrimonio, c = 'red', label = 'Cluster 1')\n",
    "plt.scatter(result[result['label'] == 1].RendaMensal, result[result['label'] == 1].ValorPatrimonio, c = 'blue', label = 'Cluster 2')\n",
    "plt.scatter(result[result['label'] == 2].RendaMensal, result[result['label'] == 2].ValorPatrimonio, c = 'green', label = 'Cluster 3')\n",
    "plt.scatter(result[result['label'] == 3].RendaMensal, result[result['label'] == 3].ValorPatrimonio, c = 'cyan', label = 'Cluster 4')\n",
    "plt.scatter(result[result['label'] == 4].RendaMensal, result[result['label'] == 4].ValorPatrimonio, c = 'magenta', label = 'Cluster 5')\n",
    "plt.scatter(result[result['label'] == 5].RendaMensal, result[result['label'] == 5].ValorPatrimonio, c = 'yellow', label = 'Cluster 6')\n",
    "plt.scatter(result[result['label'] == 6].RendaMensal, result[result['label'] == 6].ValorPatrimonio, c = 'black', label = 'Cluster 7')\n",
    "plt.xlabel('Renda mensal')\n",
    "plt.ylabel('Valor do patrimonio')\n",
    "plt.legend()\n",
    "plt.show()"
   ]
  },
  {
   "cell_type": "code",
   "execution_count": 24,
   "metadata": {
    "colab": {
     "base_uri": "https://localhost:8080/",
     "height": 296
    },
    "colab_type": "code",
    "executionInfo": {
     "elapsed": 52982,
     "status": "ok",
     "timestamp": 1585785242339,
     "user": {
      "displayName": "Marcelo Nunes Alves",
      "photoUrl": "https://lh3.googleusercontent.com/a-/AOh14Ggg7j8UpQCWjd1mjJepuWNjOO1BULs-g6UsERA1vQ=s64",
      "userId": "09811685755861607483"
     },
     "user_tz": 180
    },
    "id": "nEnDuj4WFbRU",
    "outputId": "129fa67c-4a24-481f-f7b0-79f2b0d88706"
   },
   "outputs": [
    {
     "data": {
      "image/png": "[encoded data removed]",
      "text/plain": [
       "<Figure size 432x288 with 1 Axes>"
      ]
     },
     "metadata": {
      "needs_background": "light"
     },
     "output_type": "display_data"
    }
   ],
   "source": [
    "plt.scatter(result[result['label'] == 0].RendaMensal, result[result['label'] == 0].Soma_Investido_Total, c = 'red', label = 'Cluster 1')\n",
    "plt.scatter(result[result['label'] == 1].RendaMensal, result[result['label'] == 1].Soma_Investido_Total, c = 'blue', label = 'Cluster 2')\n",
    "plt.scatter(result[result['label'] == 2].RendaMensal, result[result['label'] == 2].Soma_Investido_Total, c = 'green', label = 'Cluster 3')\n",
    "plt.scatter(result[result['label'] == 3].RendaMensal, result[result['label'] == 3].Soma_Investido_Total, c = 'cyan', label = 'Cluster 4')\n",
    "plt.scatter(result[result['label'] == 4].RendaMensal, result[result['label'] == 4].Soma_Investido_Total, c = 'magenta', label = 'Cluster 5')\n",
    "plt.scatter(result[result['label'] == 5].RendaMensal, result[result['label'] == 5].Soma_Investido_Total, c = 'yellow', label = 'Cluster 6')\n",
    "plt.scatter(result[result['label'] == 6].RendaMensal, result[result['label'] == 6].Soma_Investido_Total, c = 'black', label = 'Cluster 7')\n",
    "plt.xlabel('Soma investido')\n",
    "plt.ylabel('Renda mensal')\n",
    "plt.legend()\n",
    "plt.show()"
   ]
  },
  {
   "cell_type": "code",
   "execution_count": 25,
   "metadata": {
    "colab": {
     "base_uri": "https://localhost:8080/",
     "height": 296
    },
    "colab_type": "code",
    "executionInfo": {
     "elapsed": 53918,
     "status": "ok",
     "timestamp": 1585785243302,
     "user": {
      "displayName": "Marcelo Nunes Alves",
      "photoUrl": "https://lh3.googleusercontent.com/a-/AOh14Ggg7j8UpQCWjd1mjJepuWNjOO1BULs-g6UsERA1vQ=s64",
      "userId": "09811685755861607483"
     },
     "user_tz": 180
    },
    "id": "EPPutqcCFbRZ",
    "outputId": "b2bee301-fa9b-445d-b0ea-92374f2e3e47"
   },
   "outputs": [
    {
     "data": {
      "image/png": "[encoded data removed]",
      "text/plain": [
       "<Figure size 432x288 with 1 Axes>"
      ]
     },
     "metadata": {
      "needs_background": "light"
     },
     "output_type": "display_data"
    }
   ],
   "source": [
    "plt.scatter(result[result['label'] == 0].EstadoCivil, result[result['label'] == 0].Soma_Investido_Total, c = 'red', label = 'Cluster 1')\n",
    "plt.scatter(result[result['label'] == 1].EstadoCivil, result[result['label'] == 1].Soma_Investido_Total, c = 'blue', label = 'Cluster 2')\n",
    "plt.scatter(result[result['label'] == 2].EstadoCivil, result[result['label'] == 2].Soma_Investido_Total, c = 'green', label = 'Cluster 3')\n",
    "plt.scatter(result[result['label'] == 3].EstadoCivil, result[result['label'] == 3].Soma_Investido_Total, c = 'cyan', label = 'Cluster 4')\n",
    "plt.scatter(result[result['label'] == 4].EstadoCivil, result[result['label'] == 4].Soma_Investido_Total, c = 'magenta', label = 'Cluster 5')\n",
    "plt.scatter(result[result['label'] == 5].EstadoCivil, result[result['label'] == 5].Soma_Investido_Total, c = 'yellow', label = 'Cluster 6')\n",
    "plt.scatter(result[result['label'] == 6].EstadoCivil, result[result['label'] == 6].Soma_Investido_Total, c = 'black', label = 'Cluster 7')\n",
    "plt.xlabel('Estado civil')\n",
    "plt.ylabel('Soma Investido Total')\n",
    "plt.legend()\n",
    "plt.show()"
   ]
  },
  {
   "cell_type": "code",
   "execution_count": 26,
   "metadata": {
    "colab": {
     "base_uri": "https://localhost:8080/",
     "height": 296
    },
    "colab_type": "code",
    "executionInfo": {
     "elapsed": 55376,
     "status": "ok",
     "timestamp": 1585785244788,
     "user": {
      "displayName": "Marcelo Nunes Alves",
      "photoUrl": "https://lh3.googleusercontent.com/a-/AOh14Ggg7j8UpQCWjd1mjJepuWNjOO1BULs-g6UsERA1vQ=s64",
      "userId": "09811685755861607483"
     },
     "user_tz": 180
    },
    "id": "Merca9OcFbRe",
    "outputId": "0a482ab1-9f7f-4646-c36b-9e6f1cd6c201"
   },
   "outputs": [
    {
     "data": {
      "image/png": "[encoded data removed]",
      "text/plain": [
       "<Figure size 432x288 with 1 Axes>"
      ]
     },
     "metadata": {
      "needs_background": "light"
     },
     "output_type": "display_data"
    }
   ],
   "source": [
    "plt.scatter(result[result['label'] == 0].NivelConhecimentoAtual, result[result['label'] == 0].Soma_Investido_Total, c = 'red', label = 'Cluster 1')\n",
    "plt.scatter(result[result['label'] == 1].NivelConhecimentoAtual, result[result['label'] == 1].Soma_Investido_Total, c = 'blue', label = 'Cluster 2')\n",
    "plt.scatter(result[result['label'] == 2].NivelConhecimentoAtual, result[result['label'] == 2].Soma_Investido_Total, c = 'green', label = 'Cluster 3')\n",
    "plt.scatter(result[result['label'] == 3].NivelConhecimentoAtual, result[result['label'] == 3].Soma_Investido_Total, c = 'cyan', label = 'Cluster 4')\n",
    "plt.scatter(result[result['label'] == 4].NivelConhecimentoAtual, result[result['label'] == 4].Soma_Investido_Total, c = 'magenta', label = 'Cluster 5')\n",
    "plt.scatter(result[result['label'] == 5].NivelConhecimentoAtual, result[result['label'] == 5].Soma_Investido_Total, c = 'yellow', label = 'Cluster 6')\n",
    "plt.scatter(result[result['label'] == 6].NivelConhecimentoAtual, result[result['label'] == 6].Soma_Investido_Total, c = 'black', label = 'Cluster 7')\n",
    "plt.xlabel('Nivel Conhecimento Atual')\n",
    "plt.ylabel('Soma Investido Total')\n",
    "plt.legend()\n",
    "plt.show()"
   ]
  },
  {
   "cell_type": "code",
   "execution_count": 27,
   "metadata": {
    "colab": {
     "base_uri": "https://localhost:8080/",
     "height": 296
    },
    "colab_type": "code",
    "executionInfo": {
     "elapsed": 55857,
     "status": "ok",
     "timestamp": 1585785245295,
     "user": {
      "displayName": "Marcelo Nunes Alves",
      "photoUrl": "https://lh3.googleusercontent.com/a-/AOh14Ggg7j8UpQCWjd1mjJepuWNjOO1BULs-g6UsERA1vQ=s64",
      "userId": "09811685755861607483"
     },
     "user_tz": 180
    },
    "id": "Pr3xscYsFbRj",
    "outputId": "a3e618ab-0025-46c1-8f74-e34aa3c5f1ad"
   },
   "outputs": [
    {
     "data": {
      "image/png": "[encoded data removed]",
      "text/plain": [
       "<Figure size 432x288 with 1 Axes>"
      ]
     },
     "metadata": {
      "needs_background": "light"
     },
     "output_type": "display_data"
    }
   ],
   "source": [
    "plt.scatter(result[result['label'] == 0].ScoreObjetivos, result[result['label'] == 0].Soma_Investido_Total, c = 'red', label = 'Cluster 1')\n",
    "plt.scatter(result[result['label'] == 1].ScoreObjetivos, result[result['label'] == 1].Soma_Investido_Total, c = 'blue', label = 'Cluster 2')\n",
    "plt.scatter(result[result['label'] == 2].ScoreObjetivos, result[result['label'] == 2].Soma_Investido_Total, c = 'green', label = 'Cluster 3')\n",
    "plt.scatter(result[result['label'] == 3].ScoreObjetivos, result[result['label'] == 3].Soma_Investido_Total, c = 'cyan', label = 'Cluster 4')\n",
    "plt.scatter(result[result['label'] == 4].ScoreObjetivos, result[result['label'] == 4].Soma_Investido_Total, c = 'magenta', label = 'Cluster 5')\n",
    "plt.scatter(result[result['label'] == 5].ScoreObjetivos, result[result['label'] == 5].Soma_Investido_Total, c = 'yellow', label = 'Cluster 6')\n",
    "plt.scatter(result[result['label'] == 6].ScoreObjetivos, result[result['label'] == 6].Soma_Investido_Total, c = 'black', label = 'Cluster 7')\n",
    "plt.xlabel('Score de objetivo')\n",
    "plt.ylabel('Soma Investido Total')\n",
    "plt.legend()\n",
    "plt.show()"
   ]
  },
  {
   "cell_type": "markdown",
   "metadata": {
    "colab_type": "text",
    "id": "-dPQtlhHgHWe"
   },
   "source": [
    "## Separacao dos clientes"
   ]
  },
  {
   "cell_type": "code",
   "execution_count": 28,
   "metadata": {
    "colab": {},
    "colab_type": "code",
    "id": "vw-fRZaRHNsK"
   },
   "outputs": [],
   "source": [
    "clientes_com_investimento = clientes[clientes['Soma_Investido_Total']>0]\n",
    "clientes_sem_investimento = clientes[clientes['Soma_Investido_Total']==0]"
   ]
  },
  {
   "cell_type": "code",
   "execution_count": 29,
   "metadata": {
    "colab": {
     "base_uri": "https://localhost:8080/",
     "height": 575
    },
    "colab_type": "code",
    "executionInfo": {
     "elapsed": 55818,
     "status": "ok",
     "timestamp": 1585785245296,
     "user": {
      "displayName": "Marcelo Nunes Alves",
      "photoUrl": "https://lh3.googleusercontent.com/a-/AOh14Ggg7j8UpQCWjd1mjJepuWNjOO1BULs-g6UsERA1vQ=s64",
      "userId": "09811685755861607483"
     },
     "user_tz": 180
    },
    "id": "i3tzsNIQTD3O",
    "outputId": "424728e5-4cc8-473e-9b42-5cb2d20e32fe"
   },
   "outputs": [
    {
     "data": {
      "text/html": [
       "<div>\n",
       "<style scoped>\n",
       "    .dataframe tbody tr th:only-of-type {\n",
       "        vertical-align: middle;\n",
       "    }\n",
       "\n",
       "    .dataframe tbody tr th {\n",
       "        vertical-align: top;\n",
       "    }\n",
       "\n",
       "    .dataframe thead th {\n",
       "        text-align: right;\n",
       "    }\n",
       "</style>\n",
       "<table border=\"1\" class=\"dataframe\">\n",
       "  <thead>\n",
       "    <tr style=\"text-align: right;\">\n",
       "      <th></th>\n",
       "      <th>Id</th>\n",
       "      <th>Idade</th>\n",
       "      <th>EstadoCivil</th>\n",
       "      <th>BillingCity</th>\n",
       "      <th>NivelConhecimentoAtual</th>\n",
       "      <th>ScoreNivelConhecimento</th>\n",
       "      <th>PerfilInvestidor</th>\n",
       "      <th>RendaMensal</th>\n",
       "      <th>ValorPatrimonio</th>\n",
       "      <th>Ind_Guardado</th>\n",
       "      <th>ScoreRisco</th>\n",
       "      <th>ScoreObjetivos</th>\n",
       "      <th>ScoreSituacaoFinanceira</th>\n",
       "      <th>Soma_Investido_Total</th>\n",
       "      <th>Sao_Paulo</th>\n",
       "      <th>Rio</th>\n",
       "      <th>Brasilia</th>\n",
       "      <th>TipoCarteira__c</th>\n",
       "      <th>Soma_Investido_Total_Scaler</th>\n",
       "      <th>ValorPatrimonio_Scaler</th>\n",
       "      <th>RendaMensal_Scaler</th>\n",
       "    </tr>\n",
       "  </thead>\n",
       "  <tbody>\n",
       "    <tr>\n",
       "      <td>0</td>\n",
       "      <td>$2b$10$.DCvvJ9WSDpqVP2xXjeSPe..Fx6NhsrK9ZzYadq...</td>\n",
       "      <td>35</td>\n",
       "      <td>C</td>\n",
       "      <td>Juiz de Fora</td>\n",
       "      <td>1</td>\n",
       "      <td>1</td>\n",
       "      <td>2</td>\n",
       "      <td>2000.0</td>\n",
       "      <td>15000.0</td>\n",
       "      <td>1</td>\n",
       "      <td>2</td>\n",
       "      <td>2</td>\n",
       "      <td>1</td>\n",
       "      <td>60.00</td>\n",
       "      <td>False</td>\n",
       "      <td>False</td>\n",
       "      <td>False</td>\n",
       "      <td>Fundo de Renda Fixa</td>\n",
       "      <td>-0.301878</td>\n",
       "      <td>-0.048718</td>\n",
       "      <td>-0.231369</td>\n",
       "    </tr>\n",
       "    <tr>\n",
       "      <td>1</td>\n",
       "      <td>$2b$10$.DCvvJ9WSDpqVP2xXjeSPe..Fx6NhsrK9ZzYadq...</td>\n",
       "      <td>35</td>\n",
       "      <td>C</td>\n",
       "      <td>Juiz de Fora</td>\n",
       "      <td>1</td>\n",
       "      <td>1</td>\n",
       "      <td>2</td>\n",
       "      <td>2000.0</td>\n",
       "      <td>15000.0</td>\n",
       "      <td>1</td>\n",
       "      <td>2</td>\n",
       "      <td>2</td>\n",
       "      <td>1</td>\n",
       "      <td>60.00</td>\n",
       "      <td>False</td>\n",
       "      <td>False</td>\n",
       "      <td>False</td>\n",
       "      <td>Fundo Multimercado</td>\n",
       "      <td>-0.301878</td>\n",
       "      <td>-0.048718</td>\n",
       "      <td>-0.231369</td>\n",
       "    </tr>\n",
       "    <tr>\n",
       "      <td>4</td>\n",
       "      <td>$2b$10$.DCvvJ9WSDpqVP2xXjeSPe./np28dLDLl04GG7s...</td>\n",
       "      <td>36</td>\n",
       "      <td>S</td>\n",
       "      <td>Jundiaí</td>\n",
       "      <td>5</td>\n",
       "      <td>5</td>\n",
       "      <td>5</td>\n",
       "      <td>15000.0</td>\n",
       "      <td>450000.0</td>\n",
       "      <td>3</td>\n",
       "      <td>4</td>\n",
       "      <td>5</td>\n",
       "      <td>3</td>\n",
       "      <td>5000.00</td>\n",
       "      <td>False</td>\n",
       "      <td>False</td>\n",
       "      <td>False</td>\n",
       "      <td>Fundo Multimercado</td>\n",
       "      <td>-0.259074</td>\n",
       "      <td>-0.013438</td>\n",
       "      <td>0.239671</td>\n",
       "    </tr>\n",
       "    <tr>\n",
       "      <td>5</td>\n",
       "      <td>$2b$10$.DCvvJ9WSDpqVP2xXjeSPe./RaD5ilKiZI.7Hik...</td>\n",
       "      <td>34</td>\n",
       "      <td>S</td>\n",
       "      <td>Brasília</td>\n",
       "      <td>1</td>\n",
       "      <td>1</td>\n",
       "      <td>3</td>\n",
       "      <td>1380.0</td>\n",
       "      <td>0.0</td>\n",
       "      <td>3</td>\n",
       "      <td>3</td>\n",
       "      <td>4</td>\n",
       "      <td>2</td>\n",
       "      <td>30.00</td>\n",
       "      <td>False</td>\n",
       "      <td>False</td>\n",
       "      <td>True</td>\n",
       "      <td>Fundo Multimercado</td>\n",
       "      <td>-0.302138</td>\n",
       "      <td>-0.049935</td>\n",
       "      <td>-0.253834</td>\n",
       "    </tr>\n",
       "    <tr>\n",
       "      <td>7</td>\n",
       "      <td>$2b$10$.DCvvJ9WSDpqVP2xXjeSPe./VfMzqzrDosESSEW...</td>\n",
       "      <td>57</td>\n",
       "      <td>C</td>\n",
       "      <td>Maringá</td>\n",
       "      <td>1</td>\n",
       "      <td>1</td>\n",
       "      <td>1</td>\n",
       "      <td>1950.0</td>\n",
       "      <td>300000.0</td>\n",
       "      <td>1</td>\n",
       "      <td>1</td>\n",
       "      <td>2</td>\n",
       "      <td>1</td>\n",
       "      <td>125.50</td>\n",
       "      <td>False</td>\n",
       "      <td>False</td>\n",
       "      <td>False</td>\n",
       "      <td>Fundo de Renda Fixa</td>\n",
       "      <td>-0.301311</td>\n",
       "      <td>-0.025604</td>\n",
       "      <td>-0.233181</td>\n",
       "    </tr>\n",
       "    <tr>\n",
       "      <td>...</td>\n",
       "      <td>...</td>\n",
       "      <td>...</td>\n",
       "      <td>...</td>\n",
       "      <td>...</td>\n",
       "      <td>...</td>\n",
       "      <td>...</td>\n",
       "      <td>...</td>\n",
       "      <td>...</td>\n",
       "      <td>...</td>\n",
       "      <td>...</td>\n",
       "      <td>...</td>\n",
       "      <td>...</td>\n",
       "      <td>...</td>\n",
       "      <td>...</td>\n",
       "      <td>...</td>\n",
       "      <td>...</td>\n",
       "      <td>...</td>\n",
       "      <td>...</td>\n",
       "      <td>...</td>\n",
       "      <td>...</td>\n",
       "      <td>...</td>\n",
       "    </tr>\n",
       "    <tr>\n",
       "      <td>37921</td>\n",
       "      <td>$2b$10$.DCvvJ9WSDpqVP2xXjeSPezZnFnre0ofPq1wRF1...</td>\n",
       "      <td>30</td>\n",
       "      <td>C</td>\n",
       "      <td>São Paulo</td>\n",
       "      <td>4</td>\n",
       "      <td>4</td>\n",
       "      <td>4</td>\n",
       "      <td>16000.0</td>\n",
       "      <td>40000.0</td>\n",
       "      <td>3</td>\n",
       "      <td>4</td>\n",
       "      <td>3</td>\n",
       "      <td>3</td>\n",
       "      <td>31500.00</td>\n",
       "      <td>True</td>\n",
       "      <td>False</td>\n",
       "      <td>False</td>\n",
       "      <td>Fundo de Ações</td>\n",
       "      <td>-0.029458</td>\n",
       "      <td>-0.046691</td>\n",
       "      <td>0.275905</td>\n",
       "    </tr>\n",
       "    <tr>\n",
       "      <td>37922</td>\n",
       "      <td>$2b$10$.DCvvJ9WSDpqVP2xXjeSPezZnFnre0ofPq1wRF1...</td>\n",
       "      <td>30</td>\n",
       "      <td>C</td>\n",
       "      <td>São Paulo</td>\n",
       "      <td>4</td>\n",
       "      <td>4</td>\n",
       "      <td>4</td>\n",
       "      <td>16000.0</td>\n",
       "      <td>40000.0</td>\n",
       "      <td>3</td>\n",
       "      <td>4</td>\n",
       "      <td>3</td>\n",
       "      <td>3</td>\n",
       "      <td>31500.00</td>\n",
       "      <td>True</td>\n",
       "      <td>False</td>\n",
       "      <td>False</td>\n",
       "      <td>Fundo de Ações</td>\n",
       "      <td>-0.029458</td>\n",
       "      <td>-0.046691</td>\n",
       "      <td>0.275905</td>\n",
       "    </tr>\n",
       "    <tr>\n",
       "      <td>37923</td>\n",
       "      <td>$2b$10$.DCvvJ9WSDpqVP2xXjeSPeZzP5DRGfb11bMIrV8...</td>\n",
       "      <td>44</td>\n",
       "      <td>S</td>\n",
       "      <td>São Paulo</td>\n",
       "      <td>1</td>\n",
       "      <td>1</td>\n",
       "      <td>1</td>\n",
       "      <td>0.0</td>\n",
       "      <td>100000.0</td>\n",
       "      <td>1</td>\n",
       "      <td>1</td>\n",
       "      <td>1</td>\n",
       "      <td>1</td>\n",
       "      <td>104.44</td>\n",
       "      <td>True</td>\n",
       "      <td>False</td>\n",
       "      <td>False</td>\n",
       "      <td>Catálogo Padrão Tesouro Direto</td>\n",
       "      <td>-0.301493</td>\n",
       "      <td>-0.041824</td>\n",
       "      <td>-0.303837</td>\n",
       "    </tr>\n",
       "    <tr>\n",
       "      <td>37924</td>\n",
       "      <td>$2b$10$.DCvvJ9WSDpqVP2xXjeSPezzttIBRwey7HP2/F/...</td>\n",
       "      <td>31</td>\n",
       "      <td>C</td>\n",
       "      <td>Campo Grande</td>\n",
       "      <td>0</td>\n",
       "      <td>5</td>\n",
       "      <td>4</td>\n",
       "      <td>5500.0</td>\n",
       "      <td>85000.0</td>\n",
       "      <td>2</td>\n",
       "      <td>3</td>\n",
       "      <td>5</td>\n",
       "      <td>3</td>\n",
       "      <td>1030.65</td>\n",
       "      <td>False</td>\n",
       "      <td>False</td>\n",
       "      <td>False</td>\n",
       "      <td>Fundo Multimercado</td>\n",
       "      <td>-0.293468</td>\n",
       "      <td>-0.043041</td>\n",
       "      <td>-0.104551</td>\n",
       "    </tr>\n",
       "    <tr>\n",
       "      <td>37925</td>\n",
       "      <td>$2b$10$.DCvvJ9WSDpqVP2xXjeSPezzttIBRwey7HP2/F/...</td>\n",
       "      <td>31</td>\n",
       "      <td>C</td>\n",
       "      <td>Campo Grande</td>\n",
       "      <td>0</td>\n",
       "      <td>5</td>\n",
       "      <td>4</td>\n",
       "      <td>5500.0</td>\n",
       "      <td>85000.0</td>\n",
       "      <td>2</td>\n",
       "      <td>3</td>\n",
       "      <td>5</td>\n",
       "      <td>3</td>\n",
       "      <td>1030.65</td>\n",
       "      <td>False</td>\n",
       "      <td>False</td>\n",
       "      <td>False</td>\n",
       "      <td>FIC de Fundo de Ações</td>\n",
       "      <td>-0.293468</td>\n",
       "      <td>-0.043041</td>\n",
       "      <td>-0.104551</td>\n",
       "    </tr>\n",
       "  </tbody>\n",
       "</table>\n",
       "<p>36344 rows × 21 columns</p>\n",
       "</div>"
      ],
      "text/plain": [
       "                                                      Id  Idade EstadoCivil  \\\n",
       "0      $2b$10$.DCvvJ9WSDpqVP2xXjeSPe..Fx6NhsrK9ZzYadq...     35           C   \n",
       "1      $2b$10$.DCvvJ9WSDpqVP2xXjeSPe..Fx6NhsrK9ZzYadq...     35           C   \n",
       "4      $2b$10$.DCvvJ9WSDpqVP2xXjeSPe./np28dLDLl04GG7s...     36           S   \n",
       "5      $2b$10$.DCvvJ9WSDpqVP2xXjeSPe./RaD5ilKiZI.7Hik...     34           S   \n",
       "7      $2b$10$.DCvvJ9WSDpqVP2xXjeSPe./VfMzqzrDosESSEW...     57           C   \n",
       "...                                                  ...    ...         ...   \n",
       "37921  $2b$10$.DCvvJ9WSDpqVP2xXjeSPezZnFnre0ofPq1wRF1...     30           C   \n",
       "37922  $2b$10$.DCvvJ9WSDpqVP2xXjeSPezZnFnre0ofPq1wRF1...     30           C   \n",
       "37923  $2b$10$.DCvvJ9WSDpqVP2xXjeSPeZzP5DRGfb11bMIrV8...     44           S   \n",
       "37924  $2b$10$.DCvvJ9WSDpqVP2xXjeSPezzttIBRwey7HP2/F/...     31           C   \n",
       "37925  $2b$10$.DCvvJ9WSDpqVP2xXjeSPezzttIBRwey7HP2/F/...     31           C   \n",
       "\n",
       "        BillingCity  NivelConhecimentoAtual  ScoreNivelConhecimento  \\\n",
       "0      Juiz de Fora                       1                       1   \n",
       "1      Juiz de Fora                       1                       1   \n",
       "4           Jundiaí                       5                       5   \n",
       "5          Brasília                       1                       1   \n",
       "7           Maringá                       1                       1   \n",
       "...             ...                     ...                     ...   \n",
       "37921     São Paulo                       4                       4   \n",
       "37922     São Paulo                       4                       4   \n",
       "37923     São Paulo                       1                       1   \n",
       "37924  Campo Grande                       0                       5   \n",
       "37925  Campo Grande                       0                       5   \n",
       "\n",
       "       PerfilInvestidor  RendaMensal  ValorPatrimonio  Ind_Guardado  \\\n",
       "0                     2       2000.0          15000.0             1   \n",
       "1                     2       2000.0          15000.0             1   \n",
       "4                     5      15000.0         450000.0             3   \n",
       "5                     3       1380.0              0.0             3   \n",
       "7                     1       1950.0         300000.0             1   \n",
       "...                 ...          ...              ...           ...   \n",
       "37921                 4      16000.0          40000.0             3   \n",
       "37922                 4      16000.0          40000.0             3   \n",
       "37923                 1          0.0         100000.0             1   \n",
       "37924                 4       5500.0          85000.0             2   \n",
       "37925                 4       5500.0          85000.0             2   \n",
       "\n",
       "       ScoreRisco  ScoreObjetivos  ScoreSituacaoFinanceira  \\\n",
       "0               2               2                        1   \n",
       "1               2               2                        1   \n",
       "4               4               5                        3   \n",
       "5               3               4                        2   \n",
       "7               1               2                        1   \n",
       "...           ...             ...                      ...   \n",
       "37921           4               3                        3   \n",
       "37922           4               3                        3   \n",
       "37923           1               1                        1   \n",
       "37924           3               5                        3   \n",
       "37925           3               5                        3   \n",
       "\n",
       "       Soma_Investido_Total  Sao_Paulo    Rio  Brasilia  \\\n",
       "0                     60.00      False  False     False   \n",
       "1                     60.00      False  False     False   \n",
       "4                   5000.00      False  False     False   \n",
       "5                     30.00      False  False      True   \n",
       "7                    125.50      False  False     False   \n",
       "...                     ...        ...    ...       ...   \n",
       "37921              31500.00       True  False     False   \n",
       "37922              31500.00       True  False     False   \n",
       "37923                104.44       True  False     False   \n",
       "37924               1030.65      False  False     False   \n",
       "37925               1030.65      False  False     False   \n",
       "\n",
       "                      TipoCarteira__c  Soma_Investido_Total_Scaler  \\\n",
       "0                 Fundo de Renda Fixa                    -0.301878   \n",
       "1                  Fundo Multimercado                    -0.301878   \n",
       "4                  Fundo Multimercado                    -0.259074   \n",
       "5                  Fundo Multimercado                    -0.302138   \n",
       "7                 Fundo de Renda Fixa                    -0.301311   \n",
       "...                               ...                          ...   \n",
       "37921                  Fundo de Ações                    -0.029458   \n",
       "37922                  Fundo de Ações                    -0.029458   \n",
       "37923  Catálogo Padrão Tesouro Direto                    -0.301493   \n",
       "37924              Fundo Multimercado                    -0.293468   \n",
       "37925           FIC de Fundo de Ações                    -0.293468   \n",
       "\n",
       "       ValorPatrimonio_Scaler  RendaMensal_Scaler  \n",
       "0                   -0.048718           -0.231369  \n",
       "1                   -0.048718           -0.231369  \n",
       "4                   -0.013438            0.239671  \n",
       "5                   -0.049935           -0.253834  \n",
       "7                   -0.025604           -0.233181  \n",
       "...                       ...                 ...  \n",
       "37921               -0.046691            0.275905  \n",
       "37922               -0.046691            0.275905  \n",
       "37923               -0.041824           -0.303837  \n",
       "37924               -0.043041           -0.104551  \n",
       "37925               -0.043041           -0.104551  \n",
       "\n",
       "[36344 rows x 21 columns]"
      ]
     },
     "execution_count": 29,
     "metadata": {},
     "output_type": "execute_result"
    }
   ],
   "source": [
    "clientes_com_investimento"
   ]
  },
  {
   "cell_type": "code",
   "execution_count": 30,
   "metadata": {
    "colab": {
     "base_uri": "https://localhost:8080/",
     "height": 456
    },
    "colab_type": "code",
    "executionInfo": {
     "elapsed": 55781,
     "status": "ok",
     "timestamp": 1585785245297,
     "user": {
      "displayName": "Marcelo Nunes Alves",
      "photoUrl": "https://lh3.googleusercontent.com/a-/AOh14Ggg7j8UpQCWjd1mjJepuWNjOO1BULs-g6UsERA1vQ=s64",
      "userId": "09811685755861607483"
     },
     "user_tz": 180
    },
    "id": "2GPWPhHnTFGR",
    "outputId": "89cc2dea-b04d-45a8-abe8-a6fef00c90ac"
   },
   "outputs": [
    {
     "data": {
      "text/html": [
       "<div>\n",
       "<style scoped>\n",
       "    .dataframe tbody tr th:only-of-type {\n",
       "        vertical-align: middle;\n",
       "    }\n",
       "\n",
       "    .dataframe tbody tr th {\n",
       "        vertical-align: top;\n",
       "    }\n",
       "\n",
       "    .dataframe thead th {\n",
       "        text-align: right;\n",
       "    }\n",
       "</style>\n",
       "<table border=\"1\" class=\"dataframe\">\n",
       "  <thead>\n",
       "    <tr style=\"text-align: right;\">\n",
       "      <th></th>\n",
       "      <th>Id</th>\n",
       "      <th>Idade</th>\n",
       "      <th>EstadoCivil</th>\n",
       "      <th>BillingCity</th>\n",
       "      <th>NivelConhecimentoAtual</th>\n",
       "      <th>ScoreNivelConhecimento</th>\n",
       "      <th>PerfilInvestidor</th>\n",
       "      <th>RendaMensal</th>\n",
       "      <th>ValorPatrimonio</th>\n",
       "      <th>Ind_Guardado</th>\n",
       "      <th>ScoreRisco</th>\n",
       "      <th>ScoreObjetivos</th>\n",
       "      <th>ScoreSituacaoFinanceira</th>\n",
       "      <th>Soma_Investido_Total</th>\n",
       "      <th>Sao_Paulo</th>\n",
       "      <th>Rio</th>\n",
       "      <th>Brasilia</th>\n",
       "      <th>TipoCarteira__c</th>\n",
       "      <th>Soma_Investido_Total_Scaler</th>\n",
       "      <th>ValorPatrimonio_Scaler</th>\n",
       "      <th>RendaMensal_Scaler</th>\n",
       "    </tr>\n",
       "  </thead>\n",
       "  <tbody>\n",
       "    <tr>\n",
       "      <td>2</td>\n",
       "      <td>$2b$10$.DCvvJ9WSDpqVP2xXjeSPe..kI2Jy5NBFp0bWHG...</td>\n",
       "      <td>22</td>\n",
       "      <td>S</td>\n",
       "      <td>São Paulo</td>\n",
       "      <td>0</td>\n",
       "      <td>0</td>\n",
       "      <td>0</td>\n",
       "      <td>1900.0</td>\n",
       "      <td>1000.0</td>\n",
       "      <td>0</td>\n",
       "      <td>0</td>\n",
       "      <td>0</td>\n",
       "      <td>0</td>\n",
       "      <td>0.0</td>\n",
       "      <td>True</td>\n",
       "      <td>False</td>\n",
       "      <td>False</td>\n",
       "      <td>NaN</td>\n",
       "      <td>-0.302398</td>\n",
       "      <td>-0.049854</td>\n",
       "      <td>-0.234992</td>\n",
       "    </tr>\n",
       "    <tr>\n",
       "      <td>3</td>\n",
       "      <td>$2b$10$.DCvvJ9WSDpqVP2xXjeSPe./h2nCG51DS8AEwV8...</td>\n",
       "      <td>51</td>\n",
       "      <td>C</td>\n",
       "      <td>Santos</td>\n",
       "      <td>5</td>\n",
       "      <td>5</td>\n",
       "      <td>4</td>\n",
       "      <td>8000.0</td>\n",
       "      <td>300000.0</td>\n",
       "      <td>2</td>\n",
       "      <td>3</td>\n",
       "      <td>3</td>\n",
       "      <td>3</td>\n",
       "      <td>0.0</td>\n",
       "      <td>False</td>\n",
       "      <td>False</td>\n",
       "      <td>False</td>\n",
       "      <td>NaN</td>\n",
       "      <td>-0.302398</td>\n",
       "      <td>-0.025604</td>\n",
       "      <td>-0.013966</td>\n",
       "    </tr>\n",
       "    <tr>\n",
       "      <td>6</td>\n",
       "      <td>$2b$10$.DCvvJ9WSDpqVP2xXjeSPe./u5K4501CL/f68At...</td>\n",
       "      <td>31</td>\n",
       "      <td>C</td>\n",
       "      <td>Goiânia</td>\n",
       "      <td>1</td>\n",
       "      <td>1</td>\n",
       "      <td>2</td>\n",
       "      <td>2000.0</td>\n",
       "      <td>0.0</td>\n",
       "      <td>1</td>\n",
       "      <td>2</td>\n",
       "      <td>4</td>\n",
       "      <td>1</td>\n",
       "      <td>0.0</td>\n",
       "      <td>False</td>\n",
       "      <td>False</td>\n",
       "      <td>False</td>\n",
       "      <td>NaN</td>\n",
       "      <td>-0.302398</td>\n",
       "      <td>-0.049935</td>\n",
       "      <td>-0.231369</td>\n",
       "    </tr>\n",
       "    <tr>\n",
       "      <td>12</td>\n",
       "      <td>$2b$10$.DCvvJ9WSDpqVP2xXjeSPe.0LFWjhy7h5dIlyeK...</td>\n",
       "      <td>24</td>\n",
       "      <td>C</td>\n",
       "      <td>Santo André</td>\n",
       "      <td>1</td>\n",
       "      <td>1</td>\n",
       "      <td>2</td>\n",
       "      <td>1000.0</td>\n",
       "      <td>0.0</td>\n",
       "      <td>3</td>\n",
       "      <td>2</td>\n",
       "      <td>2</td>\n",
       "      <td>2</td>\n",
       "      <td>0.0</td>\n",
       "      <td>False</td>\n",
       "      <td>False</td>\n",
       "      <td>False</td>\n",
       "      <td>NaN</td>\n",
       "      <td>-0.302398</td>\n",
       "      <td>-0.049935</td>\n",
       "      <td>-0.267603</td>\n",
       "    </tr>\n",
       "    <tr>\n",
       "      <td>13</td>\n",
       "      <td>$2b$10$.DCvvJ9WSDpqVP2xXjeSPe.0TyIuDbXgsobnH1w...</td>\n",
       "      <td>43</td>\n",
       "      <td>D</td>\n",
       "      <td>Rio Negro</td>\n",
       "      <td>0</td>\n",
       "      <td>0</td>\n",
       "      <td>0</td>\n",
       "      <td>10000.0</td>\n",
       "      <td>900000.0</td>\n",
       "      <td>0</td>\n",
       "      <td>0</td>\n",
       "      <td>0</td>\n",
       "      <td>0</td>\n",
       "      <td>0.0</td>\n",
       "      <td>False</td>\n",
       "      <td>False</td>\n",
       "      <td>False</td>\n",
       "      <td>NaN</td>\n",
       "      <td>-0.302398</td>\n",
       "      <td>0.023058</td>\n",
       "      <td>0.058502</td>\n",
       "    </tr>\n",
       "    <tr>\n",
       "      <td>...</td>\n",
       "      <td>...</td>\n",
       "      <td>...</td>\n",
       "      <td>...</td>\n",
       "      <td>...</td>\n",
       "      <td>...</td>\n",
       "      <td>...</td>\n",
       "      <td>...</td>\n",
       "      <td>...</td>\n",
       "      <td>...</td>\n",
       "      <td>...</td>\n",
       "      <td>...</td>\n",
       "      <td>...</td>\n",
       "      <td>...</td>\n",
       "      <td>...</td>\n",
       "      <td>...</td>\n",
       "      <td>...</td>\n",
       "      <td>...</td>\n",
       "      <td>...</td>\n",
       "      <td>...</td>\n",
       "      <td>...</td>\n",
       "      <td>...</td>\n",
       "    </tr>\n",
       "    <tr>\n",
       "      <td>37827</td>\n",
       "      <td>$2b$10$.DCvvJ9WSDpqVP2xXjeSPeZWbvlwbOZEegHxerT...</td>\n",
       "      <td>34</td>\n",
       "      <td>C</td>\n",
       "      <td>Paulista</td>\n",
       "      <td>1</td>\n",
       "      <td>1</td>\n",
       "      <td>2</td>\n",
       "      <td>1800.0</td>\n",
       "      <td>0.0</td>\n",
       "      <td>1</td>\n",
       "      <td>2</td>\n",
       "      <td>2</td>\n",
       "      <td>1</td>\n",
       "      <td>0.0</td>\n",
       "      <td>False</td>\n",
       "      <td>False</td>\n",
       "      <td>False</td>\n",
       "      <td>NaN</td>\n",
       "      <td>-0.302398</td>\n",
       "      <td>-0.049935</td>\n",
       "      <td>-0.238616</td>\n",
       "    </tr>\n",
       "    <tr>\n",
       "      <td>37845</td>\n",
       "      <td>$2b$10$.DCvvJ9WSDpqVP2xXjeSPezXGgZOmJZKOakWPhd...</td>\n",
       "      <td>26</td>\n",
       "      <td>S</td>\n",
       "      <td>Chapecó</td>\n",
       "      <td>2</td>\n",
       "      <td>2</td>\n",
       "      <td>3</td>\n",
       "      <td>2850.0</td>\n",
       "      <td>26.0</td>\n",
       "      <td>1</td>\n",
       "      <td>3</td>\n",
       "      <td>5</td>\n",
       "      <td>1</td>\n",
       "      <td>0.0</td>\n",
       "      <td>False</td>\n",
       "      <td>False</td>\n",
       "      <td>False</td>\n",
       "      <td>NaN</td>\n",
       "      <td>-0.302398</td>\n",
       "      <td>-0.049933</td>\n",
       "      <td>-0.200570</td>\n",
       "    </tr>\n",
       "    <tr>\n",
       "      <td>37882</td>\n",
       "      <td>$2b$10$.DCvvJ9WSDpqVP2xXjeSPeZyNw/sWcwO7AhFBkT...</td>\n",
       "      <td>48</td>\n",
       "      <td>C</td>\n",
       "      <td>Cuiabá</td>\n",
       "      <td>2</td>\n",
       "      <td>2</td>\n",
       "      <td>2</td>\n",
       "      <td>5000.0</td>\n",
       "      <td>60000.0</td>\n",
       "      <td>1</td>\n",
       "      <td>2</td>\n",
       "      <td>3</td>\n",
       "      <td>2</td>\n",
       "      <td>0.0</td>\n",
       "      <td>False</td>\n",
       "      <td>False</td>\n",
       "      <td>False</td>\n",
       "      <td>NaN</td>\n",
       "      <td>-0.302398</td>\n",
       "      <td>-0.045069</td>\n",
       "      <td>-0.122667</td>\n",
       "    </tr>\n",
       "    <tr>\n",
       "      <td>37895</td>\n",
       "      <td>$2b$10$.DCvvJ9WSDpqVP2xXjeSPezzcMs1mEQlySS8KUO...</td>\n",
       "      <td>40</td>\n",
       "      <td>S</td>\n",
       "      <td>Aracaju</td>\n",
       "      <td>1</td>\n",
       "      <td>1</td>\n",
       "      <td>1</td>\n",
       "      <td>5800.0</td>\n",
       "      <td>0.0</td>\n",
       "      <td>1</td>\n",
       "      <td>2</td>\n",
       "      <td>1</td>\n",
       "      <td>1</td>\n",
       "      <td>0.0</td>\n",
       "      <td>False</td>\n",
       "      <td>False</td>\n",
       "      <td>False</td>\n",
       "      <td>NaN</td>\n",
       "      <td>-0.302398</td>\n",
       "      <td>-0.049935</td>\n",
       "      <td>-0.093680</td>\n",
       "    </tr>\n",
       "    <tr>\n",
       "      <td>37926</td>\n",
       "      <td>$2b$10$.DCvvJ9WSDpqVP2xXjeSPeZzXBUhbFjWAFGNx/D...</td>\n",
       "      <td>25</td>\n",
       "      <td>S</td>\n",
       "      <td>Nova Alvorada do Sul</td>\n",
       "      <td>1</td>\n",
       "      <td>1</td>\n",
       "      <td>3</td>\n",
       "      <td>2406.0</td>\n",
       "      <td>28000.0</td>\n",
       "      <td>1</td>\n",
       "      <td>4</td>\n",
       "      <td>2</td>\n",
       "      <td>2</td>\n",
       "      <td>0.0</td>\n",
       "      <td>False</td>\n",
       "      <td>False</td>\n",
       "      <td>False</td>\n",
       "      <td>NaN</td>\n",
       "      <td>-0.302398</td>\n",
       "      <td>-0.047664</td>\n",
       "      <td>-0.216658</td>\n",
       "    </tr>\n",
       "  </tbody>\n",
       "</table>\n",
       "<p>1583 rows × 21 columns</p>\n",
       "</div>"
      ],
      "text/plain": [
       "                                                      Id  Idade EstadoCivil  \\\n",
       "2      $2b$10$.DCvvJ9WSDpqVP2xXjeSPe..kI2Jy5NBFp0bWHG...     22           S   \n",
       "3      $2b$10$.DCvvJ9WSDpqVP2xXjeSPe./h2nCG51DS8AEwV8...     51           C   \n",
       "6      $2b$10$.DCvvJ9WSDpqVP2xXjeSPe./u5K4501CL/f68At...     31           C   \n",
       "12     $2b$10$.DCvvJ9WSDpqVP2xXjeSPe.0LFWjhy7h5dIlyeK...     24           C   \n",
       "13     $2b$10$.DCvvJ9WSDpqVP2xXjeSPe.0TyIuDbXgsobnH1w...     43           D   \n",
       "...                                                  ...    ...         ...   \n",
       "37827  $2b$10$.DCvvJ9WSDpqVP2xXjeSPeZWbvlwbOZEegHxerT...     34           C   \n",
       "37845  $2b$10$.DCvvJ9WSDpqVP2xXjeSPezXGgZOmJZKOakWPhd...     26           S   \n",
       "37882  $2b$10$.DCvvJ9WSDpqVP2xXjeSPeZyNw/sWcwO7AhFBkT...     48           C   \n",
       "37895  $2b$10$.DCvvJ9WSDpqVP2xXjeSPezzcMs1mEQlySS8KUO...     40           S   \n",
       "37926  $2b$10$.DCvvJ9WSDpqVP2xXjeSPeZzXBUhbFjWAFGNx/D...     25           S   \n",
       "\n",
       "                BillingCity  NivelConhecimentoAtual  ScoreNivelConhecimento  \\\n",
       "2                 São Paulo                       0                       0   \n",
       "3                    Santos                       5                       5   \n",
       "6                   Goiânia                       1                       1   \n",
       "12              Santo André                       1                       1   \n",
       "13                Rio Negro                       0                       0   \n",
       "...                     ...                     ...                     ...   \n",
       "37827              Paulista                       1                       1   \n",
       "37845               Chapecó                       2                       2   \n",
       "37882                Cuiabá                       2                       2   \n",
       "37895               Aracaju                       1                       1   \n",
       "37926  Nova Alvorada do Sul                       1                       1   \n",
       "\n",
       "       PerfilInvestidor  RendaMensal  ValorPatrimonio  Ind_Guardado  \\\n",
       "2                     0       1900.0           1000.0             0   \n",
       "3                     4       8000.0         300000.0             2   \n",
       "6                     2       2000.0              0.0             1   \n",
       "12                    2       1000.0              0.0             3   \n",
       "13                    0      10000.0         900000.0             0   \n",
       "...                 ...          ...              ...           ...   \n",
       "37827                 2       1800.0              0.0             1   \n",
       "37845                 3       2850.0             26.0             1   \n",
       "37882                 2       5000.0          60000.0             1   \n",
       "37895                 1       5800.0              0.0             1   \n",
       "37926                 3       2406.0          28000.0             1   \n",
       "\n",
       "       ScoreRisco  ScoreObjetivos  ScoreSituacaoFinanceira  \\\n",
       "2               0               0                        0   \n",
       "3               3               3                        3   \n",
       "6               2               4                        1   \n",
       "12              2               2                        2   \n",
       "13              0               0                        0   \n",
       "...           ...             ...                      ...   \n",
       "37827           2               2                        1   \n",
       "37845           3               5                        1   \n",
       "37882           2               3                        2   \n",
       "37895           2               1                        1   \n",
       "37926           4               2                        2   \n",
       "\n",
       "       Soma_Investido_Total  Sao_Paulo    Rio  Brasilia TipoCarteira__c  \\\n",
       "2                       0.0       True  False     False             NaN   \n",
       "3                       0.0      False  False     False             NaN   \n",
       "6                       0.0      False  False     False             NaN   \n",
       "12                      0.0      False  False     False             NaN   \n",
       "13                      0.0      False  False     False             NaN   \n",
       "...                     ...        ...    ...       ...             ...   \n",
       "37827                   0.0      False  False     False             NaN   \n",
       "37845                   0.0      False  False     False             NaN   \n",
       "37882                   0.0      False  False     False             NaN   \n",
       "37895                   0.0      False  False     False             NaN   \n",
       "37926                   0.0      False  False     False             NaN   \n",
       "\n",
       "       Soma_Investido_Total_Scaler  ValorPatrimonio_Scaler  RendaMensal_Scaler  \n",
       "2                        -0.302398               -0.049854           -0.234992  \n",
       "3                        -0.302398               -0.025604           -0.013966  \n",
       "6                        -0.302398               -0.049935           -0.231369  \n",
       "12                       -0.302398               -0.049935           -0.267603  \n",
       "13                       -0.302398                0.023058            0.058502  \n",
       "...                            ...                     ...                 ...  \n",
       "37827                    -0.302398               -0.049935           -0.238616  \n",
       "37845                    -0.302398               -0.049933           -0.200570  \n",
       "37882                    -0.302398               -0.045069           -0.122667  \n",
       "37895                    -0.302398               -0.049935           -0.093680  \n",
       "37926                    -0.302398               -0.047664           -0.216658  \n",
       "\n",
       "[1583 rows x 21 columns]"
      ]
     },
     "execution_count": 30,
     "metadata": {},
     "output_type": "execute_result"
    }
   ],
   "source": [
    "clientes_sem_investimento"
   ]
  },
  {
   "cell_type": "code",
   "execution_count": 31,
   "metadata": {
    "colab": {},
    "colab_type": "code",
    "id": "jgTCRvsmhDPF"
   },
   "outputs": [],
   "source": [
    "cli_train = limpezaParaTreino(clientes_com_investimento, ['Id', 'BillingCity', 'Soma_Investido_Total', 'ValorPatrimonio', 'RendaMensal', 'Soma_Investido_Total_Scaler'])"
   ]
  },
  {
   "cell_type": "markdown",
   "metadata": {
    "colab_type": "text",
    "id": "dQsQSjBEJPT1"
   },
   "source": [
    "### Analise com 4 cluster"
   ]
  },
  {
   "cell_type": "code",
   "execution_count": 32,
   "metadata": {
    "colab": {
     "base_uri": "https://localhost:8080/",
     "height": 68
    },
    "colab_type": "code",
    "executionInfo": {
     "elapsed": 57232,
     "status": "ok",
     "timestamp": 1585785246835,
     "user": {
      "displayName": "Marcelo Nunes Alves",
      "photoUrl": "https://lh3.googleusercontent.com/a-/AOh14Ggg7j8UpQCWjd1mjJepuWNjOO1BULs-g6UsERA1vQ=s64",
      "userId": "09811685755861607483"
     },
     "user_tz": 180
    },
    "id": "Low_70NHJPT3",
    "outputId": "9bf061fb-f188-4fc3-bcff-9fc700a1d388"
   },
   "outputs": [
    {
     "data": {
      "text/plain": [
       "KMeans(algorithm='auto', copy_x=True, init='k-means++', max_iter=300,\n",
       "       n_clusters=4, n_init=10, n_jobs=None, precompute_distances='auto',\n",
       "       random_state=None, tol=0.0001, verbose=0)"
      ]
     },
     "execution_count": 32,
     "metadata": {},
     "output_type": "execute_result"
    }
   ],
   "source": [
    "Kmean = KMeans(n_clusters=4)\n",
    "Kmean.fit(cli_train)"
   ]
  },
  {
   "cell_type": "markdown",
   "metadata": {
    "colab_type": "text",
    "id": "xqGS8kDfVGXs"
   },
   "source": [
    "#### Dados de treino - clientes com investimentos"
   ]
  },
  {
   "cell_type": "code",
   "execution_count": 33,
   "metadata": {
    "colab": {},
    "colab_type": "code",
    "id": "OogUANG6VGX3"
   },
   "outputs": [],
   "source": [
    "dfL = pd.DataFrame({'label': Kmean.labels_}, index=clientes_com_investimento.index)\n",
    "result = pd.concat([clientes_com_investimento, dfL], axis=1, join='inner')"
   ]
  },
  {
   "cell_type": "code",
   "execution_count": 34,
   "metadata": {
    "colab": {
     "base_uri": "https://localhost:8080/"
    },
    "colab_type": "code",
    "executionInfo": {
     "elapsed": 57199,
     "status": "ok",
     "timestamp": 1585785246841,
     "user": {
      "displayName": "Marcelo Nunes Alves",
      "photoUrl": "https://lh3.googleusercontent.com/a-/AOh14Ggg7j8UpQCWjd1mjJepuWNjOO1BULs-g6UsERA1vQ=s64",
      "userId": "09811685755861607483"
     },
     "user_tz": 180
    },
    "id": "dBna4jfUVGX8",
    "outputId": "2a298a76-aa63-485c-ad24-60eb5461b4df"
   },
   "outputs": [
    {
     "data": {
      "text/plain": [
       "label\n",
       "0    14449\n",
       "1     7672\n",
       "2     3257\n",
       "3    10966\n",
       "Name: Idade, dtype: int64"
      ]
     },
     "execution_count": 34,
     "metadata": {},
     "output_type": "execute_result"
    }
   ],
   "source": [
    "result.groupby(['label'])['Idade'].count()"
   ]
  },
  {
   "cell_type": "code",
   "execution_count": 35,
   "metadata": {
    "colab": {
     "base_uri": "https://localhost:8080/"
    },
    "colab_type": "code",
    "executionInfo": {
     "elapsed": 58761,
     "status": "ok",
     "timestamp": 1585785248435,
     "user": {
      "displayName": "Marcelo Nunes Alves",
      "photoUrl": "https://lh3.googleusercontent.com/a-/AOh14Ggg7j8UpQCWjd1mjJepuWNjOO1BULs-g6UsERA1vQ=s64",
      "userId": "09811685755861607483"
     },
     "user_tz": 180
    },
    "id": "QwuOnGTDVGYC",
    "outputId": "ac5923b3-51bf-4891-c7f1-68d0d1cd0544"
   },
   "outputs": [
    {
     "data": {
      "image/png": "[encoded data removed]",
      "text/plain": [
       "<Figure size 432x288 with 1 Axes>"
      ]
     },
     "metadata": {
      "needs_background": "light"
     },
     "output_type": "display_data"
    }
   ],
   "source": [
    "plt.scatter(result[result['label'] == 0].Idade, result[result['label'] == 0].ScoreRisco, c = 'red', label = 'Cluster 1')\n",
    "plt.scatter(result[result['label'] == 1].Idade, result[result['label'] == 1].ScoreRisco, c = 'blue', label = 'Cluster 2')\n",
    "plt.scatter(result[result['label'] == 2].Idade, result[result['label'] == 2].ScoreRisco, c = 'green', label = 'Cluster 3')\n",
    "plt.scatter(result[result['label'] == 3].Idade, result[result['label'] == 3].ScoreRisco, c = 'cyan', label = 'Cluster 4')\n",
    "plt.xlabel('Idade')\n",
    "plt.ylabel('Score de risco')\n",
    "plt.legend()\n",
    "plt.show()"
   ]
  },
  {
   "cell_type": "code",
   "execution_count": 36,
   "metadata": {
    "colab": {
     "base_uri": "https://localhost:8080/"
    },
    "colab_type": "code",
    "executionInfo": {
     "elapsed": 59408,
     "status": "ok",
     "timestamp": 1585785249101,
     "user": {
      "displayName": "Marcelo Nunes Alves",
      "photoUrl": "https://lh3.googleusercontent.com/a-/AOh14Ggg7j8UpQCWjd1mjJepuWNjOO1BULs-g6UsERA1vQ=s64",
      "userId": "09811685755861607483"
     },
     "user_tz": 180
    },
    "id": "LaCpC6KfVGYH",
    "outputId": "fd8f0029-7be5-4803-b4fe-d9e4aaae5d24"
   },
   "outputs": [
    {
     "data": {
      "image/png": "[encoded data removed]",
      "text/plain": [
       "<Figure size 432x288 with 1 Axes>"
      ]
     },
     "metadata": {
      "needs_background": "light"
     },
     "output_type": "display_data"
    }
   ],
   "source": [
    "plt.scatter(result[result['label'] == 0].Idade, result[result['label'] == 0].ValorPatrimonio_Scaler, c = 'red', label = 'Cluster 1')\n",
    "plt.scatter(result[result['label'] == 1].Idade, result[result['label'] == 1].ValorPatrimonio_Scaler, c = 'blue', label = 'Cluster 2')\n",
    "plt.scatter(result[result['label'] == 2].Idade, result[result['label'] == 2].ValorPatrimonio_Scaler, c = 'green', label = 'Cluster 3')\n",
    "plt.scatter(result[result['label'] == 3].Idade, result[result['label'] == 3].ValorPatrimonio_Scaler, c = 'cyan', label = 'Cluster 4')\n",
    "plt.xlabel('Idade')\n",
    "plt.ylabel('Valor do Patrimonio')\n",
    "plt.legend()\n",
    "plt.show()"
   ]
  },
  {
   "cell_type": "code",
   "execution_count": 37,
   "metadata": {
    "colab": {
     "base_uri": "https://localhost:8080/"
    },
    "colab_type": "code",
    "executionInfo": {
     "elapsed": 59817,
     "status": "ok",
     "timestamp": 1585785249537,
     "user": {
      "displayName": "Marcelo Nunes Alves",
      "photoUrl": "https://lh3.googleusercontent.com/a-/AOh14Ggg7j8UpQCWjd1mjJepuWNjOO1BULs-g6UsERA1vQ=s64",
      "userId": "09811685755861607483"
     },
     "user_tz": 180
    },
    "id": "wy-o3rblVGYN",
    "outputId": "e7b951e8-aba8-457b-a102-6388a03d8054"
   },
   "outputs": [
    {
     "data": {
      "image/png": "[encoded data removed]",
      "text/plain": [
       "<Figure size 432x288 with 1 Axes>"
      ]
     },
     "metadata": {
      "needs_background": "light"
     },
     "output_type": "display_data"
    }
   ],
   "source": [
    "plt.scatter(result[result['label'] == 0].RendaMensal, result[result['label'] == 0].ValorPatrimonio, c = 'red', label = 'Cluster 1')\n",
    "plt.scatter(result[result['label'] == 1].RendaMensal, result[result['label'] == 1].ValorPatrimonio, c = 'blue', label = 'Cluster 2')\n",
    "plt.scatter(result[result['label'] == 2].RendaMensal, result[result['label'] == 2].ValorPatrimonio, c = 'green', label = 'Cluster 3')\n",
    "plt.scatter(result[result['label'] == 3].RendaMensal, result[result['label'] == 3].ValorPatrimonio, c = 'cyan', label = 'Cluster 4')\n",
    "plt.xlabel('Renda mensal')\n",
    "plt.ylabel('Valor do patrimonio')\n",
    "plt.legend()\n",
    "plt.show()"
   ]
  },
  {
   "cell_type": "code",
   "execution_count": 38,
   "metadata": {
    "colab": {
     "base_uri": "https://localhost:8080/"
    },
    "colab_type": "code",
    "executionInfo": {
     "elapsed": 60206,
     "status": "ok",
     "timestamp": 1585785249986,
     "user": {
      "displayName": "Marcelo Nunes Alves",
      "photoUrl": "https://lh3.googleusercontent.com/a-/AOh14Ggg7j8UpQCWjd1mjJepuWNjOO1BULs-g6UsERA1vQ=s64",
      "userId": "09811685755861607483"
     },
     "user_tz": 180
    },
    "id": "t7m2NomiVGYS",
    "outputId": "e536f958-f386-4b9e-ec0e-0272321e0287"
   },
   "outputs": [
    {
     "data": {
      "image/png": "[encoded data removed]",
      "text/plain": [
       "<Figure size 432x288 with 1 Axes>"
      ]
     },
     "metadata": {
      "needs_background": "light"
     },
     "output_type": "display_data"
    }
   ],
   "source": [
    "plt.scatter(result[result['label'] == 0].EstadoCivil, result[result['label'] == 0].ValorPatrimonio, c = 'red', label = 'Cluster 1')\n",
    "plt.scatter(result[result['label'] == 1].EstadoCivil, result[result['label'] == 1].ValorPatrimonio, c = 'blue', label = 'Cluster 2')\n",
    "plt.scatter(result[result['label'] == 2].EstadoCivil, result[result['label'] == 2].ValorPatrimonio, c = 'green', label = 'Cluster 3')\n",
    "plt.scatter(result[result['label'] == 3].EstadoCivil, result[result['label'] == 3].ValorPatrimonio, c = 'cyan', label = 'Cluster 4')\n",
    "plt.xlabel('Estado civil')\n",
    "plt.ylabel('Valor Patrimonio')\n",
    "plt.legend()\n",
    "plt.show()"
   ]
  },
  {
   "cell_type": "code",
   "execution_count": 39,
   "metadata": {
    "colab": {
     "base_uri": "https://localhost:8080/"
    },
    "colab_type": "code",
    "executionInfo": {
     "elapsed": 60695,
     "status": "ok",
     "timestamp": 1585785250493,
     "user": {
      "displayName": "Marcelo Nunes Alves",
      "photoUrl": "https://lh3.googleusercontent.com/a-/AOh14Ggg7j8UpQCWjd1mjJepuWNjOO1BULs-g6UsERA1vQ=s64",
      "userId": "09811685755861607483"
     },
     "user_tz": 180
    },
    "id": "ZcprEa6wVGYX",
    "outputId": "00420d7c-b500-474e-9fb5-d11dac97b977"
   },
   "outputs": [
    {
     "data": {
      "image/png": "[encoded data removed]",
      "text/plain": [
       "<Figure size 432x288 with 1 Axes>"
      ]
     },
     "metadata": {
      "needs_background": "light"
     },
     "output_type": "display_data"
    }
   ],
   "source": [
    "plt.scatter(result[result['label'] == 0].NivelConhecimentoAtual, result[result['label'] == 0].ValorPatrimonio, c = 'red', label = 'Cluster 1')\n",
    "plt.scatter(result[result['label'] == 1].NivelConhecimentoAtual, result[result['label'] == 1].ValorPatrimonio, c = 'blue', label = 'Cluster 2')\n",
    "plt.scatter(result[result['label'] == 2].NivelConhecimentoAtual, result[result['label'] == 2].ValorPatrimonio, c = 'green', label = 'Cluster 3')\n",
    "plt.scatter(result[result['label'] == 3].NivelConhecimentoAtual, result[result['label'] == 3].ValorPatrimonio, c = 'cyan', label = 'Cluster 4')\n",
    "plt.xlabel('Nivel Conhecimento Atual')\n",
    "plt.ylabel('Soma Investido Total')\n",
    "plt.legend()\n",
    "plt.show()"
   ]
  },
  {
   "cell_type": "code",
   "execution_count": 40,
   "metadata": {
    "colab": {
     "base_uri": "https://localhost:8080/"
    },
    "colab_type": "code",
    "executionInfo": {
     "elapsed": 61770,
     "status": "ok",
     "timestamp": 1585785251585,
     "user": {
      "displayName": "Marcelo Nunes Alves",
      "photoUrl": "https://lh3.googleusercontent.com/a-/AOh14Ggg7j8UpQCWjd1mjJepuWNjOO1BULs-g6UsERA1vQ=s64",
      "userId": "09811685755861607483"
     },
     "user_tz": 180
    },
    "id": "bMKJVbOuVGYc",
    "outputId": "35d31ba2-8de0-4402-b5e4-9a3571a99838"
   },
   "outputs": [
    {
     "data": {
      "image/png": "[encoded data removed]",
      "text/plain": [
       "<Figure size 432x288 with 1 Axes>"
      ]
     },
     "metadata": {
      "needs_background": "light"
     },
     "output_type": "display_data"
    }
   ],
   "source": [
    "plt.scatter(result[result['label'] == 0].ScoreObjetivos, result[result['label'] == 0].ValorPatrimonio, c = 'red', label = 'Cluster 1')\n",
    "plt.scatter(result[result['label'] == 1].ScoreObjetivos, result[result['label'] == 1].ValorPatrimonio, c = 'blue', label = 'Cluster 2')\n",
    "plt.scatter(result[result['label'] == 2].ScoreObjetivos, result[result['label'] == 2].ValorPatrimonio, c = 'green', label = 'Cluster 3')\n",
    "plt.scatter(result[result['label'] == 3].ScoreObjetivos, result[result['label'] == 3].ValorPatrimonio, c = 'cyan', label = 'Cluster 4')\n",
    "plt.xlabel('Score de objetivo')\n",
    "plt.ylabel('Soma Investido Total')\n",
    "plt.legend()\n",
    "plt.show()"
   ]
  },
  {
   "cell_type": "code",
   "execution_count": 41,
   "metadata": {
    "colab": {
     "base_uri": "https://localhost:8080/"
    },
    "colab_type": "code",
    "executionInfo": {
     "elapsed": 63579,
     "status": "ok",
     "timestamp": 1585785253419,
     "user": {
      "displayName": "Marcelo Nunes Alves",
      "photoUrl": "https://lh3.googleusercontent.com/a-/AOh14Ggg7j8UpQCWjd1mjJepuWNjOO1BULs-g6UsERA1vQ=s64",
      "userId": "09811685755861607483"
     },
     "user_tz": 180
    },
    "id": "Dyetyr5S3JD0",
    "outputId": "ba76d542-0030-408d-a611-426efda6bf1b"
   },
   "outputs": [
    {
     "data": {
      "image/png": "[encoded data removed]",
      "text/plain": [
       "<Figure size 432x288 with 1 Axes>"
      ]
     },
     "metadata": {
      "needs_background": "light"
     },
     "output_type": "display_data"
    }
   ],
   "source": [
    "plt.scatter(result[result['label'] == 0].Idade, result[result['label'] == 0].TipoCarteira__c, c = 'red', label = 'Cluster 1')\n",
    "plt.scatter(result[result['label'] == 1].Idade, result[result['label'] == 1].TipoCarteira__c, c = 'blue', label = 'Cluster 2')\n",
    "plt.scatter(result[result['label'] == 2].Idade, result[result['label'] == 2].TipoCarteira__c, c = 'green', label = 'Cluster 3')\n",
    "plt.scatter(result[result['label'] == 3].Idade, result[result['label'] == 3].TipoCarteira__c, c = 'cyan', label = 'Cluster 4')\n",
    "plt.xlabel('Idade')\n",
    "plt.ylabel('Tipo de carteira')\n",
    "plt.legend()\n",
    "plt.show()"
   ]
  },
  {
   "cell_type": "markdown",
   "metadata": {
    "colab_type": "text",
    "id": "98uf-VSZVAfI"
   },
   "source": [
    "#### Predicao para clientes sem investimentos"
   ]
  },
  {
   "cell_type": "code",
   "execution_count": 42,
   "metadata": {
    "colab": {},
    "colab_type": "code",
    "id": "YPCOwzIJLsjX"
   },
   "outputs": [],
   "source": [
    "cli_test = limpezaParaTreino(clientes_sem_investimento, ['Id', 'BillingCity', 'Soma_Investido_Total', 'ValorPatrimonio', 'RendaMensal', 'Soma_Investido_Total_Scaler'])\n",
    "\n",
    "for coluna in cli_train.columns:\n",
    "  if coluna.startswith('TipoCarteira__c'):\n",
    "    cli_test[coluna] = 0"
   ]
  },
  {
   "cell_type": "code",
   "execution_count": 43,
   "metadata": {
    "colab": {},
    "colab_type": "code",
    "id": "banjMODIJPT7"
   },
   "outputs": [],
   "source": [
    "labelsTest = Kmean.predict(cli_test)\n",
    "\n",
    "dfL = pd.DataFrame({'label': labelsTest},\n",
    "                    index=clientes_sem_investimento.index)\n",
    "result = pd.concat([clientes_sem_investimento, dfL], axis=1, join='inner')"
   ]
  },
  {
   "cell_type": "code",
   "execution_count": 44,
   "metadata": {
    "colab": {
     "base_uri": "https://localhost:8080/"
    },
    "colab_type": "code",
    "executionInfo": {
     "elapsed": 63523,
     "status": "ok",
     "timestamp": 1585785253422,
     "user": {
      "displayName": "Marcelo Nunes Alves",
      "photoUrl": "https://lh3.googleusercontent.com/a-/AOh14Ggg7j8UpQCWjd1mjJepuWNjOO1BULs-g6UsERA1vQ=s64",
      "userId": "09811685755861607483"
     },
     "user_tz": 180
    },
    "id": "ksYAPdNeJPT-",
    "outputId": "22e99d96-8822-454e-a200-a19f0303e414"
   },
   "outputs": [
    {
     "data": {
      "text/plain": [
       "label\n",
       "0    559\n",
       "1    337\n",
       "2     98\n",
       "3    589\n",
       "Name: Idade, dtype: int64"
      ]
     },
     "execution_count": 44,
     "metadata": {},
     "output_type": "execute_result"
    }
   ],
   "source": [
    "result.groupby(['label'])['Idade'].count()"
   ]
  },
  {
   "cell_type": "code",
   "execution_count": 45,
   "metadata": {
    "colab": {
     "base_uri": "https://localhost:8080/"
    },
    "colab_type": "code",
    "executionInfo": {
     "elapsed": 63508,
     "status": "ok",
     "timestamp": 1585785253422,
     "user": {
      "displayName": "Marcelo Nunes Alves",
      "photoUrl": "https://lh3.googleusercontent.com/a-/AOh14Ggg7j8UpQCWjd1mjJepuWNjOO1BULs-g6UsERA1vQ=s64",
      "userId": "09811685755861607483"
     },
     "user_tz": 180
    },
    "id": "ZMhdqIOqJPUB",
    "outputId": "65066dfa-3e38-4be5-be79-92e7e8380ab1"
   },
   "outputs": [
    {
     "data": {
      "image/png": "[encoded data removed]",
      "text/plain": [
       "<Figure size 432x288 with 1 Axes>"
      ]
     },
     "metadata": {
      "needs_background": "light"
     },
     "output_type": "display_data"
    }
   ],
   "source": [
    "plt.scatter(result[result['label'] == 0].Idade, result[result['label'] == 0].ScoreRisco, c = 'red', label = 'Cluster 1')\n",
    "plt.scatter(result[result['label'] == 1].Idade, result[result['label'] == 1].ScoreRisco, c = 'blue', label = 'Cluster 2')\n",
    "plt.scatter(result[result['label'] == 2].Idade, result[result['label'] == 2].ScoreRisco, c = 'green', label = 'Cluster 3')\n",
    "plt.scatter(result[result['label'] == 3].Idade, result[result['label'] == 3].ScoreRisco, c = 'cyan', label = 'Cluster 4')\n",
    "plt.xlabel('Idade')\n",
    "plt.ylabel('Score de risco')\n",
    "plt.legend()\n",
    "plt.show()"
   ]
  },
  {
   "cell_type": "code",
   "execution_count": 46,
   "metadata": {
    "colab": {
     "base_uri": "https://localhost:8080/"
    },
    "colab_type": "code",
    "executionInfo": {
     "elapsed": 64326,
     "status": "ok",
     "timestamp": 1585785254253,
     "user": {
      "displayName": "Marcelo Nunes Alves",
      "photoUrl": "https://lh3.googleusercontent.com/a-/AOh14Ggg7j8UpQCWjd1mjJepuWNjOO1BULs-g6UsERA1vQ=s64",
      "userId": "09811685755861607483"
     },
     "user_tz": 180
    },
    "id": "ghjW_TflJPUG",
    "outputId": "cd5c6533-1b39-4949-b3bd-7b2e2c680d5c"
   },
   "outputs": [
    {
     "data": {
      "image/png": "[encoded data removed]",
      "text/plain": [
       "<Figure size 432x288 with 1 Axes>"
      ]
     },
     "metadata": {
      "needs_background": "light"
     },
     "output_type": "display_data"
    }
   ],
   "source": [
    "plt.scatter(result[result['label'] == 0].Idade, result[result['label'] == 0].ValorPatrimonio_Scaler, c = 'red', label = 'Cluster 1')\n",
    "plt.scatter(result[result['label'] == 1].Idade, result[result['label'] == 1].ValorPatrimonio_Scaler, c = 'blue', label = 'Cluster 2')\n",
    "plt.scatter(result[result['label'] == 2].Idade, result[result['label'] == 2].ValorPatrimonio_Scaler, c = 'green', label = 'Cluster 3')\n",
    "plt.scatter(result[result['label'] == 3].Idade, result[result['label'] == 3].ValorPatrimonio_Scaler, c = 'cyan', label = 'Cluster 4')\n",
    "plt.xlabel('Idade')\n",
    "plt.ylabel('Valor do Patrimonio')\n",
    "plt.legend()\n",
    "plt.show()"
   ]
  },
  {
   "cell_type": "code",
   "execution_count": 47,
   "metadata": {
    "colab": {
     "base_uri": "https://localhost:8080/"
    },
    "colab_type": "code",
    "executionInfo": {
     "elapsed": 64313,
     "status": "ok",
     "timestamp": 1585785254254,
     "user": {
      "displayName": "Marcelo Nunes Alves",
      "photoUrl": "https://lh3.googleusercontent.com/a-/AOh14Ggg7j8UpQCWjd1mjJepuWNjOO1BULs-g6UsERA1vQ=s64",
      "userId": "09811685755861607483"
     },
     "user_tz": 180
    },
    "id": "H3oQSVxPJPUI",
    "outputId": "586ecba2-a0ec-48de-9bc8-26141c99ae5a"
   },
   "outputs": [
    {
     "data": {
      "image/png": "[encoded data removed]",
      "text/plain": [
       "<Figure size 432x288 with 1 Axes>"
      ]
     },
     "metadata": {
      "needs_background": "light"
     },
     "output_type": "display_data"
    }
   ],
   "source": [
    "plt.scatter(result[result['label'] == 0].RendaMensal, result[result['label'] == 0].ValorPatrimonio, c = 'red', label = 'Cluster 1')\n",
    "plt.scatter(result[result['label'] == 1].RendaMensal, result[result['label'] == 1].ValorPatrimonio, c = 'blue', label = 'Cluster 2')\n",
    "plt.scatter(result[result['label'] == 2].RendaMensal, result[result['label'] == 2].ValorPatrimonio, c = 'green', label = 'Cluster 3')\n",
    "plt.scatter(result[result['label'] == 3].RendaMensal, result[result['label'] == 3].ValorPatrimonio, c = 'cyan', label = 'Cluster 4')\n",
    "plt.xlabel('Renda mensal')\n",
    "plt.ylabel('Valor do patrimonio')\n",
    "plt.legend()\n",
    "plt.show()"
   ]
  },
  {
   "cell_type": "code",
   "execution_count": 48,
   "metadata": {
    "colab": {
     "base_uri": "https://localhost:8080/"
    },
    "colab_type": "code",
    "executionInfo": {
     "elapsed": 65061,
     "status": "ok",
     "timestamp": 1585785255017,
     "user": {
      "displayName": "Marcelo Nunes Alves",
      "photoUrl": "https://lh3.googleusercontent.com/a-/AOh14Ggg7j8UpQCWjd1mjJepuWNjOO1BULs-g6UsERA1vQ=s64",
      "userId": "09811685755861607483"
     },
     "user_tz": 180
    },
    "id": "dx4xJgy5JPUM",
    "outputId": "a40cdb32-c93c-4f1d-9131-f1f71b443aad"
   },
   "outputs": [
    {
     "data": {
      "image/png": "[encoded data removed]",
      "text/plain": [
       "<Figure size 432x288 with 1 Axes>"
      ]
     },
     "metadata": {
      "needs_background": "light"
     },
     "output_type": "display_data"
    }
   ],
   "source": [
    "plt.scatter(result[result['label'] == 0].EstadoCivil, result[result['label'] == 0].ValorPatrimonio, c = 'red', label = 'Cluster 1')\n",
    "plt.scatter(result[result['label'] == 1].EstadoCivil, result[result['label'] == 1].ValorPatrimonio, c = 'blue', label = 'Cluster 2')\n",
    "plt.scatter(result[result['label'] == 2].EstadoCivil, result[result['label'] == 2].ValorPatrimonio, c = 'green', label = 'Cluster 3')\n",
    "plt.scatter(result[result['label'] == 3].EstadoCivil, result[result['label'] == 3].ValorPatrimonio, c = 'cyan', label = 'Cluster 4')\n",
    "plt.xlabel('Estado civil')\n",
    "plt.ylabel('Valor Patrimonio')\n",
    "plt.legend()\n",
    "plt.show()"
   ]
  },
  {
   "cell_type": "code",
   "execution_count": 49,
   "metadata": {
    "colab": {
     "base_uri": "https://localhost:8080/"
    },
    "colab_type": "code",
    "executionInfo": {
     "elapsed": 64798,
     "status": "ok",
     "timestamp": 1585785255019,
     "user": {
      "displayName": "Marcelo Nunes Alves",
      "photoUrl": "https://lh3.googleusercontent.com/a-/AOh14Ggg7j8UpQCWjd1mjJepuWNjOO1BULs-g6UsERA1vQ=s64",
      "userId": "09811685755861607483"
     },
     "user_tz": 180
    },
    "id": "hUlqQRF6JPUO",
    "outputId": "0b2d7c7c-e664-4c77-87e5-94c38a4d9e2a"
   },
   "outputs": [
    {
     "data": {
      "image/png": "[encoded data removed]",
      "text/plain": [
       "<Figure size 432x288 with 1 Axes>"
      ]
     },
     "metadata": {
      "needs_background": "light"
     },
     "output_type": "display_data"
    }
   ],
   "source": [
    "plt.scatter(result[result['label'] == 0].NivelConhecimentoAtual, result[result['label'] == 0].ValorPatrimonio, c = 'red', label = 'Cluster 1')\n",
    "plt.scatter(result[result['label'] == 1].NivelConhecimentoAtual, result[result['label'] == 1].ValorPatrimonio, c = 'blue', label = 'Cluster 2')\n",
    "plt.scatter(result[result['label'] == 2].NivelConhecimentoAtual, result[result['label'] == 2].ValorPatrimonio, c = 'green', label = 'Cluster 3')\n",
    "plt.scatter(result[result['label'] == 3].NivelConhecimentoAtual, result[result['label'] == 3].ValorPatrimonio, c = 'cyan', label = 'Cluster 4')\n",
    "plt.xlabel('Nivel Conhecimento Atual')\n",
    "plt.ylabel('Soma Investido Total')\n",
    "plt.legend()\n",
    "plt.show()"
   ]
  },
  {
   "cell_type": "code",
   "execution_count": 50,
   "metadata": {
    "colab": {
     "base_uri": "https://localhost:8080/"
    },
    "colab_type": "code",
    "executionInfo": {
     "elapsed": 65208,
     "status": "ok",
     "timestamp": 1585785255450,
     "user": {
      "displayName": "Marcelo Nunes Alves",
      "photoUrl": "https://lh3.googleusercontent.com/a-/AOh14Ggg7j8UpQCWjd1mjJepuWNjOO1BULs-g6UsERA1vQ=s64",
      "userId": "09811685755861607483"
     },
     "user_tz": 180
    },
    "id": "sv-JJY-HJPUQ",
    "outputId": "581ac3c3-f841-4638-e07c-90a03061739b"
   },
   "outputs": [
    {
     "data": {
      "image/png": "[encoded data removed]",
      "text/plain": [
       "<Figure size 432x288 with 1 Axes>"
      ]
     },
     "metadata": {
      "needs_background": "light"
     },
     "output_type": "display_data"
    }
   ],
   "source": [
    "plt.scatter(result[result['label'] == 0].ScoreObjetivos, result[result['label'] == 0].ValorPatrimonio, c = 'red', label = 'Cluster 1')\n",
    "plt.scatter(result[result['label'] == 1].ScoreObjetivos, result[result['label'] == 1].ValorPatrimonio, c = 'blue', label = 'Cluster 2')\n",
    "plt.scatter(result[result['label'] == 2].ScoreObjetivos, result[result['label'] == 2].ValorPatrimonio, c = 'green', label = 'Cluster 3')\n",
    "plt.scatter(result[result['label'] == 3].ScoreObjetivos, result[result['label'] == 3].ValorPatrimonio, c = 'cyan', label = 'Cluster 4')\n",
    "plt.xlabel('Score de objetivo')\n",
    "plt.ylabel('Soma Investido Total')\n",
    "plt.legend()\n",
    "plt.show()"
   ]
  },
  {
   "cell_type": "markdown",
   "metadata": {
    "colab_type": "text",
    "id": "C5g2qb0Ty-Ky"
   },
   "source": [
    "### Analise com 5 cluster"
   ]
  },
  {
   "cell_type": "code",
   "execution_count": 51,
   "metadata": {
    "colab": {
     "base_uri": "https://localhost:8080/",
     "height": 68
    },
    "colab_type": "code",
    "executionInfo": {
     "elapsed": 66387,
     "status": "ok",
     "timestamp": 1585785256660,
     "user": {
      "displayName": "Marcelo Nunes Alves",
      "photoUrl": "https://lh3.googleusercontent.com/a-/AOh14Ggg7j8UpQCWjd1mjJepuWNjOO1BULs-g6UsERA1vQ=s64",
      "userId": "09811685755861607483"
     },
     "user_tz": 180
    },
    "id": "05IN8yGLy-K4",
    "outputId": "de5bdaa7-7bb6-46c4-cf22-0772e0e96046"
   },
   "outputs": [
    {
     "data": {
      "text/plain": [
       "KMeans(algorithm='auto', copy_x=True, init='k-means++', max_iter=300,\n",
       "       n_clusters=5, n_init=10, n_jobs=None, precompute_distances='auto',\n",
       "       random_state=None, tol=0.0001, verbose=0)"
      ]
     },
     "execution_count": 51,
     "metadata": {},
     "output_type": "execute_result"
    }
   ],
   "source": [
    "Kmean = KMeans(n_clusters=5)\n",
    "Kmean.fit(cli_train)"
   ]
  },
  {
   "cell_type": "markdown",
   "metadata": {
    "colab_type": "text",
    "id": "OsG-QtfZy-LH"
   },
   "source": [
    "#### Dados de treino - clientes com investimentos"
   ]
  },
  {
   "cell_type": "code",
   "execution_count": 52,
   "metadata": {
    "colab": {},
    "colab_type": "code",
    "id": "BWf3MJxjy-LJ"
   },
   "outputs": [],
   "source": [
    "dfL = pd.DataFrame({'label': Kmean.labels_}, index=clientes_com_investimento.index)\n",
    "result = pd.concat([clientes_com_investimento, dfL], axis=1, join='inner')"
   ]
  },
  {
   "cell_type": "code",
   "execution_count": 53,
   "metadata": {
    "colab": {
     "base_uri": "https://localhost:8080/"
    },
    "colab_type": "code",
    "executionInfo": {
     "elapsed": 66367,
     "status": "ok",
     "timestamp": 1585785256668,
     "user": {
      "displayName": "Marcelo Nunes Alves",
      "photoUrl": "https://lh3.googleusercontent.com/a-/AOh14Ggg7j8UpQCWjd1mjJepuWNjOO1BULs-g6UsERA1vQ=s64",
      "userId": "09811685755861607483"
     },
     "user_tz": 180
    },
    "id": "tsM2Stfty-LQ",
    "outputId": "f6489c2d-c728-4570-e211-2e9f49ab427a"
   },
   "outputs": [
    {
     "data": {
      "text/plain": [
       "label\n",
       "0     9201\n",
       "1     4803\n",
       "2     2035\n",
       "3    11564\n",
       "4     8741\n",
       "Name: Idade, dtype: int64"
      ]
     },
     "execution_count": 53,
     "metadata": {},
     "output_type": "execute_result"
    }
   ],
   "source": [
    "result.groupby(['label'])['Idade'].count()"
   ]
  },
  {
   "cell_type": "code",
   "execution_count": 54,
   "metadata": {
    "colab": {
     "base_uri": "https://localhost:8080/"
    },
    "colab_type": "code",
    "executionInfo": {
     "elapsed": 68119,
     "status": "ok",
     "timestamp": 1585785258429,
     "user": {
      "displayName": "Marcelo Nunes Alves",
      "photoUrl": "https://lh3.googleusercontent.com/a-/AOh14Ggg7j8UpQCWjd1mjJepuWNjOO1BULs-g6UsERA1vQ=s64",
      "userId": "09811685755861607483"
     },
     "user_tz": 180
    },
    "id": "ASP4-21ly-Lc",
    "outputId": "2c3f8c6b-62a9-4956-a2e9-cb834b814100"
   },
   "outputs": [
    {
     "data": {
      "image/png": "[encoded data removed]",
      "text/plain": [
       "<Figure size 432x288 with 1 Axes>"
      ]
     },
     "metadata": {
      "needs_background": "light"
     },
     "output_type": "display_data"
    }
   ],
   "source": [
    "plt.scatter(result[result['label'] == 0].Idade, result[result['label'] == 0].ScoreRisco, c = 'red', label = 'Cluster 1')\n",
    "plt.scatter(result[result['label'] == 1].Idade, result[result['label'] == 1].ScoreRisco, c = 'blue', label = 'Cluster 2')\n",
    "plt.scatter(result[result['label'] == 2].Idade, result[result['label'] == 2].ScoreRisco, c = 'green', label = 'Cluster 3')\n",
    "plt.scatter(result[result['label'] == 3].Idade, result[result['label'] == 3].ScoreRisco, c = 'cyan', label = 'Cluster 4')\n",
    "plt.scatter(result[result['label'] == 4].Idade, result[result['label'] == 4].ScoreRisco, c = 'magenta', label = 'Cluster 5')\n",
    "plt.xlabel('Idade')\n",
    "plt.ylabel('Score de risco')\n",
    "plt.legend()\n",
    "plt.show()"
   ]
  },
  {
   "cell_type": "code",
   "execution_count": 55,
   "metadata": {
    "colab": {
     "base_uri": "https://localhost:8080/"
    },
    "colab_type": "code",
    "executionInfo": {
     "elapsed": 68107,
     "status": "ok",
     "timestamp": 1585785258430,
     "user": {
      "displayName": "Marcelo Nunes Alves",
      "photoUrl": "https://lh3.googleusercontent.com/a-/AOh14Ggg7j8UpQCWjd1mjJepuWNjOO1BULs-g6UsERA1vQ=s64",
      "userId": "09811685755861607483"
     },
     "user_tz": 180
    },
    "id": "HLwF8eypy-Lm",
    "outputId": "6f623b23-a623-450c-e7e6-7f8cbb6bf44f"
   },
   "outputs": [
    {
     "data": {
      "image/png": "[encoded data removed]",
      "text/plain": [
       "<Figure size 432x288 with 1 Axes>"
      ]
     },
     "metadata": {
      "needs_background": "light"
     },
     "output_type": "display_data"
    }
   ],
   "source": [
    "plt.scatter(result[result['label'] == 0].Idade, result[result['label'] == 0].ValorPatrimonio_Scaler, c = 'red', label = 'Cluster 1')\n",
    "plt.scatter(result[result['label'] == 1].Idade, result[result['label'] == 1].ValorPatrimonio_Scaler, c = 'blue', label = 'Cluster 2')\n",
    "plt.scatter(result[result['label'] == 2].Idade, result[result['label'] == 2].ValorPatrimonio_Scaler, c = 'green', label = 'Cluster 3')\n",
    "plt.scatter(result[result['label'] == 3].Idade, result[result['label'] == 3].ValorPatrimonio_Scaler, c = 'cyan', label = 'Cluster 4')\n",
    "plt.scatter(result[result['label'] == 4].Idade, result[result['label'] == 4].ValorPatrimonio_Scaler, c = 'magenta', label = 'Cluster 5')\n",
    "plt.xlabel('Idade')\n",
    "plt.ylabel('Valor do Patrimonio')\n",
    "plt.legend()\n",
    "plt.show()"
   ]
  },
  {
   "cell_type": "code",
   "execution_count": 56,
   "metadata": {
    "colab": {
     "base_uri": "https://localhost:8080/"
    },
    "colab_type": "code",
    "executionInfo": {
     "elapsed": 68751,
     "status": "ok",
     "timestamp": 1585785259088,
     "user": {
      "displayName": "Marcelo Nunes Alves",
      "photoUrl": "https://lh3.googleusercontent.com/a-/AOh14Ggg7j8UpQCWjd1mjJepuWNjOO1BULs-g6UsERA1vQ=s64",
      "userId": "09811685755861607483"
     },
     "user_tz": 180
    },
    "id": "ylRd4zOxy-Lr",
    "outputId": "629e71fe-f228-4c0f-b131-4a723111db2e"
   },
   "outputs": [
    {
     "data": {
      "image/png": "[encoded data removed]",
      "text/plain": [
       "<Figure size 432x288 with 1 Axes>"
      ]
     },
     "metadata": {
      "needs_background": "light"
     },
     "output_type": "display_data"
    }
   ],
   "source": [
    "plt.scatter(result[result['label'] == 0].RendaMensal, result[result['label'] == 0].ValorPatrimonio, c = 'red', label = 'Cluster 1')\n",
    "plt.scatter(result[result['label'] == 1].RendaMensal, result[result['label'] == 1].ValorPatrimonio, c = 'blue', label = 'Cluster 2')\n",
    "plt.scatter(result[result['label'] == 2].RendaMensal, result[result['label'] == 2].ValorPatrimonio, c = 'green', label = 'Cluster 3')\n",
    "plt.scatter(result[result['label'] == 3].RendaMensal, result[result['label'] == 3].ValorPatrimonio, c = 'cyan', label = 'Cluster 4')\n",
    "plt.scatter(result[result['label'] == 4].RendaMensal, result[result['label'] == 4].ValorPatrimonio, c = 'magenta', label = 'Cluster 5')\n",
    "plt.xlabel('Renda mensal')\n",
    "plt.ylabel('Valor do patrimonio')\n",
    "plt.legend()\n",
    "plt.show()"
   ]
  },
  {
   "cell_type": "code",
   "execution_count": 57,
   "metadata": {
    "colab": {
     "base_uri": "https://localhost:8080/"
    },
    "colab_type": "code",
    "executionInfo": {
     "elapsed": 69548,
     "status": "ok",
     "timestamp": 1585785259897,
     "user": {
      "displayName": "Marcelo Nunes Alves",
      "photoUrl": "https://lh3.googleusercontent.com/a-/AOh14Ggg7j8UpQCWjd1mjJepuWNjOO1BULs-g6UsERA1vQ=s64",
      "userId": "09811685755861607483"
     },
     "user_tz": 180
    },
    "id": "zxssYPnRy-Lx",
    "outputId": "7ba8f80b-4c5e-466b-9755-151136fe3127"
   },
   "outputs": [
    {
     "data": {
      "image/png": "[encoded data removed]",
      "text/plain": [
       "<Figure size 432x288 with 1 Axes>"
      ]
     },
     "metadata": {
      "needs_background": "light"
     },
     "output_type": "display_data"
    }
   ],
   "source": [
    "plt.scatter(result[result['label'] == 0].EstadoCivil, result[result['label'] == 0].ValorPatrimonio, c = 'red', label = 'Cluster 1')\n",
    "plt.scatter(result[result['label'] == 1].EstadoCivil, result[result['label'] == 1].ValorPatrimonio, c = 'blue', label = 'Cluster 2')\n",
    "plt.scatter(result[result['label'] == 2].EstadoCivil, result[result['label'] == 2].ValorPatrimonio, c = 'green', label = 'Cluster 3')\n",
    "plt.scatter(result[result['label'] == 3].EstadoCivil, result[result['label'] == 3].ValorPatrimonio, c = 'cyan', label = 'Cluster 4')\n",
    "plt.scatter(result[result['label'] == 4].EstadoCivil, result[result['label'] == 4].ValorPatrimonio, c = 'magenta', label = 'Cluster 5')\n",
    "plt.xlabel('Estado civil')\n",
    "plt.ylabel('Valor Patrimonio')\n",
    "plt.legend()\n",
    "plt.show()"
   ]
  },
  {
   "cell_type": "code",
   "execution_count": 58,
   "metadata": {
    "colab": {
     "base_uri": "https://localhost:8080/"
    },
    "colab_type": "code",
    "executionInfo": {
     "elapsed": 70100,
     "status": "ok",
     "timestamp": 1585785260462,
     "user": {
      "displayName": "Marcelo Nunes Alves",
      "photoUrl": "https://lh3.googleusercontent.com/a-/AOh14Ggg7j8UpQCWjd1mjJepuWNjOO1BULs-g6UsERA1vQ=s64",
      "userId": "09811685755861607483"
     },
     "user_tz": 180
    },
    "id": "FQFkRQPny-L3",
    "outputId": "c226f412-9520-4081-c5a8-e8b322b2cfdd"
   },
   "outputs": [
    {
     "data": {
      "image/png": "[encoded data removed]",
      "text/plain": [
       "<Figure size 432x288 with 1 Axes>"
      ]
     },
     "metadata": {
      "needs_background": "light"
     },
     "output_type": "display_data"
    }
   ],
   "source": [
    "plt.scatter(result[result['label'] == 0].NivelConhecimentoAtual, result[result['label'] == 0].ValorPatrimonio, c = 'red', label = 'Cluster 1')\n",
    "plt.scatter(result[result['label'] == 1].NivelConhecimentoAtual, result[result['label'] == 1].ValorPatrimonio, c = 'blue', label = 'Cluster 2')\n",
    "plt.scatter(result[result['label'] == 2].NivelConhecimentoAtual, result[result['label'] == 2].ValorPatrimonio, c = 'green', label = 'Cluster 3')\n",
    "plt.scatter(result[result['label'] == 3].NivelConhecimentoAtual, result[result['label'] == 3].ValorPatrimonio, c = 'cyan', label = 'Cluster 4')\n",
    "plt.scatter(result[result['label'] == 4].NivelConhecimentoAtual, result[result['label'] == 4].ValorPatrimonio, c = 'magenta', label = 'Cluster 5')\n",
    "plt.xlabel('Nivel Conhecimento Atual')\n",
    "plt.ylabel('Soma Investido Total')\n",
    "plt.legend()\n",
    "plt.show()"
   ]
  },
  {
   "cell_type": "code",
   "execution_count": 59,
   "metadata": {
    "colab": {
     "base_uri": "https://localhost:8080/"
    },
    "colab_type": "code",
    "executionInfo": {
     "elapsed": 70822,
     "status": "ok",
     "timestamp": 1585785261196,
     "user": {
      "displayName": "Marcelo Nunes Alves",
      "photoUrl": "https://lh3.googleusercontent.com/a-/AOh14Ggg7j8UpQCWjd1mjJepuWNjOO1BULs-g6UsERA1vQ=s64",
      "userId": "09811685755861607483"
     },
     "user_tz": 180
    },
    "id": "nDn8tBVby-MA",
    "outputId": "63fb9958-65f9-45ee-f04b-032ef37b1989"
   },
   "outputs": [
    {
     "data": {
      "image/png": "[encoded data removed]",
      "text/plain": [
       "<Figure size 432x288 with 1 Axes>"
      ]
     },
     "metadata": {
      "needs_background": "light"
     },
     "output_type": "display_data"
    }
   ],
   "source": [
    "plt.scatter(result[result['label'] == 0].ScoreObjetivos, result[result['label'] == 0].ValorPatrimonio, c = 'red', label = 'Cluster 1')\n",
    "plt.scatter(result[result['label'] == 1].ScoreObjetivos, result[result['label'] == 1].ValorPatrimonio, c = 'blue', label = 'Cluster 2')\n",
    "plt.scatter(result[result['label'] == 2].ScoreObjetivos, result[result['label'] == 2].ValorPatrimonio, c = 'green', label = 'Cluster 3')\n",
    "plt.scatter(result[result['label'] == 3].ScoreObjetivos, result[result['label'] == 3].ValorPatrimonio, c = 'cyan', label = 'Cluster 4')\n",
    "plt.scatter(result[result['label'] == 4].ScoreObjetivos, result[result['label'] == 4].ValorPatrimonio, c = 'magenta', label = 'Cluster 5')\n",
    "plt.xlabel('Score de objetivo')\n",
    "plt.ylabel('Soma Investido Total')\n",
    "plt.legend()\n",
    "plt.show()"
   ]
  },
  {
   "cell_type": "code",
   "execution_count": null,
   "metadata": {
    "colab": {
     "base_uri": "https://localhost:8080/"
    },
    "colab_type": "code",
    "executionInfo": {
     "elapsed": 72735,
     "status": "ok",
     "timestamp": 1585785263122,
     "user": {
      "displayName": "Marcelo Nunes Alves",
      "photoUrl": "https://lh3.googleusercontent.com/a-/AOh14Ggg7j8UpQCWjd1mjJepuWNjOO1BULs-g6UsERA1vQ=s64",
      "userId": "09811685755861607483"
     },
     "user_tz": 180
    },
    "id": "egT8DKo2y-MD",
    "outputId": "b4a29b14-671b-46b6-8815-8d97c00e2528"
   },
   "outputs": [],
   "source": [
    "plt.scatter(result[result['label'] == 0].Idade, result[result['label'] == 0].TipoCarteira__c, c = 'red', label = 'Cluster 1')\n",
    "plt.scatter(result[result['label'] == 1].Idade, result[result['label'] == 1].TipoCarteira__c, c = 'blue', label = 'Cluster 2')\n",
    "plt.scatter(result[result['label'] == 2].Idade, result[result['label'] == 2].TipoCarteira__c, c = 'green', label = 'Cluster 3')\n",
    "plt.scatter(result[result['label'] == 3].Idade, result[result['label'] == 3].TipoCarteira__c, c = 'cyan', label = 'Cluster 4')\n",
    "plt.scatter(result[result['label'] == 4].Idade, result[result['label'] == 4].TipoCarteira__c, c = 'magenta', label = 'Cluster 5')\n",
    "plt.xlabel('Idade')\n",
    "plt.ylabel('Tipo de carteira')\n",
    "plt.legend()\n",
    "plt.show()"
   ]
  },
  {
   "cell_type": "markdown",
   "metadata": {
    "colab_type": "text",
    "id": "VVCXANyKy-MK"
   },
   "source": [
    "#### Predicao para clientes sem investimentos"
   ]
  },
  {
   "cell_type": "code",
   "execution_count": null,
   "metadata": {
    "colab": {},
    "colab_type": "code",
    "id": "39REObWcy-MM"
   },
   "outputs": [],
   "source": [
    "cli_test = limpezaParaTreino(clientes_sem_investimento, ['Id', 'BillingCity', 'Soma_Investido_Total', 'ValorPatrimonio', 'RendaMensal', 'Soma_Investido_Total_Scaler'])\n",
    "\n",
    "for coluna in cli_train.columns:\n",
    "  if coluna.startswith('TipoCarteira__c'):\n",
    "    cli_test[coluna] = 0"
   ]
  },
  {
   "cell_type": "code",
   "execution_count": null,
   "metadata": {
    "colab": {},
    "colab_type": "code",
    "id": "wiRZ9mFmy-MR"
   },
   "outputs": [],
   "source": [
    "labelsTest = Kmean.predict(cli_test)\n",
    "\n",
    "dfL = pd.DataFrame({'label': labelsTest},\n",
    "                    index=clientes_sem_investimento.index)\n",
    "result = pd.concat([clientes_sem_investimento, dfL], axis=1, join='inner')"
   ]
  },
  {
   "cell_type": "code",
   "execution_count": null,
   "metadata": {
    "colab": {
     "base_uri": "https://localhost:8080/"
    },
    "colab_type": "code",
    "executionInfo": {
     "elapsed": 72684,
     "status": "ok",
     "timestamp": 1585785263124,
     "user": {
      "displayName": "Marcelo Nunes Alves",
      "photoUrl": "https://lh3.googleusercontent.com/a-/AOh14Ggg7j8UpQCWjd1mjJepuWNjOO1BULs-g6UsERA1vQ=s64",
      "userId": "09811685755861607483"
     },
     "user_tz": 180
    },
    "id": "VPfej2A3y-MX",
    "outputId": "e6475542-4fe0-4f98-c80b-e6ba44b8f2bf"
   },
   "outputs": [],
   "source": [
    "result.groupby(['label'])['Idade'].count()"
   ]
  },
  {
   "cell_type": "code",
   "execution_count": null,
   "metadata": {
    "colab": {
     "base_uri": "https://localhost:8080/"
    },
    "colab_type": "code",
    "executionInfo": {
     "elapsed": 72667,
     "status": "ok",
     "timestamp": 1585785263124,
     "user": {
      "displayName": "Marcelo Nunes Alves",
      "photoUrl": "https://lh3.googleusercontent.com/a-/AOh14Ggg7j8UpQCWjd1mjJepuWNjOO1BULs-g6UsERA1vQ=s64",
      "userId": "09811685755861607483"
     },
     "user_tz": 180
    },
    "id": "d12PnAyvy-Md",
    "outputId": "add348e4-3469-4d65-e1c0-be86d4497bf3"
   },
   "outputs": [],
   "source": [
    "plt.scatter(result[result['label'] == 0].Idade, result[result['label'] == 0].ScoreRisco, c = 'red', label = 'Cluster 1')\n",
    "plt.scatter(result[result['label'] == 1].Idade, result[result['label'] == 1].ScoreRisco, c = 'blue', label = 'Cluster 2')\n",
    "plt.scatter(result[result['label'] == 2].Idade, result[result['label'] == 2].ScoreRisco, c = 'green', label = 'Cluster 3')\n",
    "plt.scatter(result[result['label'] == 3].Idade, result[result['label'] == 3].ScoreRisco, c = 'cyan', label = 'Cluster 4')\n",
    "plt.scatter(result[result['label'] == 4].Idade, result[result['label'] == 4].ScoreRisco, c = 'magenta', label = 'Cluster 5')\n",
    "plt.xlabel('Idade')\n",
    "plt.ylabel('Score de risco')\n",
    "plt.legend()\n",
    "plt.show()"
   ]
  },
  {
   "cell_type": "code",
   "execution_count": null,
   "metadata": {
    "colab": {
     "base_uri": "https://localhost:8080/"
    },
    "colab_type": "code",
    "executionInfo": {
     "elapsed": 73183,
     "status": "ok",
     "timestamp": 1585785263658,
     "user": {
      "displayName": "Marcelo Nunes Alves",
      "photoUrl": "https://lh3.googleusercontent.com/a-/AOh14Ggg7j8UpQCWjd1mjJepuWNjOO1BULs-g6UsERA1vQ=s64",
      "userId": "09811685755861607483"
     },
     "user_tz": 180
    },
    "id": "fD_Q01BEy-Mm",
    "outputId": "6cb0c36b-e8c0-45e6-cadd-b4ad6b1b0e81"
   },
   "outputs": [],
   "source": [
    "plt.scatter(result[result['label'] == 0].Idade, result[result['label'] == 0].ValorPatrimonio_Scaler, c = 'red', label = 'Cluster 1')\n",
    "plt.scatter(result[result['label'] == 1].Idade, result[result['label'] == 1].ValorPatrimonio_Scaler, c = 'blue', label = 'Cluster 2')\n",
    "plt.scatter(result[result['label'] == 2].Idade, result[result['label'] == 2].ValorPatrimonio_Scaler, c = 'green', label = 'Cluster 3')\n",
    "plt.scatter(result[result['label'] == 3].Idade, result[result['label'] == 3].ValorPatrimonio_Scaler, c = 'cyan', label = 'Cluster 4')\n",
    "plt.scatter(result[result['label'] == 4].Idade, result[result['label'] == 4].ValorPatrimonio_Scaler, c = 'magenta', label = 'Cluster 5')\n",
    "plt.xlabel('Idade')\n",
    "plt.ylabel('Valor do Patrimonio')\n",
    "plt.legend()\n",
    "plt.show()"
   ]
  },
  {
   "cell_type": "code",
   "execution_count": null,
   "metadata": {
    "colab": {
     "base_uri": "https://localhost:8080/"
    },
    "colab_type": "code",
    "executionInfo": {
     "elapsed": 73894,
     "status": "ok",
     "timestamp": 1585785264390,
     "user": {
      "displayName": "Marcelo Nunes Alves",
      "photoUrl": "https://lh3.googleusercontent.com/a-/AOh14Ggg7j8UpQCWjd1mjJepuWNjOO1BULs-g6UsERA1vQ=s64",
      "userId": "09811685755861607483"
     },
     "user_tz": 180
    },
    "id": "zQfI5WPwy-Ms",
    "outputId": "c607512d-6492-4544-de80-e54f8ad7bf0b"
   },
   "outputs": [],
   "source": [
    "plt.scatter(result[result['label'] == 0].RendaMensal, result[result['label'] == 0].ValorPatrimonio, c = 'red', label = 'Cluster 1')\n",
    "plt.scatter(result[result['label'] == 1].RendaMensal, result[result['label'] == 1].ValorPatrimonio, c = 'blue', label = 'Cluster 2')\n",
    "plt.scatter(result[result['label'] == 2].RendaMensal, result[result['label'] == 2].ValorPatrimonio, c = 'green', label = 'Cluster 3')\n",
    "plt.scatter(result[result['label'] == 3].RendaMensal, result[result['label'] == 3].ValorPatrimonio, c = 'cyan', label = 'Cluster 4')\n",
    "plt.scatter(result[result['label'] == 4].RendaMensal, result[result['label'] == 4].ValorPatrimonio, c = 'magenta', label = 'Cluster 5')\n",
    "plt.xlabel('Renda mensal')\n",
    "plt.ylabel('Valor do patrimonio')\n",
    "plt.legend()\n",
    "plt.show()"
   ]
  },
  {
   "cell_type": "code",
   "execution_count": null,
   "metadata": {
    "colab": {
     "base_uri": "https://localhost:8080/"
    },
    "colab_type": "code",
    "executionInfo": {
     "elapsed": 73878,
     "status": "ok",
     "timestamp": 1585785264391,
     "user": {
      "displayName": "Marcelo Nunes Alves",
      "photoUrl": "https://lh3.googleusercontent.com/a-/AOh14Ggg7j8UpQCWjd1mjJepuWNjOO1BULs-g6UsERA1vQ=s64",
      "userId": "09811685755861607483"
     },
     "user_tz": 180
    },
    "id": "PVNnIKecy-My",
    "outputId": "f31ba8fd-1e6f-4830-8aaa-bc2c76d864a6"
   },
   "outputs": [],
   "source": [
    "plt.scatter(result[result['label'] == 0].EstadoCivil, result[result['label'] == 0].ValorPatrimonio, c = 'red', label = 'Cluster 1')\n",
    "plt.scatter(result[result['label'] == 1].EstadoCivil, result[result['label'] == 1].ValorPatrimonio, c = 'blue', label = 'Cluster 2')\n",
    "plt.scatter(result[result['label'] == 2].EstadoCivil, result[result['label'] == 2].ValorPatrimonio, c = 'green', label = 'Cluster 3')\n",
    "plt.scatter(result[result['label'] == 3].EstadoCivil, result[result['label'] == 3].ValorPatrimonio, c = 'cyan', label = 'Cluster 4')\n",
    "plt.scatter(result[result['label'] == 4].EstadoCivil, result[result['label'] == 4].ValorPatrimonio, c = 'magenta', label = 'Cluster 5')\n",
    "plt.xlabel('Estado civil')\n",
    "plt.ylabel('Valor Patrimonio')\n",
    "plt.legend()\n",
    "plt.show()"
   ]
  },
  {
   "cell_type": "code",
   "execution_count": null,
   "metadata": {
    "colab": {
     "base_uri": "https://localhost:8080/"
    },
    "colab_type": "code",
    "executionInfo": {
     "elapsed": 74671,
     "status": "ok",
     "timestamp": 1585785265203,
     "user": {
      "displayName": "Marcelo Nunes Alves",
      "photoUrl": "https://lh3.googleusercontent.com/a-/AOh14Ggg7j8UpQCWjd1mjJepuWNjOO1BULs-g6UsERA1vQ=s64",
      "userId": "09811685755861607483"
     },
     "user_tz": 180
    },
    "id": "KbuEMvQfy-M5",
    "outputId": "7bcdcd23-099a-4eba-80b3-f73a1c183d6d"
   },
   "outputs": [],
   "source": [
    "plt.scatter(result[result['label'] == 0].NivelConhecimentoAtual, result[result['label'] == 0].ValorPatrimonio, c = 'red', label = 'Cluster 1')\n",
    "plt.scatter(result[result['label'] == 1].NivelConhecimentoAtual, result[result['label'] == 1].ValorPatrimonio, c = 'blue', label = 'Cluster 2')\n",
    "plt.scatter(result[result['label'] == 2].NivelConhecimentoAtual, result[result['label'] == 2].ValorPatrimonio, c = 'green', label = 'Cluster 3')\n",
    "plt.scatter(result[result['label'] == 3].NivelConhecimentoAtual, result[result['label'] == 3].ValorPatrimonio, c = 'cyan', label = 'Cluster 4')\n",
    "plt.scatter(result[result['label'] == 4].NivelConhecimentoAtual, result[result['label'] == 4].ValorPatrimonio, c = 'magenta', label = 'Cluster 5')\n",
    "plt.xlabel('Nivel Conhecimento Atual')\n",
    "plt.ylabel('Soma Investido Total')\n",
    "plt.legend()\n",
    "plt.show()"
   ]
  },
  {
   "cell_type": "code",
   "execution_count": null,
   "metadata": {
    "colab": {
     "base_uri": "https://localhost:8080/"
    },
    "colab_type": "code",
    "executionInfo": {
     "elapsed": 74655,
     "status": "ok",
     "timestamp": 1585785265204,
     "user": {
      "displayName": "Marcelo Nunes Alves",
      "photoUrl": "https://lh3.googleusercontent.com/a-/AOh14Ggg7j8UpQCWjd1mjJepuWNjOO1BULs-g6UsERA1vQ=s64",
      "userId": "09811685755861607483"
     },
     "user_tz": 180
    },
    "id": "bgiNgJLQy-NC",
    "outputId": "94406263-d949-437c-b19d-7eaf7aed9cde"
   },
   "outputs": [],
   "source": [
    "plt.scatter(result[result['label'] == 0].ScoreObjetivos, result[result['label'] == 0].ValorPatrimonio, c = 'red', label = 'Cluster 1')\n",
    "plt.scatter(result[result['label'] == 1].ScoreObjetivos, result[result['label'] == 1].ValorPatrimonio, c = 'blue', label = 'Cluster 2')\n",
    "plt.scatter(result[result['label'] == 2].ScoreObjetivos, result[result['label'] == 2].ValorPatrimonio, c = 'green', label = 'Cluster 3')\n",
    "plt.scatter(result[result['label'] == 3].ScoreObjetivos, result[result['label'] == 3].ValorPatrimonio, c = 'cyan', label = 'Cluster 4')\n",
    "plt.scatter(result[result['label'] == 4].ScoreObjetivos, result[result['label'] == 4].ValorPatrimonio, c = 'magenta', label = 'Cluster 5')\n",
    "plt.xlabel('Score de objetivo')\n",
    "plt.ylabel('Soma Investido Total')\n",
    "plt.legend()\n",
    "plt.show()"
   ]
  },
  {
   "cell_type": "markdown",
   "metadata": {
    "colab_type": "text",
    "id": "bEiH7OYxJPUT"
   },
   "source": [
    "### Analise com 7 cluster"
   ]
  },
  {
   "cell_type": "code",
   "execution_count": null,
   "metadata": {
    "colab": {
     "base_uri": "https://localhost:8080/",
     "height": 68
    },
    "colab_type": "code",
    "executionInfo": {
     "elapsed": 76778,
     "status": "ok",
     "timestamp": 1585785267345,
     "user": {
      "displayName": "Marcelo Nunes Alves",
      "photoUrl": "https://lh3.googleusercontent.com/a-/AOh14Ggg7j8UpQCWjd1mjJepuWNjOO1BULs-g6UsERA1vQ=s64",
      "userId": "09811685755861607483"
     },
     "user_tz": 180
    },
    "id": "uLdxUnePJPUU",
    "outputId": "2371d2a1-6117-4502-f603-78ce8a08c052"
   },
   "outputs": [],
   "source": [
    "Kmean = KMeans(n_clusters=7)\n",
    "Kmean.fit(cli_train)"
   ]
  },
  {
   "cell_type": "markdown",
   "metadata": {
    "colab_type": "text",
    "id": "aN_rLdhJVgUo"
   },
   "source": [
    "#### dados de treino - clientes com investimentos"
   ]
  },
  {
   "cell_type": "code",
   "execution_count": null,
   "metadata": {
    "colab": {},
    "colab_type": "code",
    "id": "kH_Nik6OVgUu"
   },
   "outputs": [],
   "source": [
    "dfL = pd.DataFrame({'label': Kmean.labels_}, index=clientes_com_investimento.index)\n",
    "result = pd.concat([clientes_com_investimento, dfL], axis=1, join='inner')"
   ]
  },
  {
   "cell_type": "code",
   "execution_count": null,
   "metadata": {
    "colab": {
     "base_uri": "https://localhost:8080/"
    },
    "colab_type": "code",
    "executionInfo": {
     "elapsed": 76753,
     "status": "ok",
     "timestamp": 1585785267346,
     "user": {
      "displayName": "Marcelo Nunes Alves",
      "photoUrl": "https://lh3.googleusercontent.com/a-/AOh14Ggg7j8UpQCWjd1mjJepuWNjOO1BULs-g6UsERA1vQ=s64",
      "userId": "09811685755861607483"
     },
     "user_tz": 180
    },
    "id": "WQFiyicNVgUx",
    "outputId": "70d5c69e-8e1e-4169-c25b-43db01fa9520"
   },
   "outputs": [],
   "source": [
    "result.groupby(['label'])['Idade'].count()"
   ]
  },
  {
   "cell_type": "code",
   "execution_count": null,
   "metadata": {
    "colab": {
     "base_uri": "https://localhost:8080/"
    },
    "colab_type": "code",
    "executionInfo": {
     "elapsed": 78425,
     "status": "ok",
     "timestamp": 1585785269027,
     "user": {
      "displayName": "Marcelo Nunes Alves",
      "photoUrl": "https://lh3.googleusercontent.com/a-/AOh14Ggg7j8UpQCWjd1mjJepuWNjOO1BULs-g6UsERA1vQ=s64",
      "userId": "09811685755861607483"
     },
     "user_tz": 180
    },
    "id": "4L6J0A-SVgUz",
    "outputId": "f1c29e5d-2b8b-4b5e-d648-cd60ac788965"
   },
   "outputs": [],
   "source": [
    "plt.scatter(result[result['label'] == 0].Idade, result[result['label'] == 0].ScoreRisco, c = 'red', label = 'Cluster 1')\n",
    "plt.scatter(result[result['label'] == 1].Idade, result[result['label'] == 1].ScoreRisco, c = 'blue', label = 'Cluster 2')\n",
    "plt.scatter(result[result['label'] == 2].Idade, result[result['label'] == 2].ScoreRisco, c = 'green', label = 'Cluster 3')\n",
    "plt.scatter(result[result['label'] == 3].Idade, result[result['label'] == 3].ScoreRisco, c = 'cyan', label = 'Cluster 4')\n",
    "plt.scatter(result[result['label'] == 4].Idade, result[result['label'] == 4].ScoreRisco, c = 'magenta', label = 'Cluster 5')\n",
    "plt.scatter(result[result['label'] == 5].Idade, result[result['label'] == 5].ScoreRisco, c = 'yellow', label = 'Cluster 6')\n",
    "plt.scatter(result[result['label'] == 6].Idade, result[result['label'] == 6].ScoreRisco, c = 'black', label = 'Cluster 7')\n",
    "\n",
    "plt.xlabel('Idade')\n",
    "plt.ylabel('Score de risco')\n",
    "plt.legend()\n",
    "plt.show()"
   ]
  },
  {
   "cell_type": "code",
   "execution_count": null,
   "metadata": {
    "colab": {
     "base_uri": "https://localhost:8080/"
    },
    "colab_type": "code",
    "executionInfo": {
     "elapsed": 78868,
     "status": "ok",
     "timestamp": 1585785269482,
     "user": {
      "displayName": "Marcelo Nunes Alves",
      "photoUrl": "https://lh3.googleusercontent.com/a-/AOh14Ggg7j8UpQCWjd1mjJepuWNjOO1BULs-g6UsERA1vQ=s64",
      "userId": "09811685755861607483"
     },
     "user_tz": 180
    },
    "id": "lyqiYF9RVgU2",
    "outputId": "0184a557-26fa-4f9d-c9aa-730f9cb47aec"
   },
   "outputs": [],
   "source": [
    "plt.scatter(result[result['label'] == 0].Idade, result[result['label'] == 0].ValorPatrimonio, c = 'red', label = 'Cluster 1')\n",
    "plt.scatter(result[result['label'] == 1].Idade, result[result['label'] == 1].ValorPatrimonio, c = 'blue', label = 'Cluster 2')\n",
    "plt.scatter(result[result['label'] == 2].Idade, result[result['label'] == 2].ValorPatrimonio, c = 'green', label = 'Cluster 3')\n",
    "plt.scatter(result[result['label'] == 3].Idade, result[result['label'] == 3].ValorPatrimonio, c = 'cyan', label = 'Cluster 4')\n",
    "plt.scatter(result[result['label'] == 4].Idade, result[result['label'] == 4].ValorPatrimonio, c = 'magenta', label = 'Cluster 5')\n",
    "plt.scatter(result[result['label'] == 5].Idade, result[result['label'] == 5].ValorPatrimonio, c = 'yellow', label = 'Cluster 6')\n",
    "plt.scatter(result[result['label'] == 6].Idade, result[result['label'] == 6].ValorPatrimonio, c = 'black', label = 'Cluster 7')\n",
    "plt.xlabel('Idade')\n",
    "plt.ylabel('Soma_Investido_Total')\n",
    "plt.legend()\n",
    "plt.show()"
   ]
  },
  {
   "cell_type": "code",
   "execution_count": null,
   "metadata": {
    "colab": {
     "base_uri": "https://localhost:8080/"
    },
    "colab_type": "code",
    "executionInfo": {
     "elapsed": 79742,
     "status": "ok",
     "timestamp": 1585785270377,
     "user": {
      "displayName": "Marcelo Nunes Alves",
      "photoUrl": "https://lh3.googleusercontent.com/a-/AOh14Ggg7j8UpQCWjd1mjJepuWNjOO1BULs-g6UsERA1vQ=s64",
      "userId": "09811685755861607483"
     },
     "user_tz": 180
    },
    "id": "9kCQnrd_VgU5",
    "outputId": "d9436e0b-22a9-4457-d8c5-2954461508ec"
   },
   "outputs": [],
   "source": [
    "plt.scatter(result[result['label'] == 0].Idade, result[result['label'] == 0].ValorPatrimonio_Scaler, c = 'red', label = 'Cluster 1')\n",
    "plt.scatter(result[result['label'] == 1].Idade, result[result['label'] == 1].ValorPatrimonio_Scaler, c = 'blue', label = 'Cluster 2')\n",
    "plt.scatter(result[result['label'] == 2].Idade, result[result['label'] == 2].ValorPatrimonio_Scaler, c = 'green', label = 'Cluster 3')\n",
    "plt.scatter(result[result['label'] == 3].Idade, result[result['label'] == 3].ValorPatrimonio_Scaler, c = 'cyan', label = 'Cluster 4')\n",
    "plt.scatter(result[result['label'] == 4].Idade, result[result['label'] == 4].ValorPatrimonio_Scaler, c = 'magenta', label = 'Cluster 5')\n",
    "plt.scatter(result[result['label'] == 5].Idade, result[result['label'] == 5].ValorPatrimonio_Scaler, c = 'yellow', label = 'Cluster 6')\n",
    "plt.scatter(result[result['label'] == 6].Idade, result[result['label'] == 6].ValorPatrimonio_Scaler, c = 'black', label = 'Cluster 7')\n",
    "plt.xlabel('Idade')\n",
    "plt.ylabel('Valor do Patrimonio')\n",
    "plt.legend()\n",
    "plt.show()"
   ]
  },
  {
   "cell_type": "code",
   "execution_count": null,
   "metadata": {
    "colab": {
     "base_uri": "https://localhost:8080/"
    },
    "colab_type": "code",
    "executionInfo": {
     "elapsed": 80248,
     "status": "ok",
     "timestamp": 1585785270899,
     "user": {
      "displayName": "Marcelo Nunes Alves",
      "photoUrl": "https://lh3.googleusercontent.com/a-/AOh14Ggg7j8UpQCWjd1mjJepuWNjOO1BULs-g6UsERA1vQ=s64",
      "userId": "09811685755861607483"
     },
     "user_tz": 180
    },
    "id": "38Pkj_7DVgU7",
    "outputId": "ba604f81-efe7-45be-c9a7-4a0916fa4545"
   },
   "outputs": [],
   "source": [
    "plt.scatter(result[result['label'] == 0].RendaMensal, result[result['label'] == 0].ValorPatrimonio, c = 'red', label = 'Cluster 1')\n",
    "plt.scatter(result[result['label'] == 1].RendaMensal, result[result['label'] == 1].ValorPatrimonio, c = 'blue', label = 'Cluster 2')\n",
    "plt.scatter(result[result['label'] == 2].RendaMensal, result[result['label'] == 2].ValorPatrimonio, c = 'green', label = 'Cluster 3')\n",
    "plt.scatter(result[result['label'] == 3].RendaMensal, result[result['label'] == 3].ValorPatrimonio, c = 'cyan', label = 'Cluster 4')\n",
    "plt.scatter(result[result['label'] == 4].RendaMensal, result[result['label'] == 4].ValorPatrimonio, c = 'magenta', label = 'Cluster 5')\n",
    "plt.scatter(result[result['label'] == 5].RendaMensal, result[result['label'] == 5].ValorPatrimonio, c = 'yellow', label = 'Cluster 6')\n",
    "plt.scatter(result[result['label'] == 6].RendaMensal, result[result['label'] == 6].ValorPatrimonio, c = 'black', label = 'Cluster 7')\n",
    "plt.xlabel('Renda mensal')\n",
    "plt.ylabel('Valor do patrimonio')\n",
    "plt.legend()\n",
    "plt.show()"
   ]
  },
  {
   "cell_type": "code",
   "execution_count": null,
   "metadata": {
    "colab": {
     "base_uri": "https://localhost:8080/"
    },
    "colab_type": "code",
    "executionInfo": {
     "elapsed": 81275,
     "status": "ok",
     "timestamp": 1585785271940,
     "user": {
      "displayName": "Marcelo Nunes Alves",
      "photoUrl": "https://lh3.googleusercontent.com/a-/AOh14Ggg7j8UpQCWjd1mjJepuWNjOO1BULs-g6UsERA1vQ=s64",
      "userId": "09811685755861607483"
     },
     "user_tz": 180
    },
    "id": "wqVtXipOVgU-",
    "outputId": "c40686fe-c72a-4a11-8f68-05a53962262a"
   },
   "outputs": [],
   "source": [
    "plt.scatter(result[result['label'] == 0].EstadoCivil, result[result['label'] == 0].ValorPatrimonio, c = 'red', label = 'Cluster 1')\n",
    "plt.scatter(result[result['label'] == 1].EstadoCivil, result[result['label'] == 1].ValorPatrimonio, c = 'blue', label = 'Cluster 2')\n",
    "plt.scatter(result[result['label'] == 2].EstadoCivil, result[result['label'] == 2].ValorPatrimonio, c = 'green', label = 'Cluster 3')\n",
    "plt.scatter(result[result['label'] == 3].EstadoCivil, result[result['label'] == 3].ValorPatrimonio, c = 'cyan', label = 'Cluster 4')\n",
    "plt.scatter(result[result['label'] == 4].EstadoCivil, result[result['label'] == 4].ValorPatrimonio, c = 'magenta', label = 'Cluster 5')\n",
    "plt.scatter(result[result['label'] == 5].EstadoCivil, result[result['label'] == 5].ValorPatrimonio, c = 'yellow', label = 'Cluster 6')\n",
    "plt.scatter(result[result['label'] == 6].EstadoCivil, result[result['label'] == 6].ValorPatrimonio, c = 'black', label = 'Cluster 7')\n",
    "plt.xlabel('Estado civil')\n",
    "plt.ylabel('Valor do patrimonio')\n",
    "plt.legend()\n",
    "plt.show()"
   ]
  },
  {
   "cell_type": "code",
   "execution_count": null,
   "metadata": {
    "colab": {
     "base_uri": "https://localhost:8080/"
    },
    "colab_type": "code",
    "executionInfo": {
     "elapsed": 81963,
     "status": "ok",
     "timestamp": 1585785272642,
     "user": {
      "displayName": "Marcelo Nunes Alves",
      "photoUrl": "https://lh3.googleusercontent.com/a-/AOh14Ggg7j8UpQCWjd1mjJepuWNjOO1BULs-g6UsERA1vQ=s64",
      "userId": "09811685755861607483"
     },
     "user_tz": 180
    },
    "id": "OxyHpUVPVgVA",
    "outputId": "ac7b46d0-e172-45d4-b435-502c3ba575ff"
   },
   "outputs": [],
   "source": [
    "plt.scatter(result[result['label'] == 0].NivelConhecimentoAtual, result[result['label'] == 0].ValorPatrimonio, c = 'red', label = 'Cluster 1')\n",
    "plt.scatter(result[result['label'] == 1].NivelConhecimentoAtual, result[result['label'] == 1].ValorPatrimonio, c = 'blue', label = 'Cluster 2')\n",
    "plt.scatter(result[result['label'] == 2].NivelConhecimentoAtual, result[result['label'] == 2].ValorPatrimonio, c = 'green', label = 'Cluster 3')\n",
    "plt.scatter(result[result['label'] == 3].NivelConhecimentoAtual, result[result['label'] == 3].ValorPatrimonio, c = 'cyan', label = 'Cluster 4')\n",
    "plt.scatter(result[result['label'] == 4].NivelConhecimentoAtual, result[result['label'] == 4].ValorPatrimonio, c = 'magenta', label = 'Cluster 5')\n",
    "plt.scatter(result[result['label'] == 5].NivelConhecimentoAtual, result[result['label'] == 5].ValorPatrimonio, c = 'yellow', label = 'Cluster 6')\n",
    "plt.scatter(result[result['label'] == 6].NivelConhecimentoAtual, result[result['label'] == 6].ValorPatrimonio, c = 'black', label = 'Cluster 7')\n",
    "plt.xlabel('Nivel Conhecimento Atual')\n",
    "plt.ylabel('Valor do patrimonio')\n",
    "plt.legend()\n",
    "plt.show()"
   ]
  },
  {
   "cell_type": "code",
   "execution_count": null,
   "metadata": {
    "colab": {
     "base_uri": "https://localhost:8080/"
    },
    "colab_type": "code",
    "executionInfo": {
     "elapsed": 82626,
     "status": "ok",
     "timestamp": 1585785273320,
     "user": {
      "displayName": "Marcelo Nunes Alves",
      "photoUrl": "https://lh3.googleusercontent.com/a-/AOh14Ggg7j8UpQCWjd1mjJepuWNjOO1BULs-g6UsERA1vQ=s64",
      "userId": "09811685755861607483"
     },
     "user_tz": 180
    },
    "id": "tBa47CDbVgVE",
    "outputId": "0e4c4096-e03b-4c83-c4d7-3a2d098eb3a1"
   },
   "outputs": [],
   "source": [
    "plt.scatter(result[result['label'] == 0].ScoreObjetivos, result[result['label'] == 0].ValorPatrimonio, c = 'red', label = 'Cluster 1')\n",
    "plt.scatter(result[result['label'] == 1].ScoreObjetivos, result[result['label'] == 1].ValorPatrimonio, c = 'blue', label = 'Cluster 2')\n",
    "plt.scatter(result[result['label'] == 2].ScoreObjetivos, result[result['label'] == 2].ValorPatrimonio, c = 'green', label = 'Cluster 3')\n",
    "plt.scatter(result[result['label'] == 3].ScoreObjetivos, result[result['label'] == 3].ValorPatrimonio, c = 'cyan', label = 'Cluster 4')\n",
    "plt.scatter(result[result['label'] == 4].ScoreObjetivos, result[result['label'] == 4].ValorPatrimonio, c = 'magenta', label = 'Cluster 5')\n",
    "plt.scatter(result[result['label'] == 5].ScoreObjetivos, result[result['label'] == 5].ValorPatrimonio, c = 'yellow', label = 'Cluster 6')\n",
    "plt.scatter(result[result['label'] == 6].ScoreObjetivos, result[result['label'] == 6].ValorPatrimonio, c = 'black', label = 'Cluster 7')\n",
    "plt.xlabel('Score de objetivo')\n",
    "plt.ylabel('Valor do patrimonio')\n",
    "plt.legend()\n",
    "plt.show()"
   ]
  },
  {
   "cell_type": "code",
   "execution_count": null,
   "metadata": {
    "colab": {
     "base_uri": "https://localhost:8080/"
    },
    "colab_type": "code",
    "executionInfo": {
     "elapsed": 84524,
     "status": "ok",
     "timestamp": 1585785275235,
     "user": {
      "displayName": "Marcelo Nunes Alves",
      "photoUrl": "https://lh3.googleusercontent.com/a-/AOh14Ggg7j8UpQCWjd1mjJepuWNjOO1BULs-g6UsERA1vQ=s64",
      "userId": "09811685755861607483"
     },
     "user_tz": 180
    },
    "id": "DmjuqBQQ2twR",
    "outputId": "441726d8-01f2-49bd-cd41-8ea6dfd1dcc0"
   },
   "outputs": [],
   "source": [
    "plt.scatter(result[result['label'] == 0].Idade, result[result['label'] == 0].TipoCarteira__c, c = 'red', label = 'Cluster 1')\n",
    "plt.scatter(result[result['label'] == 1].Idade, result[result['label'] == 1].TipoCarteira__c, c = 'blue', label = 'Cluster 2')\n",
    "plt.scatter(result[result['label'] == 2].Idade, result[result['label'] == 2].TipoCarteira__c, c = 'green', label = 'Cluster 3')\n",
    "plt.scatter(result[result['label'] == 3].Idade, result[result['label'] == 3].TipoCarteira__c, c = 'cyan', label = 'Cluster 4')\n",
    "plt.scatter(result[result['label'] == 4].Idade, result[result['label'] == 4].TipoCarteira__c, c = 'magenta', label = 'Cluster 5')\n",
    "plt.scatter(result[result['label'] == 5].Idade, result[result['label'] == 5].TipoCarteira__c, c = 'yellow', label = 'Cluster 6')\n",
    "plt.scatter(result[result['label'] == 6].Idade, result[result['label'] == 6].TipoCarteira__c, c = 'black', label = 'Cluster 7')\n",
    "plt.xlabel('Idade')\n",
    "plt.ylabel('Tipo de carteira')\n",
    "plt.legend()\n",
    "plt.show()"
   ]
  },
  {
   "cell_type": "markdown",
   "metadata": {
    "colab_type": "text",
    "id": "-mlJeus0VcYA"
   },
   "source": [
    "#### Predicao - clientes sem investimentos"
   ]
  },
  {
   "cell_type": "code",
   "execution_count": null,
   "metadata": {
    "colab": {},
    "colab_type": "code",
    "id": "rAhGuMETMpey"
   },
   "outputs": [],
   "source": [
    "cli_test = limpezaParaTreino(clientes_sem_investimento, ['Id', 'BillingCity', 'Soma_Investido_Total', 'ValorPatrimonio', 'RendaMensal', 'Soma_Investido_Total_Scaler'])\n",
    "\n",
    "for coluna in cli_train.columns:\n",
    "  if coluna.startswith('TipoCarteira__c'):\n",
    "    cli_test[coluna] = 0"
   ]
  },
  {
   "cell_type": "code",
   "execution_count": null,
   "metadata": {
    "colab": {},
    "colab_type": "code",
    "id": "4wrFkApQJPUX"
   },
   "outputs": [],
   "source": [
    "labelsTest = Kmean.predict(cli_test)\n",
    "\n",
    "dfL = pd.DataFrame({'label': labelsTest},\n",
    "                    index=clientes_sem_investimento.index)\n",
    "result = pd.concat([clientes_sem_investimento, dfL], axis=1, join='inner')"
   ]
  },
  {
   "cell_type": "code",
   "execution_count": null,
   "metadata": {
    "colab": {
     "base_uri": "https://localhost:8080/",
     "height": 170
    },
    "colab_type": "code",
    "executionInfo": {
     "elapsed": 1237,
     "status": "ok",
     "timestamp": 1585795377300,
     "user": {
      "displayName": "Marcelo Nunes Alves",
      "photoUrl": "https://lh3.googleusercontent.com/a-/AOh14Ggg7j8UpQCWjd1mjJepuWNjOO1BULs-g6UsERA1vQ=s64",
      "userId": "09811685755861607483"
     },
     "user_tz": 180
    },
    "id": "f_oW34ysJPUZ",
    "outputId": "54a3a6b5-9fbd-4f11-97f3-1b7c23d9d2f0"
   },
   "outputs": [],
   "source": [
    "result.groupby(['label'])['Idade'].count()"
   ]
  },
  {
   "cell_type": "code",
   "execution_count": null,
   "metadata": {
    "colab": {
     "base_uri": "https://localhost:8080/",
     "height": 285
    },
    "colab_type": "code",
    "executionInfo": {
     "elapsed": 84479,
     "status": "ok",
     "timestamp": 1585785275236,
     "user": {
      "displayName": "Marcelo Nunes Alves",
      "photoUrl": "https://lh3.googleusercontent.com/a-/AOh14Ggg7j8UpQCWjd1mjJepuWNjOO1BULs-g6UsERA1vQ=s64",
      "userId": "09811685755861607483"
     },
     "user_tz": 180
    },
    "id": "bWR3-raaJPUb",
    "outputId": "4e4da0f8-befd-4eeb-bd93-e0bea261fe3b"
   },
   "outputs": [],
   "source": [
    "plt.scatter(result[result['label'] == 0].Idade, result[result['label'] == 0].ScoreRisco, c = 'red', label = 'Cluster 1')\n",
    "plt.scatter(result[result['label'] == 1].Idade, result[result['label'] == 1].ScoreRisco, c = 'blue', label = 'Cluster 2')\n",
    "plt.scatter(result[result['label'] == 2].Idade, result[result['label'] == 2].ScoreRisco, c = 'green', label = 'Cluster 3')\n",
    "plt.scatter(result[result['label'] == 3].Idade, result[result['label'] == 3].ScoreRisco, c = 'cyan', label = 'Cluster 4')\n",
    "plt.scatter(result[result['label'] == 4].Idade, result[result['label'] == 4].ScoreRisco, c = 'magenta', label = 'Cluster 5')\n",
    "plt.scatter(result[result['label'] == 5].Idade, result[result['label'] == 5].ScoreRisco, c = 'yellow', label = 'Cluster 6')\n",
    "plt.scatter(result[result['label'] == 6].Idade, result[result['label'] == 6].ScoreRisco, c = 'black', label = 'Cluster 7')\n",
    "\n",
    "plt.xlabel('Idade')\n",
    "plt.ylabel('Score de risco')\n",
    "plt.legend()\n",
    "plt.show()"
   ]
  },
  {
   "cell_type": "code",
   "execution_count": null,
   "metadata": {
    "colab": {
     "base_uri": "https://localhost:8080/",
     "height": 296
    },
    "colab_type": "code",
    "executionInfo": {
     "elapsed": 84952,
     "status": "ok",
     "timestamp": 1585785275720,
     "user": {
      "displayName": "Marcelo Nunes Alves",
      "photoUrl": "https://lh3.googleusercontent.com/a-/AOh14Ggg7j8UpQCWjd1mjJepuWNjOO1BULs-g6UsERA1vQ=s64",
      "userId": "09811685755861607483"
     },
     "user_tz": 180
    },
    "id": "EXO-taT2JPUd",
    "outputId": "3e9041c3-5b3a-4d24-f635-5a65815bdca9"
   },
   "outputs": [],
   "source": [
    "plt.scatter(result[result['label'] == 0].Idade, result[result['label'] == 0].ValorPatrimonio, c = 'red', label = 'Cluster 1')\n",
    "plt.scatter(result[result['label'] == 1].Idade, result[result['label'] == 1].ValorPatrimonio, c = 'blue', label = 'Cluster 2')\n",
    "plt.scatter(result[result['label'] == 2].Idade, result[result['label'] == 2].ValorPatrimonio, c = 'green', label = 'Cluster 3')\n",
    "plt.scatter(result[result['label'] == 3].Idade, result[result['label'] == 3].ValorPatrimonio, c = 'cyan', label = 'Cluster 4')\n",
    "plt.scatter(result[result['label'] == 4].Idade, result[result['label'] == 4].ValorPatrimonio, c = 'magenta', label = 'Cluster 5')\n",
    "plt.scatter(result[result['label'] == 5].Idade, result[result['label'] == 5].ValorPatrimonio, c = 'yellow', label = 'Cluster 6')\n",
    "plt.scatter(result[result['label'] == 6].Idade, result[result['label'] == 6].ValorPatrimonio, c = 'black', label = 'Cluster 7')\n",
    "plt.xlabel('Idade')\n",
    "plt.ylabel('Soma_Investido_Total')\n",
    "plt.legend()\n",
    "plt.show()"
   ]
  },
  {
   "cell_type": "code",
   "execution_count": null,
   "metadata": {
    "colab": {
     "base_uri": "https://localhost:8080/",
     "height": 285
    },
    "colab_type": "code",
    "executionInfo": {
     "elapsed": 85375,
     "status": "ok",
     "timestamp": 1585785276155,
     "user": {
      "displayName": "Marcelo Nunes Alves",
      "photoUrl": "https://lh3.googleusercontent.com/a-/AOh14Ggg7j8UpQCWjd1mjJepuWNjOO1BULs-g6UsERA1vQ=s64",
      "userId": "09811685755861607483"
     },
     "user_tz": 180
    },
    "id": "IvERG1V_JPUg",
    "outputId": "7a667d4e-3a3f-4103-b432-4c14cbdcce23"
   },
   "outputs": [],
   "source": [
    "plt.scatter(result[result['label'] == 0].Idade, result[result['label'] == 0].ValorPatrimonio_Scaler, c = 'red', label = 'Cluster 1')\n",
    "plt.scatter(result[result['label'] == 1].Idade, result[result['label'] == 1].ValorPatrimonio_Scaler, c = 'blue', label = 'Cluster 2')\n",
    "plt.scatter(result[result['label'] == 2].Idade, result[result['label'] == 2].ValorPatrimonio_Scaler, c = 'green', label = 'Cluster 3')\n",
    "plt.scatter(result[result['label'] == 3].Idade, result[result['label'] == 3].ValorPatrimonio_Scaler, c = 'cyan', label = 'Cluster 4')\n",
    "plt.scatter(result[result['label'] == 4].Idade, result[result['label'] == 4].ValorPatrimonio_Scaler, c = 'magenta', label = 'Cluster 5')\n",
    "plt.scatter(result[result['label'] == 5].Idade, result[result['label'] == 5].ValorPatrimonio_Scaler, c = 'yellow', label = 'Cluster 6')\n",
    "plt.scatter(result[result['label'] == 6].Idade, result[result['label'] == 6].ValorPatrimonio_Scaler, c = 'black', label = 'Cluster 7')\n",
    "plt.xlabel('Idade')\n",
    "plt.ylabel('Valor do Patrimonio')\n",
    "plt.legend()\n",
    "plt.show()"
   ]
  },
  {
   "cell_type": "code",
   "execution_count": null,
   "metadata": {
    "colab": {
     "base_uri": "https://localhost:8080/",
     "height": 296
    },
    "colab_type": "code",
    "executionInfo": {
     "elapsed": 85943,
     "status": "ok",
     "timestamp": 1585785276734,
     "user": {
      "displayName": "Marcelo Nunes Alves",
      "photoUrl": "https://lh3.googleusercontent.com/a-/AOh14Ggg7j8UpQCWjd1mjJepuWNjOO1BULs-g6UsERA1vQ=s64",
      "userId": "09811685755861607483"
     },
     "user_tz": 180
    },
    "id": "imE-TZSGJPUj",
    "outputId": "f906c4b2-7aac-4275-a05c-bde742f6edeb"
   },
   "outputs": [],
   "source": [
    "plt.scatter(result[result['label'] == 0].RendaMensal, result[result['label'] == 0].ValorPatrimonio, c = 'red', label = 'Cluster 1')\n",
    "plt.scatter(result[result['label'] == 1].RendaMensal, result[result['label'] == 1].ValorPatrimonio, c = 'blue', label = 'Cluster 2')\n",
    "plt.scatter(result[result['label'] == 2].RendaMensal, result[result['label'] == 2].ValorPatrimonio, c = 'green', label = 'Cluster 3')\n",
    "plt.scatter(result[result['label'] == 3].RendaMensal, result[result['label'] == 3].ValorPatrimonio, c = 'cyan', label = 'Cluster 4')\n",
    "plt.scatter(result[result['label'] == 4].RendaMensal, result[result['label'] == 4].ValorPatrimonio, c = 'magenta', label = 'Cluster 5')\n",
    "plt.scatter(result[result['label'] == 5].RendaMensal, result[result['label'] == 5].ValorPatrimonio, c = 'yellow', label = 'Cluster 6')\n",
    "plt.scatter(result[result['label'] == 6].RendaMensal, result[result['label'] == 6].ValorPatrimonio, c = 'black', label = 'Cluster 7')\n",
    "plt.xlabel('Renda mensal')\n",
    "plt.ylabel('Valor do patrimonio')\n",
    "plt.legend()\n",
    "plt.show()"
   ]
  },
  {
   "cell_type": "code",
   "execution_count": null,
   "metadata": {
    "colab": {
     "base_uri": "https://localhost:8080/",
     "height": 296
    },
    "colab_type": "code",
    "executionInfo": {
     "elapsed": 85929,
     "status": "ok",
     "timestamp": 1585785276735,
     "user": {
      "displayName": "Marcelo Nunes Alves",
      "photoUrl": "https://lh3.googleusercontent.com/a-/AOh14Ggg7j8UpQCWjd1mjJepuWNjOO1BULs-g6UsERA1vQ=s64",
      "userId": "09811685755861607483"
     },
     "user_tz": 180
    },
    "id": "OBzl5IMuJPUn",
    "outputId": "27d0dabd-7370-4fab-f35d-83499e0ace22"
   },
   "outputs": [],
   "source": [
    "plt.scatter(result[result['label'] == 0].EstadoCivil, result[result['label'] == 0].ValorPatrimonio, c = 'red', label = 'Cluster 1')\n",
    "plt.scatter(result[result['label'] == 1].EstadoCivil, result[result['label'] == 1].ValorPatrimonio, c = 'blue', label = 'Cluster 2')\n",
    "plt.scatter(result[result['label'] == 2].EstadoCivil, result[result['label'] == 2].ValorPatrimonio, c = 'green', label = 'Cluster 3')\n",
    "plt.scatter(result[result['label'] == 3].EstadoCivil, result[result['label'] == 3].ValorPatrimonio, c = 'cyan', label = 'Cluster 4')\n",
    "plt.scatter(result[result['label'] == 4].EstadoCivil, result[result['label'] == 4].ValorPatrimonio, c = 'magenta', label = 'Cluster 5')\n",
    "plt.scatter(result[result['label'] == 5].EstadoCivil, result[result['label'] == 5].ValorPatrimonio, c = 'yellow', label = 'Cluster 6')\n",
    "plt.scatter(result[result['label'] == 6].EstadoCivil, result[result['label'] == 6].ValorPatrimonio, c = 'black', label = 'Cluster 7')\n",
    "plt.xlabel('Estado civil')\n",
    "plt.ylabel('Valor do patrimonio')\n",
    "plt.legend()\n",
    "plt.show()"
   ]
  },
  {
   "cell_type": "code",
   "execution_count": null,
   "metadata": {
    "colab": {
     "base_uri": "https://localhost:8080/",
     "height": 296
    },
    "colab_type": "code",
    "executionInfo": {
     "elapsed": 86464,
     "status": "ok",
     "timestamp": 1585785277284,
     "user": {
      "displayName": "Marcelo Nunes Alves",
      "photoUrl": "https://lh3.googleusercontent.com/a-/AOh14Ggg7j8UpQCWjd1mjJepuWNjOO1BULs-g6UsERA1vQ=s64",
      "userId": "09811685755861607483"
     },
     "user_tz": 180
    },
    "id": "Ckz4FLqHJPUp",
    "outputId": "3b18c438-28a6-4a93-b974-7b4700c7af9b"
   },
   "outputs": [],
   "source": [
    "plt.scatter(result[result['label'] == 0].NivelConhecimentoAtual, result[result['label'] == 0].ValorPatrimonio, c = 'red', label = 'Cluster 1')\n",
    "plt.scatter(result[result['label'] == 1].NivelConhecimentoAtual, result[result['label'] == 1].ValorPatrimonio, c = 'blue', label = 'Cluster 2')\n",
    "plt.scatter(result[result['label'] == 2].NivelConhecimentoAtual, result[result['label'] == 2].ValorPatrimonio, c = 'green', label = 'Cluster 3')\n",
    "plt.scatter(result[result['label'] == 3].NivelConhecimentoAtual, result[result['label'] == 3].ValorPatrimonio, c = 'cyan', label = 'Cluster 4')\n",
    "plt.scatter(result[result['label'] == 4].NivelConhecimentoAtual, result[result['label'] == 4].ValorPatrimonio, c = 'magenta', label = 'Cluster 5')\n",
    "plt.scatter(result[result['label'] == 5].NivelConhecimentoAtual, result[result['label'] == 5].ValorPatrimonio, c = 'yellow', label = 'Cluster 6')\n",
    "plt.scatter(result[result['label'] == 6].NivelConhecimentoAtual, result[result['label'] == 6].ValorPatrimonio, c = 'black', label = 'Cluster 7')\n",
    "plt.xlabel('Nivel Conhecimento Atual')\n",
    "plt.ylabel('Valor do patrimonio')\n",
    "plt.legend()\n",
    "plt.show()"
   ]
  },
  {
   "cell_type": "code",
   "execution_count": null,
   "metadata": {
    "colab": {
     "base_uri": "https://localhost:8080/",
     "height": 296
    },
    "colab_type": "code",
    "executionInfo": {
     "elapsed": 86905,
     "status": "ok",
     "timestamp": 1585785277739,
     "user": {
      "displayName": "Marcelo Nunes Alves",
      "photoUrl": "https://lh3.googleusercontent.com/a-/AOh14Ggg7j8UpQCWjd1mjJepuWNjOO1BULs-g6UsERA1vQ=s64",
      "userId": "09811685755861607483"
     },
     "user_tz": 180
    },
    "id": "YRqetzTLJPUs",
    "outputId": "b6454c41-782f-451e-c3ed-e7f1810ff04e"
   },
   "outputs": [],
   "source": [
    "plt.scatter(result[result['label'] == 0].ScoreObjetivos, result[result['label'] == 0].ValorPatrimonio, c = 'red', label = 'Cluster 1')\n",
    "plt.scatter(result[result['label'] == 1].ScoreObjetivos, result[result['label'] == 1].ValorPatrimonio, c = 'blue', label = 'Cluster 2')\n",
    "plt.scatter(result[result['label'] == 2].ScoreObjetivos, result[result['label'] == 2].ValorPatrimonio, c = 'green', label = 'Cluster 3')\n",
    "plt.scatter(result[result['label'] == 3].ScoreObjetivos, result[result['label'] == 3].ValorPatrimonio, c = 'cyan', label = 'Cluster 4')\n",
    "plt.scatter(result[result['label'] == 4].ScoreObjetivos, result[result['label'] == 4].ValorPatrimonio, c = 'magenta', label = 'Cluster 5')\n",
    "plt.scatter(result[result['label'] == 5].ScoreObjetivos, result[result['label'] == 5].ValorPatrimonio, c = 'yellow', label = 'Cluster 6')\n",
    "plt.scatter(result[result['label'] == 6].ScoreObjetivos, result[result['label'] == 6].ValorPatrimonio, c = 'black', label = 'Cluster 7')\n",
    "plt.xlabel('Score de objetivo')\n",
    "plt.ylabel('Valor do patrimonio')\n",
    "plt.legend()\n",
    "plt.show()"
   ]
  },
  {
   "cell_type": "markdown",
   "metadata": {
    "colab_type": "text",
    "id": "mbCOP0O9d0Kt"
   },
   "source": [
    "#### Salvar modelo"
   ]
  },
  {
   "cell_type": "code",
   "execution_count": null,
   "metadata": {
    "colab": {},
    "colab_type": "code",
    "id": "9LN-60b9d7ZG"
   },
   "outputs": [],
   "source": [
    "Kmean = KMeans(n_clusters=7)\n",
    "\n",
    "Kmean.fit(cli_train)\n",
    "\n",
    "pickle.dump(Kmean, open('../repository/model_cli_kmean.sav', 'wb'))"
   ]
  },
  {
   "cell_type": "code",
   "execution_count": null,
   "metadata": {
    "colab": {
     "base_uri": "https://localhost:8080/",
     "height": 592
    },
    "colab_type": "code",
    "executionInfo": {
     "elapsed": 1033,
     "status": "ok",
     "timestamp": 1585790029826,
     "user": {
      "displayName": "Marcelo Nunes Alves",
      "photoUrl": "https://lh3.googleusercontent.com/a-/AOh14Ggg7j8UpQCWjd1mjJepuWNjOO1BULs-g6UsERA1vQ=s64",
      "userId": "09811685755861607483"
     },
     "user_tz": 180
    },
    "id": "iS2OUfyediiO",
    "outputId": "5b00f270-abb6-481c-e3c2-07673da69b4b"
   },
   "outputs": [],
   "source": [
    "dfL = pd.DataFrame({'label': Kmean.labels_}, index=clientes_com_investimento.index)\n",
    "alldata = pd.concat([clientes_com_investimento, dfL], axis=1, join='inner')\n",
    "\n",
    "usu_prod = pd.read_csv(\"../repository/usu_prod_group.csv\",sep=',')\n",
    "\n",
    "alldata = pd.merge(usu_prod, alldata, on='Id')\n",
    "groupByClient = alldata\n",
    "groupByClient"
   ]
  },
  {
   "cell_type": "code",
   "execution_count": null,
   "metadata": {
    "colab": {},
    "colab_type": "code",
    "id": "fIBWWfHEdk_X"
   },
   "outputs": [],
   "source": [
    "groupByClient.to_csv('../repository/clientes_groups.csv')"
   ]
  }
 ],
 "metadata": {
  "colab": {
   "authorship_tag": "ABX9TyMV3kRnUTuUMEcDA3Sskg2t",
   "collapsed_sections": [],
   "name": "Cluster - clientes.ipynb",
   "provenance": []
  },
  "kernelspec": {
   "display_name": "Python 3",
   "language": "python",
   "name": "python3"
  },
  "language_info": {
   "codemirror_mode": {
    "name": "ipython",
    "version": 3
   },
   "file_extension": ".py",
   "mimetype": "text/x-python",
   "name": "python",
   "nbconvert_exporter": "python",
   "pygments_lexer": "ipython3",
   "version": "3.7.4"
  }
 },
 "nbformat": 4,
 "nbformat_minor": 1
}
